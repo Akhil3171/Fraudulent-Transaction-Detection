{
 "cells": [
  {
   "cell_type": "code",
   "execution_count": 1,
   "metadata": {},
   "outputs": [],
   "source": [
    "import numpy as np\n",
    "import pandas as pd\n",
    "import matplotlib.pyplot as plt\n",
    "import seaborn as sns\n",
    "\n",
    "import warnings\n",
    "warnings.filterwarnings('ignore')"
   ]
  },
  {
   "cell_type": "code",
   "execution_count": 2,
   "metadata": {},
   "outputs": [],
   "source": [
    "%matplotlib inline"
   ]
  },
  {
   "cell_type": "code",
   "execution_count": 3,
   "metadata": {},
   "outputs": [],
   "source": [
    "df = pd.read_csv('train_data.csv')"
   ]
  },
  {
   "cell_type": "code",
   "execution_count": 4,
   "metadata": {},
   "outputs": [
    {
     "data": {
      "text/html": [
       "<div>\n",
       "<style scoped>\n",
       "    .dataframe tbody tr th:only-of-type {\n",
       "        vertical-align: middle;\n",
       "    }\n",
       "\n",
       "    .dataframe tbody tr th {\n",
       "        vertical-align: top;\n",
       "    }\n",
       "\n",
       "    .dataframe thead th {\n",
       "        text-align: right;\n",
       "    }\n",
       "</style>\n",
       "<table border=\"1\" class=\"dataframe\">\n",
       "  <thead>\n",
       "    <tr style=\"text-align: right;\">\n",
       "      <th></th>\n",
       "      <th>transaction_number</th>\n",
       "      <th>user_id</th>\n",
       "      <th>payment_method</th>\n",
       "      <th>partner_id</th>\n",
       "      <th>partner_category</th>\n",
       "      <th>country</th>\n",
       "      <th>device_type</th>\n",
       "      <th>money_transacted</th>\n",
       "      <th>transaction_initiation</th>\n",
       "      <th>partner_pricing_category</th>\n",
       "      <th>is_fraud</th>\n",
       "    </tr>\n",
       "  </thead>\n",
       "  <tbody>\n",
       "    <tr>\n",
       "      <th>0</th>\n",
       "      <td>144703125000</td>\n",
       "      <td>17539344</td>\n",
       "      <td>sbi_atm_cum_debit_card</td>\n",
       "      <td>47334</td>\n",
       "      <td>cat_1</td>\n",
       "      <td>IND_INR</td>\n",
       "      <td>android_devices</td>\n",
       "      <td>-5.0</td>\n",
       "      <td>2016-11-15 19:16:12+00:00</td>\n",
       "      <td>2</td>\n",
       "      <td>0</td>\n",
       "    </tr>\n",
       "    <tr>\n",
       "      <th>1</th>\n",
       "      <td>77406814453032</td>\n",
       "      <td>24710841</td>\n",
       "      <td>e_wallet_payments</td>\n",
       "      <td>78890</td>\n",
       "      <td>cat_2</td>\n",
       "      <td>IND_INR</td>\n",
       "      <td>other_pcs</td>\n",
       "      <td>100.0</td>\n",
       "      <td>2017-01-11 09:25:33+00:00</td>\n",
       "      <td>2</td>\n",
       "      <td>0</td>\n",
       "    </tr>\n",
       "    <tr>\n",
       "      <th>2</th>\n",
       "      <td>308929485482801</td>\n",
       "      <td>24265476</td>\n",
       "      <td>e_wallet_payments</td>\n",
       "      <td>78890</td>\n",
       "      <td>cat_2</td>\n",
       "      <td>IND_INR</td>\n",
       "      <td>other_pcs</td>\n",
       "      <td>50.0</td>\n",
       "      <td>2016-12-07 07:58:09+00:00</td>\n",
       "      <td>2</td>\n",
       "      <td>0</td>\n",
       "    </tr>\n",
       "    <tr>\n",
       "      <th>3</th>\n",
       "      <td>665270027747073</td>\n",
       "      <td>10240000</td>\n",
       "      <td>other_debit_cards</td>\n",
       "      <td>102557</td>\n",
       "      <td>cat_3</td>\n",
       "      <td>IND_INR</td>\n",
       "      <td>other_pcs</td>\n",
       "      <td>1000.0</td>\n",
       "      <td>2017-01-11 16:15:44+00:00</td>\n",
       "      <td>2</td>\n",
       "      <td>0</td>\n",
       "    </tr>\n",
       "    <tr>\n",
       "      <th>4</th>\n",
       "      <td>38276160171101</td>\n",
       "      <td>5880625</td>\n",
       "      <td>other_debit_cards</td>\n",
       "      <td>118335</td>\n",
       "      <td>cat_1</td>\n",
       "      <td>IND_INR</td>\n",
       "      <td>other_pcs</td>\n",
       "      <td>200.0</td>\n",
       "      <td>2016-11-16 17:04:42+00:00</td>\n",
       "      <td>2</td>\n",
       "      <td>0</td>\n",
       "    </tr>\n",
       "  </tbody>\n",
       "</table>\n",
       "</div>"
      ],
      "text/plain": [
       "   transaction_number   user_id          payment_method  partner_id  \\\n",
       "0        144703125000  17539344  sbi_atm_cum_debit_card       47334   \n",
       "1      77406814453032  24710841       e_wallet_payments       78890   \n",
       "2     308929485482801  24265476       e_wallet_payments       78890   \n",
       "3     665270027747073  10240000       other_debit_cards      102557   \n",
       "4      38276160171101   5880625       other_debit_cards      118335   \n",
       "\n",
       "  partner_category  country      device_type  money_transacted  \\\n",
       "0            cat_1  IND_INR  android_devices              -5.0   \n",
       "1            cat_2  IND_INR        other_pcs             100.0   \n",
       "2            cat_2  IND_INR        other_pcs              50.0   \n",
       "3            cat_3  IND_INR        other_pcs            1000.0   \n",
       "4            cat_1  IND_INR        other_pcs             200.0   \n",
       "\n",
       "      transaction_initiation  partner_pricing_category  is_fraud  \n",
       "0  2016-11-15 19:16:12+00:00                         2         0  \n",
       "1  2017-01-11 09:25:33+00:00                         2         0  \n",
       "2  2016-12-07 07:58:09+00:00                         2         0  \n",
       "3  2017-01-11 16:15:44+00:00                         2         0  \n",
       "4  2016-11-16 17:04:42+00:00                         2         0  "
      ]
     },
     "execution_count": 4,
     "metadata": {},
     "output_type": "execute_result"
    }
   ],
   "source": [
    "df.head()"
   ]
  },
  {
   "cell_type": "code",
   "execution_count": 5,
   "metadata": {},
   "outputs": [
    {
     "data": {
      "text/plain": [
       "(76529, 11)"
      ]
     },
     "execution_count": 5,
     "metadata": {},
     "output_type": "execute_result"
    }
   ],
   "source": [
    "df.shape"
   ]
  },
  {
   "cell_type": "code",
   "execution_count": 6,
   "metadata": {},
   "outputs": [
    {
     "name": "stdout",
     "output_type": "stream",
     "text": [
      "<class 'pandas.core.frame.DataFrame'>\n",
      "RangeIndex: 76529 entries, 0 to 76528\n",
      "Data columns (total 11 columns):\n",
      " #   Column                    Non-Null Count  Dtype  \n",
      "---  ------                    --------------  -----  \n",
      " 0   transaction_number        76529 non-null  int64  \n",
      " 1   user_id                   76529 non-null  int64  \n",
      " 2   payment_method            76529 non-null  object \n",
      " 3   partner_id                76529 non-null  int64  \n",
      " 4   partner_category          76529 non-null  object \n",
      " 5   country                   76529 non-null  object \n",
      " 6   device_type               76529 non-null  object \n",
      " 7   money_transacted          76529 non-null  float64\n",
      " 8   transaction_initiation    76529 non-null  object \n",
      " 9   partner_pricing_category  76529 non-null  int64  \n",
      " 10  is_fraud                  76529 non-null  int64  \n",
      "dtypes: float64(1), int64(5), object(5)\n",
      "memory usage: 6.4+ MB\n"
     ]
    }
   ],
   "source": [
    "df.info()"
   ]
  },
  {
   "cell_type": "code",
   "execution_count": 7,
   "metadata": {},
   "outputs": [
    {
     "data": {
      "text/plain": [
       "transaction_number          76529\n",
       "user_id                      3594\n",
       "payment_method                  6\n",
       "partner_id                     23\n",
       "partner_category                9\n",
       "country                         1\n",
       "device_type                     4\n",
       "money_transacted             1454\n",
       "transaction_initiation      75811\n",
       "partner_pricing_category        4\n",
       "is_fraud                        2\n",
       "dtype: int64"
      ]
     },
     "execution_count": 7,
     "metadata": {},
     "output_type": "execute_result"
    }
   ],
   "source": [
    "df.nunique()    \n",
    "# Transaction_id is unique, transaction initiated time is almost distinct unique, country column is same for all the tuples,\n",
    "# so we can remove it"
   ]
  },
  {
   "cell_type": "code",
   "execution_count": 8,
   "metadata": {},
   "outputs": [
    {
     "data": {
      "text/plain": [
       "0    76375\n",
       "1      154\n",
       "Name: is_fraud, dtype: int64"
      ]
     },
     "execution_count": 8,
     "metadata": {},
     "output_type": "execute_result"
    }
   ],
   "source": [
    "df['is_fraud'].value_counts()  # Target variable is highly imbalance"
   ]
  },
  {
   "cell_type": "code",
   "execution_count": 9,
   "metadata": {},
   "outputs": [],
   "source": [
    "df.drop(['transaction_number', 'country'], axis = 1, inplace = True)"
   ]
  },
  {
   "cell_type": "code",
   "execution_count": 10,
   "metadata": {},
   "outputs": [
    {
     "data": {
      "text/html": [
       "<div>\n",
       "<style scoped>\n",
       "    .dataframe tbody tr th:only-of-type {\n",
       "        vertical-align: middle;\n",
       "    }\n",
       "\n",
       "    .dataframe tbody tr th {\n",
       "        vertical-align: top;\n",
       "    }\n",
       "\n",
       "    .dataframe thead th {\n",
       "        text-align: right;\n",
       "    }\n",
       "</style>\n",
       "<table border=\"1\" class=\"dataframe\">\n",
       "  <thead>\n",
       "    <tr style=\"text-align: right;\">\n",
       "      <th></th>\n",
       "      <th>user_id</th>\n",
       "      <th>payment_method</th>\n",
       "      <th>partner_id</th>\n",
       "      <th>partner_category</th>\n",
       "      <th>device_type</th>\n",
       "      <th>money_transacted</th>\n",
       "      <th>transaction_initiation</th>\n",
       "      <th>partner_pricing_category</th>\n",
       "      <th>is_fraud</th>\n",
       "    </tr>\n",
       "  </thead>\n",
       "  <tbody>\n",
       "    <tr>\n",
       "      <th>0</th>\n",
       "      <td>17539344</td>\n",
       "      <td>sbi_atm_cum_debit_card</td>\n",
       "      <td>47334</td>\n",
       "      <td>cat_1</td>\n",
       "      <td>android_devices</td>\n",
       "      <td>-5.0</td>\n",
       "      <td>2016-11-15 19:16:12+00:00</td>\n",
       "      <td>2</td>\n",
       "      <td>0</td>\n",
       "    </tr>\n",
       "    <tr>\n",
       "      <th>1</th>\n",
       "      <td>24710841</td>\n",
       "      <td>e_wallet_payments</td>\n",
       "      <td>78890</td>\n",
       "      <td>cat_2</td>\n",
       "      <td>other_pcs</td>\n",
       "      <td>100.0</td>\n",
       "      <td>2017-01-11 09:25:33+00:00</td>\n",
       "      <td>2</td>\n",
       "      <td>0</td>\n",
       "    </tr>\n",
       "    <tr>\n",
       "      <th>2</th>\n",
       "      <td>24265476</td>\n",
       "      <td>e_wallet_payments</td>\n",
       "      <td>78890</td>\n",
       "      <td>cat_2</td>\n",
       "      <td>other_pcs</td>\n",
       "      <td>50.0</td>\n",
       "      <td>2016-12-07 07:58:09+00:00</td>\n",
       "      <td>2</td>\n",
       "      <td>0</td>\n",
       "    </tr>\n",
       "    <tr>\n",
       "      <th>3</th>\n",
       "      <td>10240000</td>\n",
       "      <td>other_debit_cards</td>\n",
       "      <td>102557</td>\n",
       "      <td>cat_3</td>\n",
       "      <td>other_pcs</td>\n",
       "      <td>1000.0</td>\n",
       "      <td>2017-01-11 16:15:44+00:00</td>\n",
       "      <td>2</td>\n",
       "      <td>0</td>\n",
       "    </tr>\n",
       "    <tr>\n",
       "      <th>4</th>\n",
       "      <td>5880625</td>\n",
       "      <td>other_debit_cards</td>\n",
       "      <td>118335</td>\n",
       "      <td>cat_1</td>\n",
       "      <td>other_pcs</td>\n",
       "      <td>200.0</td>\n",
       "      <td>2016-11-16 17:04:42+00:00</td>\n",
       "      <td>2</td>\n",
       "      <td>0</td>\n",
       "    </tr>\n",
       "  </tbody>\n",
       "</table>\n",
       "</div>"
      ],
      "text/plain": [
       "    user_id          payment_method  partner_id partner_category  \\\n",
       "0  17539344  sbi_atm_cum_debit_card       47334            cat_1   \n",
       "1  24710841       e_wallet_payments       78890            cat_2   \n",
       "2  24265476       e_wallet_payments       78890            cat_2   \n",
       "3  10240000       other_debit_cards      102557            cat_3   \n",
       "4   5880625       other_debit_cards      118335            cat_1   \n",
       "\n",
       "       device_type  money_transacted     transaction_initiation  \\\n",
       "0  android_devices              -5.0  2016-11-15 19:16:12+00:00   \n",
       "1        other_pcs             100.0  2017-01-11 09:25:33+00:00   \n",
       "2        other_pcs              50.0  2016-12-07 07:58:09+00:00   \n",
       "3        other_pcs            1000.0  2017-01-11 16:15:44+00:00   \n",
       "4        other_pcs             200.0  2016-11-16 17:04:42+00:00   \n",
       "\n",
       "   partner_pricing_category  is_fraud  \n",
       "0                         2         0  \n",
       "1                         2         0  \n",
       "2                         2         0  \n",
       "3                         2         0  \n",
       "4                         2         0  "
      ]
     },
     "execution_count": 10,
     "metadata": {},
     "output_type": "execute_result"
    }
   ],
   "source": [
    "df.head()"
   ]
  },
  {
   "cell_type": "code",
   "execution_count": 11,
   "metadata": {},
   "outputs": [
    {
     "data": {
      "text/plain": [
       "user_id                     0\n",
       "payment_method              0\n",
       "partner_id                  0\n",
       "partner_category            0\n",
       "device_type                 0\n",
       "money_transacted            0\n",
       "transaction_initiation      0\n",
       "partner_pricing_category    0\n",
       "is_fraud                    0\n",
       "dtype: int64"
      ]
     },
     "execution_count": 11,
     "metadata": {},
     "output_type": "execute_result"
    }
   ],
   "source": [
    "df.isna().sum()  # There are no null values"
   ]
  },
  {
   "cell_type": "code",
   "execution_count": 12,
   "metadata": {},
   "outputs": [
    {
     "data": {
      "text/html": [
       "<div>\n",
       "<style scoped>\n",
       "    .dataframe tbody tr th:only-of-type {\n",
       "        vertical-align: middle;\n",
       "    }\n",
       "\n",
       "    .dataframe tbody tr th {\n",
       "        vertical-align: top;\n",
       "    }\n",
       "\n",
       "    .dataframe thead th {\n",
       "        text-align: right;\n",
       "    }\n",
       "</style>\n",
       "<table border=\"1\" class=\"dataframe\">\n",
       "  <thead>\n",
       "    <tr style=\"text-align: right;\">\n",
       "      <th></th>\n",
       "      <th>user_id</th>\n",
       "      <th>payment_method</th>\n",
       "      <th>partner_id</th>\n",
       "      <th>partner_category</th>\n",
       "      <th>device_type</th>\n",
       "      <th>money_transacted</th>\n",
       "      <th>transaction_initiation</th>\n",
       "      <th>partner_pricing_category</th>\n",
       "      <th>is_fraud</th>\n",
       "    </tr>\n",
       "  </thead>\n",
       "  <tbody>\n",
       "    <tr>\n",
       "      <th>count</th>\n",
       "      <td>7.652900e+04</td>\n",
       "      <td>76529</td>\n",
       "      <td>76529.000000</td>\n",
       "      <td>76529</td>\n",
       "      <td>76529</td>\n",
       "      <td>76529.000000</td>\n",
       "      <td>76529</td>\n",
       "      <td>76529.000000</td>\n",
       "      <td>76529.000000</td>\n",
       "    </tr>\n",
       "    <tr>\n",
       "      <th>unique</th>\n",
       "      <td>NaN</td>\n",
       "      <td>6</td>\n",
       "      <td>NaN</td>\n",
       "      <td>9</td>\n",
       "      <td>4</td>\n",
       "      <td>NaN</td>\n",
       "      <td>75811</td>\n",
       "      <td>NaN</td>\n",
       "      <td>NaN</td>\n",
       "    </tr>\n",
       "    <tr>\n",
       "      <th>top</th>\n",
       "      <td>NaN</td>\n",
       "      <td>sbi_atm_cum_debit_card</td>\n",
       "      <td>NaN</td>\n",
       "      <td>cat_1</td>\n",
       "      <td>other_pcs</td>\n",
       "      <td>NaN</td>\n",
       "      <td>2016-12-24 16:30:13+00:00</td>\n",
       "      <td>NaN</td>\n",
       "      <td>NaN</td>\n",
       "    </tr>\n",
       "    <tr>\n",
       "      <th>freq</th>\n",
       "      <td>NaN</td>\n",
       "      <td>30538</td>\n",
       "      <td>NaN</td>\n",
       "      <td>36306</td>\n",
       "      <td>45560</td>\n",
       "      <td>NaN</td>\n",
       "      <td>12</td>\n",
       "      <td>NaN</td>\n",
       "      <td>NaN</td>\n",
       "    </tr>\n",
       "    <tr>\n",
       "      <th>mean</th>\n",
       "      <td>1.247483e+07</td>\n",
       "      <td>NaN</td>\n",
       "      <td>58497.189105</td>\n",
       "      <td>NaN</td>\n",
       "      <td>NaN</td>\n",
       "      <td>132.724348</td>\n",
       "      <td>NaN</td>\n",
       "      <td>2.255707</td>\n",
       "      <td>0.002012</td>\n",
       "    </tr>\n",
       "    <tr>\n",
       "      <th>std</th>\n",
       "      <td>1.205878e+07</td>\n",
       "      <td>NaN</td>\n",
       "      <td>36740.216787</td>\n",
       "      <td>NaN</td>\n",
       "      <td>NaN</td>\n",
       "      <td>2350.110900</td>\n",
       "      <td>NaN</td>\n",
       "      <td>0.732174</td>\n",
       "      <td>0.044814</td>\n",
       "    </tr>\n",
       "    <tr>\n",
       "      <th>min</th>\n",
       "      <td>1.000000e+00</td>\n",
       "      <td>NaN</td>\n",
       "      <td>7889.000000</td>\n",
       "      <td>NaN</td>\n",
       "      <td>NaN</td>\n",
       "      <td>-20000.000000</td>\n",
       "      <td>NaN</td>\n",
       "      <td>0.000000</td>\n",
       "      <td>0.000000</td>\n",
       "    </tr>\n",
       "    <tr>\n",
       "      <th>25%</th>\n",
       "      <td>3.515625e+06</td>\n",
       "      <td>NaN</td>\n",
       "      <td>23667.000000</td>\n",
       "      <td>NaN</td>\n",
       "      <td>NaN</td>\n",
       "      <td>-1.000000</td>\n",
       "      <td>NaN</td>\n",
       "      <td>2.000000</td>\n",
       "      <td>0.000000</td>\n",
       "    </tr>\n",
       "    <tr>\n",
       "      <th>50%</th>\n",
       "      <td>9.753129e+06</td>\n",
       "      <td>NaN</td>\n",
       "      <td>47334.000000</td>\n",
       "      <td>NaN</td>\n",
       "      <td>NaN</td>\n",
       "      <td>20.000000</td>\n",
       "      <td>NaN</td>\n",
       "      <td>2.000000</td>\n",
       "      <td>0.000000</td>\n",
       "    </tr>\n",
       "    <tr>\n",
       "      <th>75%</th>\n",
       "      <td>1.788444e+07</td>\n",
       "      <td>NaN</td>\n",
       "      <td>78890.000000</td>\n",
       "      <td>NaN</td>\n",
       "      <td>NaN</td>\n",
       "      <td>52.000000</td>\n",
       "      <td>NaN</td>\n",
       "      <td>2.000000</td>\n",
       "      <td>0.000000</td>\n",
       "    </tr>\n",
       "    <tr>\n",
       "      <th>max</th>\n",
       "      <td>5.592048e+07</td>\n",
       "      <td>NaN</td>\n",
       "      <td>213003.000000</td>\n",
       "      <td>NaN</td>\n",
       "      <td>NaN</td>\n",
       "      <td>197217.760000</td>\n",
       "      <td>NaN</td>\n",
       "      <td>4.000000</td>\n",
       "      <td>1.000000</td>\n",
       "    </tr>\n",
       "  </tbody>\n",
       "</table>\n",
       "</div>"
      ],
      "text/plain": [
       "             user_id          payment_method     partner_id partner_category  \\\n",
       "count   7.652900e+04                   76529   76529.000000            76529   \n",
       "unique           NaN                       6            NaN                9   \n",
       "top              NaN  sbi_atm_cum_debit_card            NaN            cat_1   \n",
       "freq             NaN                   30538            NaN            36306   \n",
       "mean    1.247483e+07                     NaN   58497.189105              NaN   \n",
       "std     1.205878e+07                     NaN   36740.216787              NaN   \n",
       "min     1.000000e+00                     NaN    7889.000000              NaN   \n",
       "25%     3.515625e+06                     NaN   23667.000000              NaN   \n",
       "50%     9.753129e+06                     NaN   47334.000000              NaN   \n",
       "75%     1.788444e+07                     NaN   78890.000000              NaN   \n",
       "max     5.592048e+07                     NaN  213003.000000              NaN   \n",
       "\n",
       "       device_type  money_transacted     transaction_initiation  \\\n",
       "count        76529      76529.000000                      76529   \n",
       "unique           4               NaN                      75811   \n",
       "top      other_pcs               NaN  2016-12-24 16:30:13+00:00   \n",
       "freq         45560               NaN                         12   \n",
       "mean           NaN        132.724348                        NaN   \n",
       "std            NaN       2350.110900                        NaN   \n",
       "min            NaN     -20000.000000                        NaN   \n",
       "25%            NaN         -1.000000                        NaN   \n",
       "50%            NaN         20.000000                        NaN   \n",
       "75%            NaN         52.000000                        NaN   \n",
       "max            NaN     197217.760000                        NaN   \n",
       "\n",
       "        partner_pricing_category      is_fraud  \n",
       "count               76529.000000  76529.000000  \n",
       "unique                       NaN           NaN  \n",
       "top                          NaN           NaN  \n",
       "freq                         NaN           NaN  \n",
       "mean                    2.255707      0.002012  \n",
       "std                     0.732174      0.044814  \n",
       "min                     0.000000      0.000000  \n",
       "25%                     2.000000      0.000000  \n",
       "50%                     2.000000      0.000000  \n",
       "75%                     2.000000      0.000000  \n",
       "max                     4.000000      1.000000  "
      ]
     },
     "execution_count": 12,
     "metadata": {},
     "output_type": "execute_result"
    }
   ],
   "source": [
    "df.describe(include = 'all')"
   ]
  },
  {
   "cell_type": "code",
   "execution_count": 13,
   "metadata": {},
   "outputs": [
    {
     "data": {
      "text/plain": [
       "Index(['user_id', 'payment_method', 'partner_id', 'partner_category',\n",
       "       'device_type', 'money_transacted', 'transaction_initiation',\n",
       "       'partner_pricing_category', 'is_fraud'],\n",
       "      dtype='object')"
      ]
     },
     "execution_count": 13,
     "metadata": {},
     "output_type": "execute_result"
    }
   ],
   "source": [
    "df.columns"
   ]
  },
  {
   "cell_type": "code",
   "execution_count": 14,
   "metadata": {},
   "outputs": [
    {
     "name": "stdout",
     "output_type": "stream",
     "text": [
      "**************************************\n",
      "\n",
      "\n",
      "Featue payment_method has 6 unique variables \n",
      "\n",
      " The list of unique variables is ['sbi_atm_cum_debit_card', 'e_wallet_payments', 'other_debit_cards', 'visa_master_debit_cards', 'visa_master_credit_cards', 'unified_payments_interface'] \n",
      "\n",
      " and their count is \n",
      "\n",
      " sbi_atm_cum_debit_card        30538\n",
      "e_wallet_payments             27384\n",
      "visa_master_debit_cards       11643\n",
      "other_debit_cards              4495\n",
      "visa_master_credit_cards       2454\n",
      "unified_payments_interface       15\n",
      "Name: payment_method, dtype: int64 \n",
      "**************************************\n",
      "\n",
      "\n",
      "Featue partner_id has 23 unique variables \n",
      "\n",
      " The list of unique variables is [47334, 78890, 102557, 118335, 23667, 7889, 31556, 86779, 149891, 165669, 110446, 189336, 55223, 63112, 15778, 157780, 213003, 173558, 39445, 126224, 71001, 94668, 181447] \n",
      "\n",
      " and their count is \n",
      "\n",
      " 47334     26105\n",
      "23667     19526\n",
      "78890     12273\n",
      "118335     9546\n",
      "7889       2317\n",
      "31556      1892\n",
      "165669     1216\n",
      "86779      1121\n",
      "149891      767\n",
      "110446      640\n",
      "102557      231\n",
      "15778       189\n",
      "157780      165\n",
      "63112       159\n",
      "189336      146\n",
      "173558       89\n",
      "55223        75\n",
      "213003       25\n",
      "39445        19\n",
      "71001        15\n",
      "126224       10\n",
      "94668         2\n",
      "181447        1\n",
      "Name: partner_id, dtype: int64 \n",
      "**************************************\n",
      "\n",
      "\n",
      "Featue partner_category has 9 unique variables \n",
      "\n",
      " The list of unique variables is ['cat_1', 'cat_2', 'cat_3', 'cat_4', 'cat_5', 'cat_6', 'cat_7', 'cat_8', 'cat_9'] \n",
      "\n",
      " and their count is \n",
      "\n",
      " cat_1    36306\n",
      "cat_2    36019\n",
      "cat_3     1536\n",
      "cat_4     1310\n",
      "cat_5     1026\n",
      "cat_7      165\n",
      "cat_6      146\n",
      "cat_8       19\n",
      "cat_9        2\n",
      "Name: partner_category, dtype: int64 \n",
      "**************************************\n",
      "\n",
      "\n",
      "Featue device_type has 4 unique variables \n",
      "\n",
      " The list of unique variables is ['android_devices', 'other_pcs', 'windows_pcs', 'ios_devices'] \n",
      "\n",
      " and their count is \n",
      "\n",
      " other_pcs          45560\n",
      "android_devices    29662\n",
      "ios_devices          876\n",
      "windows_pcs          431\n",
      "Name: device_type, dtype: int64 \n",
      "**************************************\n",
      "\n",
      "\n",
      "Featue partner_pricing_category has 4 unique variables \n",
      "\n",
      " The list of unique variables is [2, 4, 1, 0] \n",
      "\n",
      " and their count is \n",
      "\n",
      " 2    63899\n",
      "4    10833\n",
      "1     1497\n",
      "0      300\n",
      "Name: partner_pricing_category, dtype: int64 \n",
      "**************************************\n",
      "\n",
      "\n",
      "Featue is_fraud has 2 unique variables \n",
      "\n",
      " The list of unique variables is [0, 1] \n",
      "\n",
      " and their count is \n",
      "\n",
      " 0    76375\n",
      "1      154\n",
      "Name: is_fraud, dtype: int64 \n"
     ]
    }
   ],
   "source": [
    "for i in ['payment_method', 'partner_id', 'partner_category',\n",
    "       'device_type', 'partner_pricing_category', 'is_fraud']:\n",
    "    x = df[i].nunique()\n",
    "    y = list(df[i].unique())\n",
    "    z = df[i].value_counts()\n",
    "    print('**************************************')\n",
    "    print('\\n')\n",
    "    print(f'Featue {i} has {x} unique variables \\n\\n The list of unique variables is {y} \\n\\n and their count is \\n\\n {z} ')"
   ]
  },
  {
   "cell_type": "code",
   "execution_count": 15,
   "metadata": {},
   "outputs": [],
   "source": [
    "cat_cols = ['user_id','payment_method','partner_id','partner_category', 'device_type', 'partner_pricing_category', 'is_fraud']\n",
    "df[cat_cols] = df[cat_cols].astype('category')"
   ]
  },
  {
   "cell_type": "code",
   "execution_count": 16,
   "metadata": {},
   "outputs": [],
   "source": [
    "df['transaction_initiation'] = pd.to_datetime(df['transaction_initiation'])"
   ]
  },
  {
   "cell_type": "code",
   "execution_count": 17,
   "metadata": {},
   "outputs": [],
   "source": [
    "df['transaction_year'] = df['transaction_initiation'].dt.year\n",
    "df['transaction_date'] = df['transaction_initiation'].dt.day\n",
    "df['transaction_month']=df['transaction_initiation'].dt.month\n",
    "df['transaction_hour'] = df['transaction_initiation'].dt.hour\n",
    "df['transaction_weekday']=df['transaction_initiation'].dt.weekday\n"
   ]
  },
  {
   "cell_type": "code",
   "execution_count": 18,
   "metadata": {},
   "outputs": [
    {
     "data": {
      "text/plain": [
       "user_id                                category\n",
       "payment_method                         category\n",
       "partner_id                             category\n",
       "partner_category                       category\n",
       "device_type                            category\n",
       "money_transacted                        float64\n",
       "transaction_initiation      datetime64[ns, UTC]\n",
       "partner_pricing_category               category\n",
       "is_fraud                               category\n",
       "transaction_year                          int64\n",
       "transaction_date                          int64\n",
       "transaction_month                         int64\n",
       "transaction_hour                          int64\n",
       "transaction_weekday                       int64\n",
       "dtype: object"
      ]
     },
     "execution_count": 18,
     "metadata": {},
     "output_type": "execute_result"
    }
   ],
   "source": [
    "df.dtypes"
   ]
  },
  {
   "cell_type": "code",
   "execution_count": 19,
   "metadata": {},
   "outputs": [
    {
     "data": {
      "text/html": [
       "<div>\n",
       "<style scoped>\n",
       "    .dataframe tbody tr th:only-of-type {\n",
       "        vertical-align: middle;\n",
       "    }\n",
       "\n",
       "    .dataframe tbody tr th {\n",
       "        vertical-align: top;\n",
       "    }\n",
       "\n",
       "    .dataframe thead th {\n",
       "        text-align: right;\n",
       "    }\n",
       "</style>\n",
       "<table border=\"1\" class=\"dataframe\">\n",
       "  <thead>\n",
       "    <tr style=\"text-align: right;\">\n",
       "      <th></th>\n",
       "      <th>user_id</th>\n",
       "      <th>payment_method</th>\n",
       "      <th>partner_id</th>\n",
       "      <th>partner_category</th>\n",
       "      <th>device_type</th>\n",
       "      <th>money_transacted</th>\n",
       "      <th>transaction_initiation</th>\n",
       "      <th>partner_pricing_category</th>\n",
       "      <th>is_fraud</th>\n",
       "      <th>transaction_year</th>\n",
       "      <th>transaction_date</th>\n",
       "      <th>transaction_month</th>\n",
       "      <th>transaction_hour</th>\n",
       "      <th>transaction_weekday</th>\n",
       "    </tr>\n",
       "  </thead>\n",
       "  <tbody>\n",
       "    <tr>\n",
       "      <th>0</th>\n",
       "      <td>17539344</td>\n",
       "      <td>sbi_atm_cum_debit_card</td>\n",
       "      <td>47334</td>\n",
       "      <td>cat_1</td>\n",
       "      <td>android_devices</td>\n",
       "      <td>-5.0</td>\n",
       "      <td>2016-11-15 19:16:12+00:00</td>\n",
       "      <td>2</td>\n",
       "      <td>0</td>\n",
       "      <td>2016</td>\n",
       "      <td>15</td>\n",
       "      <td>11</td>\n",
       "      <td>19</td>\n",
       "      <td>1</td>\n",
       "    </tr>\n",
       "    <tr>\n",
       "      <th>1</th>\n",
       "      <td>24710841</td>\n",
       "      <td>e_wallet_payments</td>\n",
       "      <td>78890</td>\n",
       "      <td>cat_2</td>\n",
       "      <td>other_pcs</td>\n",
       "      <td>100.0</td>\n",
       "      <td>2017-01-11 09:25:33+00:00</td>\n",
       "      <td>2</td>\n",
       "      <td>0</td>\n",
       "      <td>2017</td>\n",
       "      <td>11</td>\n",
       "      <td>1</td>\n",
       "      <td>9</td>\n",
       "      <td>2</td>\n",
       "    </tr>\n",
       "    <tr>\n",
       "      <th>2</th>\n",
       "      <td>24265476</td>\n",
       "      <td>e_wallet_payments</td>\n",
       "      <td>78890</td>\n",
       "      <td>cat_2</td>\n",
       "      <td>other_pcs</td>\n",
       "      <td>50.0</td>\n",
       "      <td>2016-12-07 07:58:09+00:00</td>\n",
       "      <td>2</td>\n",
       "      <td>0</td>\n",
       "      <td>2016</td>\n",
       "      <td>7</td>\n",
       "      <td>12</td>\n",
       "      <td>7</td>\n",
       "      <td>2</td>\n",
       "    </tr>\n",
       "    <tr>\n",
       "      <th>3</th>\n",
       "      <td>10240000</td>\n",
       "      <td>other_debit_cards</td>\n",
       "      <td>102557</td>\n",
       "      <td>cat_3</td>\n",
       "      <td>other_pcs</td>\n",
       "      <td>1000.0</td>\n",
       "      <td>2017-01-11 16:15:44+00:00</td>\n",
       "      <td>2</td>\n",
       "      <td>0</td>\n",
       "      <td>2017</td>\n",
       "      <td>11</td>\n",
       "      <td>1</td>\n",
       "      <td>16</td>\n",
       "      <td>2</td>\n",
       "    </tr>\n",
       "    <tr>\n",
       "      <th>4</th>\n",
       "      <td>5880625</td>\n",
       "      <td>other_debit_cards</td>\n",
       "      <td>118335</td>\n",
       "      <td>cat_1</td>\n",
       "      <td>other_pcs</td>\n",
       "      <td>200.0</td>\n",
       "      <td>2016-11-16 17:04:42+00:00</td>\n",
       "      <td>2</td>\n",
       "      <td>0</td>\n",
       "      <td>2016</td>\n",
       "      <td>16</td>\n",
       "      <td>11</td>\n",
       "      <td>17</td>\n",
       "      <td>2</td>\n",
       "    </tr>\n",
       "  </tbody>\n",
       "</table>\n",
       "</div>"
      ],
      "text/plain": [
       "    user_id          payment_method partner_id partner_category  \\\n",
       "0  17539344  sbi_atm_cum_debit_card      47334            cat_1   \n",
       "1  24710841       e_wallet_payments      78890            cat_2   \n",
       "2  24265476       e_wallet_payments      78890            cat_2   \n",
       "3  10240000       other_debit_cards     102557            cat_3   \n",
       "4   5880625       other_debit_cards     118335            cat_1   \n",
       "\n",
       "       device_type  money_transacted    transaction_initiation  \\\n",
       "0  android_devices              -5.0 2016-11-15 19:16:12+00:00   \n",
       "1        other_pcs             100.0 2017-01-11 09:25:33+00:00   \n",
       "2        other_pcs              50.0 2016-12-07 07:58:09+00:00   \n",
       "3        other_pcs            1000.0 2017-01-11 16:15:44+00:00   \n",
       "4        other_pcs             200.0 2016-11-16 17:04:42+00:00   \n",
       "\n",
       "  partner_pricing_category is_fraud  transaction_year  transaction_date  \\\n",
       "0                        2        0              2016                15   \n",
       "1                        2        0              2017                11   \n",
       "2                        2        0              2016                 7   \n",
       "3                        2        0              2017                11   \n",
       "4                        2        0              2016                16   \n",
       "\n",
       "   transaction_month  transaction_hour  transaction_weekday  \n",
       "0                 11                19                    1  \n",
       "1                  1                 9                    2  \n",
       "2                 12                 7                    2  \n",
       "3                  1                16                    2  \n",
       "4                 11                17                    2  "
      ]
     },
     "execution_count": 19,
     "metadata": {},
     "output_type": "execute_result"
    }
   ],
   "source": [
    "df.head()"
   ]
  },
  {
   "cell_type": "code",
   "execution_count": 20,
   "metadata": {},
   "outputs": [],
   "source": [
    "df.drop('transaction_initiation', axis = 1, inplace = True)"
   ]
  },
  {
   "cell_type": "code",
   "execution_count": 21,
   "metadata": {},
   "outputs": [
    {
     "data": {
      "text/html": [
       "<div>\n",
       "<style scoped>\n",
       "    .dataframe tbody tr th:only-of-type {\n",
       "        vertical-align: middle;\n",
       "    }\n",
       "\n",
       "    .dataframe tbody tr th {\n",
       "        vertical-align: top;\n",
       "    }\n",
       "\n",
       "    .dataframe thead th {\n",
       "        text-align: right;\n",
       "    }\n",
       "</style>\n",
       "<table border=\"1\" class=\"dataframe\">\n",
       "  <thead>\n",
       "    <tr style=\"text-align: right;\">\n",
       "      <th></th>\n",
       "      <th>user_id</th>\n",
       "      <th>payment_method</th>\n",
       "      <th>partner_id</th>\n",
       "      <th>partner_category</th>\n",
       "      <th>device_type</th>\n",
       "      <th>money_transacted</th>\n",
       "      <th>partner_pricing_category</th>\n",
       "      <th>is_fraud</th>\n",
       "      <th>transaction_year</th>\n",
       "      <th>transaction_date</th>\n",
       "      <th>transaction_month</th>\n",
       "      <th>transaction_hour</th>\n",
       "      <th>transaction_weekday</th>\n",
       "    </tr>\n",
       "  </thead>\n",
       "  <tbody>\n",
       "    <tr>\n",
       "      <th>count</th>\n",
       "      <td>76529.0</td>\n",
       "      <td>76529</td>\n",
       "      <td>76529.0</td>\n",
       "      <td>76529</td>\n",
       "      <td>76529</td>\n",
       "      <td>76529.000000</td>\n",
       "      <td>76529.0</td>\n",
       "      <td>76529.0</td>\n",
       "      <td>76529.000000</td>\n",
       "      <td>76529.000000</td>\n",
       "      <td>76529.000000</td>\n",
       "      <td>76529.000000</td>\n",
       "      <td>76529.000000</td>\n",
       "    </tr>\n",
       "    <tr>\n",
       "      <th>unique</th>\n",
       "      <td>3594.0</td>\n",
       "      <td>6</td>\n",
       "      <td>23.0</td>\n",
       "      <td>9</td>\n",
       "      <td>4</td>\n",
       "      <td>NaN</td>\n",
       "      <td>4.0</td>\n",
       "      <td>2.0</td>\n",
       "      <td>NaN</td>\n",
       "      <td>NaN</td>\n",
       "      <td>NaN</td>\n",
       "      <td>NaN</td>\n",
       "      <td>NaN</td>\n",
       "    </tr>\n",
       "    <tr>\n",
       "      <th>top</th>\n",
       "      <td>53919649.0</td>\n",
       "      <td>sbi_atm_cum_debit_card</td>\n",
       "      <td>47334.0</td>\n",
       "      <td>cat_1</td>\n",
       "      <td>other_pcs</td>\n",
       "      <td>NaN</td>\n",
       "      <td>2.0</td>\n",
       "      <td>0.0</td>\n",
       "      <td>NaN</td>\n",
       "      <td>NaN</td>\n",
       "      <td>NaN</td>\n",
       "      <td>NaN</td>\n",
       "      <td>NaN</td>\n",
       "    </tr>\n",
       "    <tr>\n",
       "      <th>freq</th>\n",
       "      <td>3240.0</td>\n",
       "      <td>30538</td>\n",
       "      <td>26105.0</td>\n",
       "      <td>36306</td>\n",
       "      <td>45560</td>\n",
       "      <td>NaN</td>\n",
       "      <td>63899.0</td>\n",
       "      <td>76375.0</td>\n",
       "      <td>NaN</td>\n",
       "      <td>NaN</td>\n",
       "      <td>NaN</td>\n",
       "      <td>NaN</td>\n",
       "      <td>NaN</td>\n",
       "    </tr>\n",
       "    <tr>\n",
       "      <th>mean</th>\n",
       "      <td>NaN</td>\n",
       "      <td>NaN</td>\n",
       "      <td>NaN</td>\n",
       "      <td>NaN</td>\n",
       "      <td>NaN</td>\n",
       "      <td>132.724348</td>\n",
       "      <td>NaN</td>\n",
       "      <td>NaN</td>\n",
       "      <td>2016.496100</td>\n",
       "      <td>15.909551</td>\n",
       "      <td>6.576958</td>\n",
       "      <td>12.452260</td>\n",
       "      <td>2.976911</td>\n",
       "    </tr>\n",
       "    <tr>\n",
       "      <th>std</th>\n",
       "      <td>NaN</td>\n",
       "      <td>NaN</td>\n",
       "      <td>NaN</td>\n",
       "      <td>NaN</td>\n",
       "      <td>NaN</td>\n",
       "      <td>2350.110900</td>\n",
       "      <td>NaN</td>\n",
       "      <td>NaN</td>\n",
       "      <td>0.499988</td>\n",
       "      <td>8.956141</td>\n",
       "      <td>5.223658</td>\n",
       "      <td>4.850698</td>\n",
       "      <td>1.929435</td>\n",
       "    </tr>\n",
       "    <tr>\n",
       "      <th>min</th>\n",
       "      <td>NaN</td>\n",
       "      <td>NaN</td>\n",
       "      <td>NaN</td>\n",
       "      <td>NaN</td>\n",
       "      <td>NaN</td>\n",
       "      <td>-20000.000000</td>\n",
       "      <td>NaN</td>\n",
       "      <td>NaN</td>\n",
       "      <td>2016.000000</td>\n",
       "      <td>1.000000</td>\n",
       "      <td>1.000000</td>\n",
       "      <td>0.000000</td>\n",
       "      <td>0.000000</td>\n",
       "    </tr>\n",
       "    <tr>\n",
       "      <th>25%</th>\n",
       "      <td>NaN</td>\n",
       "      <td>NaN</td>\n",
       "      <td>NaN</td>\n",
       "      <td>NaN</td>\n",
       "      <td>NaN</td>\n",
       "      <td>-1.000000</td>\n",
       "      <td>NaN</td>\n",
       "      <td>NaN</td>\n",
       "      <td>2016.000000</td>\n",
       "      <td>8.000000</td>\n",
       "      <td>1.000000</td>\n",
       "      <td>8.000000</td>\n",
       "      <td>2.000000</td>\n",
       "    </tr>\n",
       "    <tr>\n",
       "      <th>50%</th>\n",
       "      <td>NaN</td>\n",
       "      <td>NaN</td>\n",
       "      <td>NaN</td>\n",
       "      <td>NaN</td>\n",
       "      <td>NaN</td>\n",
       "      <td>20.000000</td>\n",
       "      <td>NaN</td>\n",
       "      <td>NaN</td>\n",
       "      <td>2016.000000</td>\n",
       "      <td>16.000000</td>\n",
       "      <td>11.000000</td>\n",
       "      <td>13.000000</td>\n",
       "      <td>2.000000</td>\n",
       "    </tr>\n",
       "    <tr>\n",
       "      <th>75%</th>\n",
       "      <td>NaN</td>\n",
       "      <td>NaN</td>\n",
       "      <td>NaN</td>\n",
       "      <td>NaN</td>\n",
       "      <td>NaN</td>\n",
       "      <td>52.000000</td>\n",
       "      <td>NaN</td>\n",
       "      <td>NaN</td>\n",
       "      <td>2017.000000</td>\n",
       "      <td>24.000000</td>\n",
       "      <td>12.000000</td>\n",
       "      <td>17.000000</td>\n",
       "      <td>5.000000</td>\n",
       "    </tr>\n",
       "    <tr>\n",
       "      <th>max</th>\n",
       "      <td>NaN</td>\n",
       "      <td>NaN</td>\n",
       "      <td>NaN</td>\n",
       "      <td>NaN</td>\n",
       "      <td>NaN</td>\n",
       "      <td>197217.760000</td>\n",
       "      <td>NaN</td>\n",
       "      <td>NaN</td>\n",
       "      <td>2017.000000</td>\n",
       "      <td>31.000000</td>\n",
       "      <td>12.000000</td>\n",
       "      <td>23.000000</td>\n",
       "      <td>6.000000</td>\n",
       "    </tr>\n",
       "  </tbody>\n",
       "</table>\n",
       "</div>"
      ],
      "text/plain": [
       "           user_id          payment_method  partner_id partner_category  \\\n",
       "count      76529.0                   76529     76529.0            76529   \n",
       "unique      3594.0                       6        23.0                9   \n",
       "top     53919649.0  sbi_atm_cum_debit_card     47334.0            cat_1   \n",
       "freq        3240.0                   30538     26105.0            36306   \n",
       "mean           NaN                     NaN         NaN              NaN   \n",
       "std            NaN                     NaN         NaN              NaN   \n",
       "min            NaN                     NaN         NaN              NaN   \n",
       "25%            NaN                     NaN         NaN              NaN   \n",
       "50%            NaN                     NaN         NaN              NaN   \n",
       "75%            NaN                     NaN         NaN              NaN   \n",
       "max            NaN                     NaN         NaN              NaN   \n",
       "\n",
       "       device_type  money_transacted  partner_pricing_category  is_fraud  \\\n",
       "count        76529      76529.000000                   76529.0   76529.0   \n",
       "unique           4               NaN                       4.0       2.0   \n",
       "top      other_pcs               NaN                       2.0       0.0   \n",
       "freq         45560               NaN                   63899.0   76375.0   \n",
       "mean           NaN        132.724348                       NaN       NaN   \n",
       "std            NaN       2350.110900                       NaN       NaN   \n",
       "min            NaN     -20000.000000                       NaN       NaN   \n",
       "25%            NaN         -1.000000                       NaN       NaN   \n",
       "50%            NaN         20.000000                       NaN       NaN   \n",
       "75%            NaN         52.000000                       NaN       NaN   \n",
       "max            NaN     197217.760000                       NaN       NaN   \n",
       "\n",
       "        transaction_year  transaction_date  transaction_month  \\\n",
       "count       76529.000000      76529.000000       76529.000000   \n",
       "unique               NaN               NaN                NaN   \n",
       "top                  NaN               NaN                NaN   \n",
       "freq                 NaN               NaN                NaN   \n",
       "mean         2016.496100         15.909551           6.576958   \n",
       "std             0.499988          8.956141           5.223658   \n",
       "min          2016.000000          1.000000           1.000000   \n",
       "25%          2016.000000          8.000000           1.000000   \n",
       "50%          2016.000000         16.000000          11.000000   \n",
       "75%          2017.000000         24.000000          12.000000   \n",
       "max          2017.000000         31.000000          12.000000   \n",
       "\n",
       "        transaction_hour  transaction_weekday  \n",
       "count       76529.000000         76529.000000  \n",
       "unique               NaN                  NaN  \n",
       "top                  NaN                  NaN  \n",
       "freq                 NaN                  NaN  \n",
       "mean           12.452260             2.976911  \n",
       "std             4.850698             1.929435  \n",
       "min             0.000000             0.000000  \n",
       "25%             8.000000             2.000000  \n",
       "50%            13.000000             2.000000  \n",
       "75%            17.000000             5.000000  \n",
       "max            23.000000             6.000000  "
      ]
     },
     "execution_count": 21,
     "metadata": {},
     "output_type": "execute_result"
    }
   ],
   "source": [
    "df.describe(include = 'all')"
   ]
  },
  {
   "cell_type": "markdown",
   "metadata": {},
   "source": [
    "# EDA"
   ]
  },
  {
   "cell_type": "markdown",
   "metadata": {},
   "source": [
    "## Univariate Analysis"
   ]
  },
  {
   "cell_type": "code",
   "execution_count": 22,
   "metadata": {},
   "outputs": [],
   "source": [
    "def barplot(column,df):\n",
    "    plt.figure(figsize = (15,6))\n",
    "    bar_plot1 = sns.countplot(x=column, data=df)\n",
    "    plt.xticks(rotation = 45)\n",
    "    total = len(df[column])\n",
    "    for p in bar_plot1.patches:\n",
    "        percentage = '{:.2f}%'.format(100 * p.get_height()/total)\n",
    "        height = p.get_height()\n",
    "        bar_plot1.text(p.get_x()+ p.get_width()/2, height + 400, percentage, ha=\"center\")"
   ]
  },
  {
   "cell_type": "code",
   "execution_count": 23,
   "metadata": {},
   "outputs": [
    {
     "data": {
      "image/png": "[encoded data removed]",
      "text/plain": [
       "<Figure size 1080x432 with 1 Axes>"
      ]
     },
     "metadata": {
      "needs_background": "light"
     },
     "output_type": "display_data"
    }
   ],
   "source": [
    "barplot('payment_method',df)  # Upi payment methods are very few"
   ]
  },
  {
   "cell_type": "code",
   "execution_count": 24,
   "metadata": {},
   "outputs": [
    {
     "data": {
      "image/png": "[encoded data removed]",
      "text/plain": [
       "<Figure size 1080x432 with 1 Axes>"
      ]
     },
     "metadata": {
      "needs_background": "light"
     },
     "output_type": "display_data"
    }
   ],
   "source": [
    "barplot('partner_id',df)  # Around 88 percent of the transactions are done by ony 4 partners"
   ]
  },
  {
   "cell_type": "code",
   "execution_count": 25,
   "metadata": {},
   "outputs": [
    {
     "data": {
      "image/png": "[encoded data removed]",
      "text/plain": [
       "<Figure size 1080x432 with 1 Axes>"
      ]
     },
     "metadata": {
      "needs_background": "light"
     },
     "output_type": "display_data"
    }
   ],
   "source": [
    "barplot('partner_category',df)  # Around 95% of the traansactions belong to category 1,2"
   ]
  },
  {
   "cell_type": "code",
   "execution_count": 26,
   "metadata": {},
   "outputs": [
    {
     "data": {
      "image/png": "[encoded data removed]",
      "text/plain": [
       "<Figure size 1080x432 with 1 Axes>"
      ]
     },
     "metadata": {
      "needs_background": "light"
     },
     "output_type": "display_data"
    }
   ],
   "source": [
    "barplot('device_type',df) # Very few transactions are done through IOS devices and Windows_ps"
   ]
  },
  {
   "cell_type": "code",
   "execution_count": 27,
   "metadata": {},
   "outputs": [
    {
     "name": "stdout",
     "output_type": "stream",
     "text": [
      "197217.76\n",
      "-20000.0\n"
     ]
    }
   ],
   "source": [
    "print(df['money_transacted'].max())\n",
    "print(df['money_transacted'].min())"
   ]
  },
  {
   "cell_type": "code",
   "execution_count": 28,
   "metadata": {},
   "outputs": [
    {
     "data": {
      "image/png": "[encoded data removed]",
      "text/plain": [
       "<Figure size 1080x432 with 1 Axes>"
      ]
     },
     "metadata": {
      "needs_background": "light"
     },
     "output_type": "display_data"
    }
   ],
   "source": [
    "plt.figure(figsize = (15,6))\n",
    "sns.distplot(df['money_transacted'],kde = False, bins = 1000,color = '#ff3800')\n",
    "plt.xlim((-4000,8000));     # I have used this  range to observe the most of the distribution"
   ]
  },
  {
   "cell_type": "code",
   "execution_count": 29,
   "metadata": {},
   "outputs": [
    {
     "data": {
      "image/png": "[encoded data removed]",
      "text/plain": [
       "<Figure size 1080x432 with 1 Axes>"
      ]
     },
     "metadata": {
      "needs_background": "light"
     },
     "output_type": "display_data"
    }
   ],
   "source": [
    "plt.figure(figsize = (15,6))\n",
    "sns.kdeplot(df['money_transacted']);\n",
    "plt.savefig('kde.png')\n",
    "#plt.xlim((-4000,8000));   # Most of the transactopn amounts lie between -1000 and 1000"
   ]
  },
  {
   "cell_type": "code",
   "execution_count": 30,
   "metadata": {},
   "outputs": [
    {
     "data": {
      "image/png": "[encoded data removed]",
      "text/plain": [
       "<Figure size 1080x432 with 1 Axes>"
      ]
     },
     "metadata": {
      "needs_background": "light"
     },
     "output_type": "display_data"
    }
   ],
   "source": [
    "barplot('partner_pricing_category',df)  # Most of the transactions are done by partner pricing category 2"
   ]
  },
  {
   "cell_type": "code",
   "execution_count": 31,
   "metadata": {},
   "outputs": [
    {
     "data": {
      "image/png": "[encoded data removed]",
      "text/plain": [
       "<Figure size 1080x432 with 1 Axes>"
      ]
     },
     "metadata": {
      "needs_background": "light"
     },
     "output_type": "display_data"
    }
   ],
   "source": [
    "barplot('is_fraud',df) # Here we can see that the fraudlent transactions are almost negligible"
   ]
  },
  {
   "cell_type": "code",
   "execution_count": 32,
   "metadata": {},
   "outputs": [
    {
     "data": {
      "text/plain": [
       "user_id                     category\n",
       "payment_method              category\n",
       "partner_id                  category\n",
       "partner_category            category\n",
       "device_type                 category\n",
       "money_transacted             float64\n",
       "partner_pricing_category    category\n",
       "is_fraud                    category\n",
       "transaction_year               int64\n",
       "transaction_date               int64\n",
       "transaction_month              int64\n",
       "transaction_hour               int64\n",
       "transaction_weekday            int64\n",
       "dtype: object"
      ]
     },
     "execution_count": 32,
     "metadata": {},
     "output_type": "execute_result"
    }
   ],
   "source": [
    "df.dtypes"
   ]
  },
  {
   "cell_type": "code",
   "execution_count": 33,
   "metadata": {},
   "outputs": [
    {
     "data": {
      "image/png": "[encoded data removed]",
      "text/plain": [
       "<Figure size 1080x432 with 1 Axes>"
      ]
     },
     "metadata": {
      "needs_background": "light"
     },
     "output_type": "display_data"
    }
   ],
   "source": [
    "barplot('transaction_year', df)  # Transactions are done equally in both the years"
   ]
  },
  {
   "cell_type": "code",
   "execution_count": 34,
   "metadata": {},
   "outputs": [
    {
     "data": {
      "image/png": "[encoded data removed]",
      "text/plain": [
       "<Figure size 1080x432 with 1 Axes>"
      ]
     },
     "metadata": {
      "needs_background": "light"
     },
     "output_type": "display_data"
    }
   ],
   "source": [
    "barplot('transaction_date', df)  # THere is no particular day which has high number of transactions"
   ]
  },
  {
   "cell_type": "code",
   "execution_count": 35,
   "metadata": {},
   "outputs": [
    {
     "data": {
      "image/png": "[encoded data removed]",
      "text/plain": [
       "<Figure size 1080x432 with 1 Axes>"
      ]
     },
     "metadata": {
      "needs_background": "light"
     },
     "output_type": "display_data"
    }
   ],
   "source": [
    "barplot('transaction_month',df)   # Only four month data has given to us"
   ]
  },
  {
   "cell_type": "code",
   "execution_count": 36,
   "metadata": {},
   "outputs": [
    {
     "data": {
      "image/png": "[encoded data removed]",
      "text/plain": [
       "<Figure size 1080x432 with 1 Axes>"
      ]
     },
     "metadata": {
      "needs_background": "light"
     },
     "output_type": "display_data"
    }
   ],
   "source": [
    "barplot('transaction_hour',df) # Most of the transactions are done between 5 am and 10 pm"
   ]
  },
  {
   "cell_type": "code",
   "execution_count": 37,
   "metadata": {},
   "outputs": [
    {
     "data": {
      "image/png": "[encoded data removed]",
      "text/plain": [
       "<Figure size 1080x432 with 1 Axes>"
      ]
     },
     "metadata": {
      "needs_background": "light"
     },
     "output_type": "display_data"
    }
   ],
   "source": [
    "barplot('transaction_weekday',df) \n",
    "# 0- Monday, 6 - Sunday, 30% of the transactions are done on Wednesday, and almost equal transactions on all other days"
   ]
  },
  {
   "cell_type": "code",
   "execution_count": null,
   "metadata": {},
   "outputs": [],
   "source": []
  },
  {
   "cell_type": "markdown",
   "metadata": {},
   "source": [
    "## BiVariate Analysis"
   ]
  },
  {
   "cell_type": "code",
   "execution_count": 38,
   "metadata": {},
   "outputs": [],
   "source": [
    "def getProbOfisfraud(col, target, df, forGraph=True):\n",
    "    crosstab = pd.crosstab(index = df[col], columns = df[target])\n",
    "    crosstab.columns = pd.Index(list(crosstab.columns))\n",
    "    crosstab = crosstab.reset_index() \n",
    "    crosstab['TotalCount'] = crosstab[1] + crosstab[0]\n",
    "    crosstab['probisfraud'] = crosstab[1] / crosstab['TotalCount']\n",
    "    \n",
    "    print(crosstab.head(31))\n",
    "    if forGraph:\n",
    "        return crosstab[[col, 'probisfraud']]\n",
    "    else:\n",
    "        return crosstab[[col, 'TotalCount', 'probofisfraud']]"
   ]
  },
  {
   "cell_type": "code",
   "execution_count": 39,
   "metadata": {},
   "outputs": [
    {
     "name": "stdout",
     "output_type": "stream",
     "text": [
      "   transaction_weekday      0   1  TotalCount  probisfraud\n",
      "0                    0   8186  19        8205     0.002316\n",
      "1                    1   8795  28        8823     0.003174\n",
      "2                    2  22149  22       22171     0.000992\n",
      "3                    3   8102  23        8125     0.002831\n",
      "4                    4   7752  13        7765     0.001674\n",
      "5                    5   9396  24        9420     0.002548\n",
      "6                    6  11995  25       12020     0.002080\n"
     ]
    },
    {
     "data": {
      "image/png": "[encoded data removed]",
      "text/plain": [
       "<Figure size 432x288 with 1 Axes>"
      ]
     },
     "metadata": {
      "needs_background": "light"
     },
     "output_type": "display_data"
    }
   ],
   "source": [
    "sns.barplot(x = 'transaction_weekday',y = 'probisfraud', data=getProbOfisfraud('transaction_weekday', 'is_fraud',df));\n",
    "# There is no particular day which has high frauds"
   ]
  },
  {
   "cell_type": "code",
   "execution_count": 40,
   "metadata": {},
   "outputs": [
    {
     "name": "stdout",
     "output_type": "stream",
     "text": [
      "    transaction_date     0   1  TotalCount  probisfraud\n",
      "0                  1  3546  18        3564     0.005051\n",
      "1                  2  1479   5        1484     0.003369\n",
      "2                  3  1829   1        1830     0.000546\n",
      "3                  4  3684  13        3697     0.003516\n",
      "4                  5  1751   0        1751     0.000000\n",
      "5                  6  1686   4        1690     0.002367\n",
      "6                  7  2815   0        2815     0.000000\n",
      "7                  8  4796   1        4797     0.000208\n",
      "8                  9  1566   2        1568     0.001276\n",
      "9                 10  1765  13        1778     0.007312\n",
      "10                11  3345   8        3353     0.002386\n",
      "11                12  2267  13        2280     0.005702\n",
      "12                13  1773   0        1773     0.000000\n",
      "13                14  2415   2        2417     0.000827\n",
      "14                15  2053   4        2057     0.001945\n",
      "15                16  2889   2        2891     0.000692\n",
      "16                17  1762   5        1767     0.002830\n",
      "17                18  3101   1        3102     0.000322\n",
      "18                19  2173   7        2180     0.003211\n",
      "19                20  1796   7        1803     0.003882\n",
      "20                21  3129   8        3137     0.002550\n",
      "21                22  2169   3        2172     0.001381\n",
      "22                23  2497   7        2504     0.002796\n",
      "23                24  2144   9        2153     0.004180\n",
      "24                25  3622   1        3623     0.000276\n",
      "25                26  2169   3        2172     0.001381\n",
      "26                27  2326   6        2332     0.002573\n",
      "27                28  3740   2        3742     0.000534\n",
      "28                29  1912   1        1913     0.000523\n",
      "29                30  2618   7        2625     0.002667\n",
      "30                31  1558   1        1559     0.000641\n"
     ]
    },
    {
     "data": {
      "image/png": "[encoded data removed]",
      "text/plain": [
       "<Figure size 864x432 with 1 Axes>"
      ]
     },
     "metadata": {
      "needs_background": "light"
     },
     "output_type": "display_data"
    }
   ],
   "source": [
    "plt.figure(figsize = (12,6))\n",
    "sns.barplot(x = 'transaction_date',y = 'probisfraud', data=getProbOfisfraud('transaction_date', 'is_fraud',df));\n",
    "# Month end has less frauds compared to month start"
   ]
  },
  {
   "cell_type": "code",
   "execution_count": 41,
   "metadata": {},
   "outputs": [
    {
     "name": "stdout",
     "output_type": "stream",
     "text": [
      "   transaction_month      0   1  TotalCount  probisfraud\n",
      "0                  1  25295  50       25345     0.001973\n",
      "1                  2  12578  43       12621     0.003407\n",
      "2                 11  10004  11       10015     0.001098\n",
      "3                 12  28498  50       28548     0.001751\n"
     ]
    },
    {
     "data": {
      "image/png": "[encoded data removed]",
      "text/plain": [
       "<Figure size 864x432 with 1 Axes>"
      ]
     },
     "metadata": {
      "needs_background": "light"
     },
     "output_type": "display_data"
    }
   ],
   "source": [
    "plt.figure(figsize = (12,6))\n",
    "sns.barplot(x = 'transaction_month',y = 'probisfraud', data=getProbOfisfraud('transaction_month', 'is_fraud',df));\n",
    "# Frauds have been gradually increasing every month"
   ]
  },
  {
   "cell_type": "code",
   "execution_count": 42,
   "metadata": {},
   "outputs": [
    {
     "name": "stdout",
     "output_type": "stream",
     "text": [
      "   transaction_year      0   1  TotalCount  probisfraud\n",
      "0              2016  38502  61       38563     0.001582\n",
      "1              2017  37873  93       37966     0.002450\n"
     ]
    },
    {
     "data": {
      "image/png": "[encoded data removed]",
      "text/plain": [
       "<Figure size 864x432 with 1 Axes>"
      ]
     },
     "metadata": {
      "needs_background": "light"
     },
     "output_type": "display_data"
    }
   ],
   "source": [
    "plt.figure(figsize = (12,6))\n",
    "sns.barplot(x = 'transaction_year',y = 'probisfraud', data=getProbOfisfraud('transaction_year', 'is_fraud',df));\n",
    "# Cases have increase from last twomonths to next two months"
   ]
  },
  {
   "cell_type": "code",
   "execution_count": 43,
   "metadata": {},
   "outputs": [
    {
     "name": "stdout",
     "output_type": "stream",
     "text": [
      "    transaction_hour     0   1  TotalCount  probisfraud\n",
      "0                  0   132   1         133     0.007519\n",
      "1                  1   141   0         141     0.000000\n",
      "2                  2   231   0         231     0.000000\n",
      "3                  3   569   6         575     0.010435\n",
      "4                  4  1841   0        1841     0.000000\n",
      "5                  5  3364   5        3369     0.001484\n",
      "6                  6  4284   6        4290     0.001399\n",
      "7                  7  4534   9        4543     0.001981\n",
      "8                  8  4505   4        4509     0.000887\n",
      "9                  9  4339   6        4345     0.001381\n",
      "10                10  4793   2        4795     0.000417\n",
      "11                11  4964   6        4970     0.001207\n",
      "12                12  4117  23        4140     0.005556\n",
      "13                13  4142  16        4158     0.003848\n",
      "14                14  4133   7        4140     0.001691\n",
      "15                15  5056   7        5063     0.001383\n",
      "16                16  5801  13        5814     0.002236\n",
      "17                17  5889  10        5899     0.001695\n",
      "18                18  5084   9        5093     0.001767\n",
      "19                19  4066   4        4070     0.000983\n",
      "20                20  2455   8        2463     0.003248\n",
      "21                21  1171   9        1180     0.007627\n",
      "22                22   544   3         547     0.005484\n",
      "23                23   220   0         220     0.000000\n"
     ]
    },
    {
     "data": {
      "image/png": "[encoded data removed]",
      "text/plain": [
       "<Figure size 864x432 with 1 Axes>"
      ]
     },
     "metadata": {
      "needs_background": "light"
     },
     "output_type": "display_data"
    }
   ],
   "source": [
    "plt.figure(figsize = (12,6))\n",
    "sns.barplot(x = 'transaction_hour',y = 'probisfraud', data=getProbOfisfraud('transaction_hour', 'is_fraud',df));\n",
    "# Frauds are high during night"
   ]
  },
  {
   "cell_type": "code",
   "execution_count": 44,
   "metadata": {},
   "outputs": [
    {
     "name": "stdout",
     "output_type": "stream",
     "text": [
      "  partner_pricing_category      0    1  TotalCount  probisfraud\n",
      "0                        0    271   29         300     0.096667\n",
      "1                        1   1491    6        1497     0.004008\n",
      "2                        2  63789  110       63899     0.001721\n",
      "3                        4  10824    9       10833     0.000831\n"
     ]
    },
    {
     "data": {
      "image/png": "[encoded data removed]",
      "text/plain": [
       "<Figure size 864x432 with 1 Axes>"
      ]
     },
     "metadata": {
      "needs_background": "light"
     },
     "output_type": "display_data"
    }
   ],
   "source": [
    "plt.figure(figsize = (12,6))\n",
    "sns.barplot(x = 'partner_pricing_category',y = 'probisfraud', data=getProbOfisfraud('partner_pricing_category', 'is_fraud',df));\n",
    "# Category 0 has high fraud cases percentage, where as 2 has high cases"
   ]
  },
  {
   "cell_type": "code",
   "execution_count": 45,
   "metadata": {},
   "outputs": [
    {
     "name": "stdout",
     "output_type": "stream",
     "text": [
      "       device_type      0    1  TotalCount  probisfraud\n",
      "0  android_devices  29657    5       29662     0.000169\n",
      "1      ios_devices    876    0         876     0.000000\n",
      "2        other_pcs  45415  145       45560     0.003183\n",
      "3      windows_pcs    427    4         431     0.009281\n"
     ]
    },
    {
     "data": {
      "image/png": "[encoded data removed]",
      "text/plain": [
       "<Figure size 864x432 with 1 Axes>"
      ]
     },
     "metadata": {
      "needs_background": "light"
     },
     "output_type": "display_data"
    }
   ],
   "source": [
    "plt.figure(figsize = (12,6))\n",
    "sns.barplot(x = 'device_type',y = 'probisfraud', data=getProbOfisfraud('device_type', 'is_fraud',df));\n",
    "# Other Pcs have high cases among all and also high transactions"
   ]
  },
  {
   "cell_type": "code",
   "execution_count": 46,
   "metadata": {},
   "outputs": [
    {
     "name": "stdout",
     "output_type": "stream",
     "text": [
      "  partner_category      0    1  TotalCount  probisfraud\n",
      "0            cat_1  36178  128       36306     0.003526\n",
      "1            cat_2  36004   15       36019     0.000416\n",
      "2            cat_3   1527    9        1536     0.005859\n",
      "3            cat_4   1310    0        1310     0.000000\n",
      "4            cat_5   1026    0        1026     0.000000\n",
      "5            cat_6    146    0         146     0.000000\n",
      "6            cat_7    165    0         165     0.000000\n",
      "7            cat_8     17    2          19     0.105263\n",
      "8            cat_9      2    0           2     0.000000\n"
     ]
    },
    {
     "data": {
      "image/png": "[encoded data removed]",
      "text/plain": [
       "<Figure size 864x432 with 1 Axes>"
      ]
     },
     "metadata": {
      "needs_background": "light"
     },
     "output_type": "display_data"
    }
   ],
   "source": [
    "plt.figure(figsize = (12,6))\n",
    "sns.barplot(x = 'partner_category',y = 'probisfraud', data=getProbOfisfraud('partner_category', 'is_fraud',df));\n",
    "# Cat_1 has high fraud cases but low percentage"
   ]
  },
  {
   "cell_type": "code",
   "execution_count": 47,
   "metadata": {},
   "outputs": [
    {
     "data": {
      "text/plain": [
       "user_id                     category\n",
       "payment_method              category\n",
       "partner_id                  category\n",
       "partner_category            category\n",
       "device_type                 category\n",
       "money_transacted             float64\n",
       "partner_pricing_category    category\n",
       "is_fraud                    category\n",
       "transaction_year               int64\n",
       "transaction_date               int64\n",
       "transaction_month              int64\n",
       "transaction_hour               int64\n",
       "transaction_weekday            int64\n",
       "dtype: object"
      ]
     },
     "execution_count": 47,
     "metadata": {},
     "output_type": "execute_result"
    }
   ],
   "source": [
    "df.dtypes"
   ]
  },
  {
   "cell_type": "code",
   "execution_count": 48,
   "metadata": {},
   "outputs": [
    {
     "name": "stdout",
     "output_type": "stream",
     "text": [
      "   partner_id      0    1  TotalCount  probisfraud\n",
      "0        7889   2317    0        2317     0.000000\n",
      "1       15778    189    0         189     0.000000\n",
      "2       23667  19517    9       19526     0.000461\n",
      "3       31556   1892    0        1892     0.000000\n",
      "4       39445     17    2          19     0.105263\n",
      "5       47334  26104    1       26105     0.000038\n",
      "6       55223     75    0          75     0.000000\n",
      "7       63112    159    0         159     0.000000\n",
      "8       71001     12    3          15     0.200000\n",
      "9       78890  12267    6       12273     0.000489\n",
      "10      86779   1121    0        1121     0.000000\n",
      "11      94668      2    0           2     0.000000\n",
      "12     102557    227    4         231     0.017316\n",
      "13     110446    640    0         640     0.000000\n",
      "14     118335   9422  124        9546     0.012990\n",
      "15     126224     10    0          10     0.000000\n",
      "16     149891    767    0         767     0.000000\n",
      "17     157780    165    0         165     0.000000\n",
      "18     165669   1212    4        1216     0.003289\n",
      "19     173558     88    1          89     0.011236\n",
      "20     181447      1    0           1     0.000000\n",
      "21     189336    146    0         146     0.000000\n",
      "22     213003     25    0          25     0.000000\n"
     ]
    },
    {
     "data": {
      "image/png": "[encoded data removed]",
      "text/plain": [
       "<Figure size 1440x432 with 1 Axes>"
      ]
     },
     "metadata": {
      "needs_background": "light"
     },
     "output_type": "display_data"
    }
   ],
   "source": [
    "plt.figure(figsize = (20,6))\n",
    "sns.barplot(x = 'partner_id',y = 'probisfraud', data=getProbOfisfraud('partner_id', 'is_fraud',df));\n",
    "# 118335 has shigh fraud cases"
   ]
  },
  {
   "cell_type": "code",
   "execution_count": 49,
   "metadata": {},
   "outputs": [
    {
     "name": "stdout",
     "output_type": "stream",
     "text": [
      "               payment_method      0   1  TotalCount  probisfraud\n",
      "0           e_wallet_payments  27382   2       27384     0.000073\n",
      "1           other_debit_cards   4452  43        4495     0.009566\n",
      "2      sbi_atm_cum_debit_card  30533   5       30538     0.000164\n",
      "3  unified_payments_interface     15   0          15     0.000000\n",
      "4    visa_master_credit_cards   2401  53        2454     0.021597\n",
      "5     visa_master_debit_cards  11592  51       11643     0.004380\n"
     ]
    },
    {
     "data": {
      "image/png": "[encoded data removed]",
      "text/plain": [
       "<Figure size 1080x432 with 1 Axes>"
      ]
     },
     "metadata": {
      "needs_background": "light"
     },
     "output_type": "display_data"
    }
   ],
   "source": [
    "plt.figure(figsize = (15,6))\n",
    "sns.barplot(x = 'payment_method',y = 'probisfraud', data=getProbOfisfraud('payment_method', 'is_fraud',df));\n",
    "# Around 100 transactions are from visa and master cards"
   ]
  },
  {
   "cell_type": "code",
   "execution_count": 50,
   "metadata": {},
   "outputs": [
    {
     "data": {
      "image/png": "[encoded data removed]",
      "text/plain": [
       "<Figure size 1080x576 with 1 Axes>"
      ]
     },
     "metadata": {},
     "output_type": "display_data"
    }
   ],
   "source": [
    "sns.set_style('darkgrid')\n",
    "plt.figure(figsize=(15,8))\n",
    "df[df['is_fraud']== 0]['money_transacted'].hist(alpha=0.5,color='blue',\n",
    "                                              bins=30,label='Not fraud')\n",
    "df[df['is_fraud']==1]['money_transacted'].hist(alpha=0.5,color='red',\n",
    "                                              bins=30,label='Fraud')\n",
    "plt.legend()\n",
    "plt.xlabel('money_transacted')\n",
    "plt.xlim(-20000,110000)\n",
    "plt.ylim(0,100);\n",
    "# I gave a limit of 100 to inderstand the split of fraud transactions"
   ]
  },
  {
   "cell_type": "code",
   "execution_count": 51,
   "metadata": {},
   "outputs": [
    {
     "data": {
      "image/png": "[encoded data removed]",
      "text/plain": [
       "<Figure size 720x576 with 2 Axes>"
      ]
     },
     "metadata": {},
     "output_type": "display_data"
    }
   ],
   "source": [
    "cm = df.corr()\n",
    "mask = np.zeros_like(cm, dtype=np.bool)\n",
    "mask[np.triu_indices_from(mask)] = True\n",
    "plt.figure(figsize=(10,8))\n",
    "sns.heatmap(cm,\n",
    "            vmin=-1,\n",
    "            vmax=1,\n",
    "            cmap='coolwarm',\n",
    "            annot=True,\n",
    "            mask = mask);\n"
   ]
  },
  {
   "cell_type": "code",
   "execution_count": 52,
   "metadata": {},
   "outputs": [],
   "source": [
    "## There is no correlation between the money transacted and the year, date, month, hour, weekday"
   ]
  },
  {
   "cell_type": "markdown",
   "metadata": {},
   "source": [
    "## Feature Engineering"
   ]
  },
  {
   "cell_type": "code",
   "execution_count": 53,
   "metadata": {},
   "outputs": [
    {
     "data": {
      "text/html": [
       "<div>\n",
       "<style scoped>\n",
       "    .dataframe tbody tr th:only-of-type {\n",
       "        vertical-align: middle;\n",
       "    }\n",
       "\n",
       "    .dataframe tbody tr th {\n",
       "        vertical-align: top;\n",
       "    }\n",
       "\n",
       "    .dataframe thead th {\n",
       "        text-align: right;\n",
       "    }\n",
       "</style>\n",
       "<table border=\"1\" class=\"dataframe\">\n",
       "  <thead>\n",
       "    <tr style=\"text-align: right;\">\n",
       "      <th></th>\n",
       "      <th>user_id</th>\n",
       "      <th>payment_method</th>\n",
       "      <th>partner_id</th>\n",
       "      <th>partner_category</th>\n",
       "      <th>device_type</th>\n",
       "      <th>money_transacted</th>\n",
       "      <th>partner_pricing_category</th>\n",
       "      <th>is_fraud</th>\n",
       "      <th>transaction_year</th>\n",
       "      <th>transaction_date</th>\n",
       "      <th>transaction_month</th>\n",
       "      <th>transaction_hour</th>\n",
       "      <th>transaction_weekday</th>\n",
       "      <th>credit</th>\n",
       "    </tr>\n",
       "  </thead>\n",
       "  <tbody>\n",
       "    <tr>\n",
       "      <th>0</th>\n",
       "      <td>17539344</td>\n",
       "      <td>sbi_atm_cum_debit_card</td>\n",
       "      <td>47334</td>\n",
       "      <td>cat_1</td>\n",
       "      <td>android_devices</td>\n",
       "      <td>5.0</td>\n",
       "      <td>2</td>\n",
       "      <td>0</td>\n",
       "      <td>2016</td>\n",
       "      <td>15</td>\n",
       "      <td>11</td>\n",
       "      <td>19</td>\n",
       "      <td>1</td>\n",
       "      <td>1</td>\n",
       "    </tr>\n",
       "    <tr>\n",
       "      <th>1</th>\n",
       "      <td>24710841</td>\n",
       "      <td>e_wallet_payments</td>\n",
       "      <td>78890</td>\n",
       "      <td>cat_2</td>\n",
       "      <td>other_pcs</td>\n",
       "      <td>100.0</td>\n",
       "      <td>2</td>\n",
       "      <td>0</td>\n",
       "      <td>2017</td>\n",
       "      <td>11</td>\n",
       "      <td>1</td>\n",
       "      <td>9</td>\n",
       "      <td>2</td>\n",
       "      <td>0</td>\n",
       "    </tr>\n",
       "    <tr>\n",
       "      <th>2</th>\n",
       "      <td>24265476</td>\n",
       "      <td>e_wallet_payments</td>\n",
       "      <td>78890</td>\n",
       "      <td>cat_2</td>\n",
       "      <td>other_pcs</td>\n",
       "      <td>50.0</td>\n",
       "      <td>2</td>\n",
       "      <td>0</td>\n",
       "      <td>2016</td>\n",
       "      <td>7</td>\n",
       "      <td>12</td>\n",
       "      <td>7</td>\n",
       "      <td>2</td>\n",
       "      <td>0</td>\n",
       "    </tr>\n",
       "    <tr>\n",
       "      <th>3</th>\n",
       "      <td>10240000</td>\n",
       "      <td>other_debit_cards</td>\n",
       "      <td>102557</td>\n",
       "      <td>cat_3</td>\n",
       "      <td>other_pcs</td>\n",
       "      <td>1000.0</td>\n",
       "      <td>2</td>\n",
       "      <td>0</td>\n",
       "      <td>2017</td>\n",
       "      <td>11</td>\n",
       "      <td>1</td>\n",
       "      <td>16</td>\n",
       "      <td>2</td>\n",
       "      <td>0</td>\n",
       "    </tr>\n",
       "    <tr>\n",
       "      <th>4</th>\n",
       "      <td>5880625</td>\n",
       "      <td>other_debit_cards</td>\n",
       "      <td>118335</td>\n",
       "      <td>cat_1</td>\n",
       "      <td>other_pcs</td>\n",
       "      <td>200.0</td>\n",
       "      <td>2</td>\n",
       "      <td>0</td>\n",
       "      <td>2016</td>\n",
       "      <td>16</td>\n",
       "      <td>11</td>\n",
       "      <td>17</td>\n",
       "      <td>2</td>\n",
       "      <td>0</td>\n",
       "    </tr>\n",
       "  </tbody>\n",
       "</table>\n",
       "</div>"
      ],
      "text/plain": [
       "    user_id          payment_method partner_id partner_category  \\\n",
       "0  17539344  sbi_atm_cum_debit_card      47334            cat_1   \n",
       "1  24710841       e_wallet_payments      78890            cat_2   \n",
       "2  24265476       e_wallet_payments      78890            cat_2   \n",
       "3  10240000       other_debit_cards     102557            cat_3   \n",
       "4   5880625       other_debit_cards     118335            cat_1   \n",
       "\n",
       "       device_type  money_transacted partner_pricing_category is_fraud  \\\n",
       "0  android_devices               5.0                        2        0   \n",
       "1        other_pcs             100.0                        2        0   \n",
       "2        other_pcs              50.0                        2        0   \n",
       "3        other_pcs            1000.0                        2        0   \n",
       "4        other_pcs             200.0                        2        0   \n",
       "\n",
       "   transaction_year  transaction_date  transaction_month  transaction_hour  \\\n",
       "0              2016                15                 11                19   \n",
       "1              2017                11                  1                 9   \n",
       "2              2016                 7                 12                 7   \n",
       "3              2017                11                  1                16   \n",
       "4              2016                16                 11                17   \n",
       "\n",
       "   transaction_weekday  credit  \n",
       "0                    1       1  \n",
       "1                    2       0  \n",
       "2                    2       0  \n",
       "3                    2       0  \n",
       "4                    2       0  "
      ]
     },
     "execution_count": 53,
     "metadata": {},
     "output_type": "execute_result"
    }
   ],
   "source": [
    "df['credit'] = np.nan\n",
    "for i in range(len(df)):\n",
    "    if df.loc[i, 'money_transacted'] < 0:\n",
    "        df.loc[i, 'credit'] = 1\n",
    "    elif df.loc[i, 'money_transacted'] > 0:\n",
    "        df.loc[i, 'credit'] = 0\n",
    "        \n",
    "df['credit'] = df['credit'].astype('int64')\n",
    "df['money_transacted'] = abs(df['money_transacted'])\n",
    "df.head()\n",
    "\n",
    "# Making the money as positive value by using credit row"
   ]
  },
  {
   "cell_type": "code",
   "execution_count": 54,
   "metadata": {},
   "outputs": [
    {
     "name": "stdout",
     "output_type": "stream",
     "text": [
      "[1, 5, 9, 13, 17, 21, 25, 29, 33]\n",
      "[1, 5, 9, 13, 17, 21, 25, 29]\n",
      "1     12326\n",
      "5     10870\n",
      "21    10452\n",
      "17    10222\n",
      "25    10159\n",
      "9      9184\n",
      "13     9132\n",
      "29     4184\n",
      "Name: date_binned, dtype: int64\n"
     ]
    }
   ],
   "source": [
    "bins = list(np.arange(np.min(df['transaction_date']), np.max(df['transaction_date'])+5, 4))\n",
    "print(bins)\n",
    "\n",
    "labels = bins[:-1]\n",
    "print(labels)\n",
    "df['date_binned'] = pd.cut(df['transaction_date'], bins=bins, labels=labels, include_lowest=True)\n",
    "\n",
    "print(df['date_binned'].value_counts())\n",
    "\n",
    "# Binning these because they have same probability values and to reduce sparcity"
   ]
  },
  {
   "cell_type": "code",
   "execution_count": 55,
   "metadata": {},
   "outputs": [
    {
     "name": "stdout",
     "output_type": "stream",
     "text": [
      "[0, 6, 12, 18, 24]\n",
      "[0, 6, 12, 18]\n",
      "12    30167\n",
      "6     27302\n",
      "0     10580\n",
      "18     8480\n",
      "Name: hour_binned, dtype: int64\n"
     ]
    }
   ],
   "source": [
    "bins = list(np.arange(np.min(df['transaction_hour']), np.max(df['transaction_hour'])+4, 6))\n",
    "print(bins)\n",
    "\n",
    "labels = bins[:-1]\n",
    "print(labels)\n",
    "df['hour_binned'] = pd.cut(df['transaction_hour'], bins=bins, labels=labels, include_lowest=True)\n",
    "\n",
    "print(df['hour_binned'].value_counts())\n",
    "# Binning these because they have same probability values and to reduce sparcity"
   ]
  },
  {
   "cell_type": "code",
   "execution_count": 56,
   "metadata": {},
   "outputs": [],
   "source": [
    "df.drop(['transaction_date', 'transaction_hour'], axis = 1, inplace = True)"
   ]
  },
  {
   "cell_type": "code",
   "execution_count": 57,
   "metadata": {},
   "outputs": [
    {
     "data": {
      "text/html": [
       "<div>\n",
       "<style scoped>\n",
       "    .dataframe tbody tr th:only-of-type {\n",
       "        vertical-align: middle;\n",
       "    }\n",
       "\n",
       "    .dataframe tbody tr th {\n",
       "        vertical-align: top;\n",
       "    }\n",
       "\n",
       "    .dataframe thead th {\n",
       "        text-align: right;\n",
       "    }\n",
       "</style>\n",
       "<table border=\"1\" class=\"dataframe\">\n",
       "  <thead>\n",
       "    <tr style=\"text-align: right;\">\n",
       "      <th></th>\n",
       "      <th>user_id</th>\n",
       "      <th>payment_method</th>\n",
       "      <th>partner_id</th>\n",
       "      <th>partner_category</th>\n",
       "      <th>device_type</th>\n",
       "      <th>money_transacted</th>\n",
       "      <th>partner_pricing_category</th>\n",
       "      <th>is_fraud</th>\n",
       "      <th>transaction_year</th>\n",
       "      <th>transaction_month</th>\n",
       "      <th>transaction_weekday</th>\n",
       "      <th>credit</th>\n",
       "      <th>date_binned</th>\n",
       "      <th>hour_binned</th>\n",
       "    </tr>\n",
       "  </thead>\n",
       "  <tbody>\n",
       "    <tr>\n",
       "      <th>0</th>\n",
       "      <td>17539344</td>\n",
       "      <td>sbi_atm_cum_debit_card</td>\n",
       "      <td>47334</td>\n",
       "      <td>cat_1</td>\n",
       "      <td>android_devices</td>\n",
       "      <td>5.0</td>\n",
       "      <td>2</td>\n",
       "      <td>0</td>\n",
       "      <td>2016</td>\n",
       "      <td>11</td>\n",
       "      <td>1</td>\n",
       "      <td>1</td>\n",
       "      <td>13</td>\n",
       "      <td>18</td>\n",
       "    </tr>\n",
       "    <tr>\n",
       "      <th>1</th>\n",
       "      <td>24710841</td>\n",
       "      <td>e_wallet_payments</td>\n",
       "      <td>78890</td>\n",
       "      <td>cat_2</td>\n",
       "      <td>other_pcs</td>\n",
       "      <td>100.0</td>\n",
       "      <td>2</td>\n",
       "      <td>0</td>\n",
       "      <td>2017</td>\n",
       "      <td>1</td>\n",
       "      <td>2</td>\n",
       "      <td>0</td>\n",
       "      <td>9</td>\n",
       "      <td>6</td>\n",
       "    </tr>\n",
       "    <tr>\n",
       "      <th>2</th>\n",
       "      <td>24265476</td>\n",
       "      <td>e_wallet_payments</td>\n",
       "      <td>78890</td>\n",
       "      <td>cat_2</td>\n",
       "      <td>other_pcs</td>\n",
       "      <td>50.0</td>\n",
       "      <td>2</td>\n",
       "      <td>0</td>\n",
       "      <td>2016</td>\n",
       "      <td>12</td>\n",
       "      <td>2</td>\n",
       "      <td>0</td>\n",
       "      <td>5</td>\n",
       "      <td>6</td>\n",
       "    </tr>\n",
       "    <tr>\n",
       "      <th>3</th>\n",
       "      <td>10240000</td>\n",
       "      <td>other_debit_cards</td>\n",
       "      <td>102557</td>\n",
       "      <td>cat_3</td>\n",
       "      <td>other_pcs</td>\n",
       "      <td>1000.0</td>\n",
       "      <td>2</td>\n",
       "      <td>0</td>\n",
       "      <td>2017</td>\n",
       "      <td>1</td>\n",
       "      <td>2</td>\n",
       "      <td>0</td>\n",
       "      <td>9</td>\n",
       "      <td>12</td>\n",
       "    </tr>\n",
       "    <tr>\n",
       "      <th>4</th>\n",
       "      <td>5880625</td>\n",
       "      <td>other_debit_cards</td>\n",
       "      <td>118335</td>\n",
       "      <td>cat_1</td>\n",
       "      <td>other_pcs</td>\n",
       "      <td>200.0</td>\n",
       "      <td>2</td>\n",
       "      <td>0</td>\n",
       "      <td>2016</td>\n",
       "      <td>11</td>\n",
       "      <td>2</td>\n",
       "      <td>0</td>\n",
       "      <td>13</td>\n",
       "      <td>12</td>\n",
       "    </tr>\n",
       "  </tbody>\n",
       "</table>\n",
       "</div>"
      ],
      "text/plain": [
       "    user_id          payment_method partner_id partner_category  \\\n",
       "0  17539344  sbi_atm_cum_debit_card      47334            cat_1   \n",
       "1  24710841       e_wallet_payments      78890            cat_2   \n",
       "2  24265476       e_wallet_payments      78890            cat_2   \n",
       "3  10240000       other_debit_cards     102557            cat_3   \n",
       "4   5880625       other_debit_cards     118335            cat_1   \n",
       "\n",
       "       device_type  money_transacted partner_pricing_category is_fraud  \\\n",
       "0  android_devices               5.0                        2        0   \n",
       "1        other_pcs             100.0                        2        0   \n",
       "2        other_pcs              50.0                        2        0   \n",
       "3        other_pcs            1000.0                        2        0   \n",
       "4        other_pcs             200.0                        2        0   \n",
       "\n",
       "   transaction_year  transaction_month  transaction_weekday  credit  \\\n",
       "0              2016                 11                    1       1   \n",
       "1              2017                  1                    2       0   \n",
       "2              2016                 12                    2       0   \n",
       "3              2017                  1                    2       0   \n",
       "4              2016                 11                    2       0   \n",
       "\n",
       "  date_binned hour_binned  \n",
       "0          13          18  \n",
       "1           9           6  \n",
       "2           5           6  \n",
       "3           9          12  \n",
       "4          13          12  "
      ]
     },
     "execution_count": 57,
     "metadata": {},
     "output_type": "execute_result"
    }
   ],
   "source": [
    "df.head()"
   ]
  },
  {
   "cell_type": "code",
   "execution_count": 58,
   "metadata": {},
   "outputs": [
    {
     "data": {
      "text/plain": [
       "user_id                     category\n",
       "payment_method              category\n",
       "partner_id                  category\n",
       "partner_category            category\n",
       "device_type                 category\n",
       "money_transacted             float64\n",
       "partner_pricing_category    category\n",
       "is_fraud                    category\n",
       "transaction_year               int64\n",
       "transaction_month              int64\n",
       "transaction_weekday            int64\n",
       "credit                         int64\n",
       "date_binned                 category\n",
       "hour_binned                 category\n",
       "dtype: object"
      ]
     },
     "execution_count": 58,
     "metadata": {},
     "output_type": "execute_result"
    }
   ],
   "source": [
    "df.dtypes"
   ]
  },
  {
   "cell_type": "code",
   "execution_count": 59,
   "metadata": {},
   "outputs": [
    {
     "data": {
      "text/plain": [
       "user_id                     category\n",
       "payment_method              category\n",
       "partner_id                  category\n",
       "partner_category            category\n",
       "device_type                 category\n",
       "money_transacted             float64\n",
       "partner_pricing_category    category\n",
       "is_fraud                    category\n",
       "transaction_year            category\n",
       "transaction_month           category\n",
       "transaction_weekday         category\n",
       "credit                      category\n",
       "date_binned                 category\n",
       "hour_binned                 category\n",
       "dtype: object"
      ]
     },
     "execution_count": 59,
     "metadata": {},
     "output_type": "execute_result"
    }
   ],
   "source": [
    "df[['transaction_year', 'transaction_month','transaction_weekday', 'credit']] = df[['transaction_year', 'transaction_month','transaction_weekday', 'credit']].astype('category')\n",
    "df.dtypes"
   ]
  },
  {
   "cell_type": "code",
   "execution_count": 60,
   "metadata": {},
   "outputs": [],
   "source": [
    "from scipy.stats import chi2_contingency\n",
    "from scipy.stats import chi2\n",
    "\n",
    "import statsmodels.api as sm"
   ]
  },
  {
   "cell_type": "code",
   "execution_count": 61,
   "metadata": {},
   "outputs": [],
   "source": [
    "# CHecking the dependency of the columns\n",
    "\n",
    "def find_chi2_independence(cat_col, target, df, alpha=0.05):\n",
    "    data = df[[target, cat_col]]\n",
    "    tab = sm.stats.Table.from_data(data)\n",
    "    tab = tab.table_orig.to_numpy()\n",
    "    print(f\"---------------{target} Vs {cat_col} Chi Square Test of Independence -------------------\")\n",
    "    print(f\"\\n Contingency table :\\n\")\n",
    "    print(tab)\n",
    "    \n",
    "    stat, p, dof, expected = chi2_contingency(tab)\n",
    "    print(f\"\\n Expected table :\\n\")\n",
    "    print(expected)\n",
    "    \n",
    "    print(f\"The p value returned = {p} and degrees of freedom returned = {dof}\")\n",
    "    \n",
    "    # interpret p-value\n",
    "    print('significance(alpha) = %.3f' % (alpha))\n",
    "\n",
    "    if p <= alpha:\n",
    "        print('Dependent (reject H0)')\n",
    "    else:\n",
    "        print('Independent (fail to reject H0)') "
   ]
  },
  {
   "cell_type": "code",
   "execution_count": 62,
   "metadata": {},
   "outputs": [
    {
     "name": "stdout",
     "output_type": "stream",
     "text": [
      "['user_id', 'payment_method', 'partner_id', 'partner_category', 'device_type', 'partner_pricing_category', 'is_fraud', 'transaction_year', 'transaction_month', 'transaction_weekday', 'credit', 'date_binned', 'hour_binned']\n"
     ]
    }
   ],
   "source": [
    "cat_cols = list(df.select_dtypes('category').columns)\n",
    "print(cat_cols)"
   ]
  },
  {
   "cell_type": "code",
   "execution_count": 63,
   "metadata": {},
   "outputs": [
    {
     "name": "stdout",
     "output_type": "stream",
     "text": [
      "---------------is_fraud Vs user_id Chi Square Test of Independence -------------------\n",
      "\n",
      " Contingency table :\n",
      "\n",
      "[[ 1  1  1 ... 19  1  1]\n",
      " [ 0  0  0 ...  0  0  0]]\n",
      "\n",
      " Expected table :\n",
      "\n",
      "[[9.97987691e-01 9.97987691e-01 9.97987691e-01 ... 1.89617661e+01\n",
      "  9.97987691e-01 9.97987691e-01]\n",
      " [2.01230906e-03 2.01230906e-03 2.01230906e-03 ... 3.82338721e-02\n",
      "  2.01230906e-03 2.01230906e-03]]\n",
      "The p value returned = 0.0 and degrees of freedom returned = 3593\n",
      "significance(alpha) = 0.050\n",
      "Dependent (reject H0)\n",
      "---------------is_fraud Vs payment_method Chi Square Test of Independence -------------------\n",
      "\n",
      " Contingency table :\n",
      "\n",
      "[[27382  4452 30533    15  2401 11592]\n",
      " [    2    43     5     0    53    51]]\n",
      "\n",
      " Expected table :\n",
      "\n",
      "[[2.73288949e+04 4.48595467e+03 3.04765481e+04 1.49698154e+01\n",
      "  2.44906179e+03 1.16195707e+04]\n",
      " [5.51050713e+01 9.04532922e+00 6.14518941e+01 3.01846359e-02\n",
      "  4.93820643e+00 2.34293144e+01]]\n",
      "The p value returned = 5.316478181917259e-156 and degrees of freedom returned = 5\n",
      "significance(alpha) = 0.050\n",
      "Dependent (reject H0)\n",
      "---------------is_fraud Vs partner_id Chi Square Test of Independence -------------------\n",
      "\n",
      " Contingency table :\n",
      "\n",
      "[[ 2317   189 19517  1892    17 26104    75   159    12 12267  1121     2\n",
      "    227   640  9422    10   767   165  1212    88     1   146    25]\n",
      " [    0     0     9     0     2     1     0     0     3     6     0     0\n",
      "      4     0   124     0     0     0     4     1     0     0     0]]\n",
      "\n",
      " Expected table :\n",
      "\n",
      "[[2.31233748e+03 1.88619674e+02 1.94867077e+04 1.88819271e+03\n",
      "  1.89617661e+01 2.60524687e+04 7.48490768e+01 1.58680043e+02\n",
      "  1.49698154e+01 1.22483029e+04 1.11874420e+03 1.99597538e+00\n",
      "  2.30535157e+02 6.38712122e+02 9.52679050e+03 9.97987691e+00\n",
      "  7.65456559e+02 1.64667969e+02 1.21355303e+03 8.88209045e+01\n",
      "  9.97987691e-01 1.45706203e+02 2.49496923e+01]\n",
      " [4.66252009e+00 3.80326412e-01 3.92923467e+01 3.80728874e+00\n",
      "  3.82338721e-02 5.25313280e+01 1.50923179e-01 3.19957140e-01\n",
      "  3.01846359e-02 2.46970691e+01 2.25579846e+00 4.02461812e-03\n",
      "  4.64843393e-01 1.28787780e+00 1.92095023e+01 2.01230906e-02\n",
      "  1.54344105e+00 3.32030995e-01 2.44696782e+00 1.79095506e-01\n",
      "  2.01230906e-03 2.93797123e-01 5.03077265e-02]]\n",
      "The p value returned = 4.635079748110754e-219 and degrees of freedom returned = 22\n",
      "significance(alpha) = 0.050\n",
      "Dependent (reject H0)\n",
      "---------------is_fraud Vs partner_category Chi Square Test of Independence -------------------\n",
      "\n",
      " Contingency table :\n",
      "\n",
      "[[36178 36004  1527  1310  1026   146   165    17     2]\n",
      " [  128    15     9     0     0     0     0     2     0]]\n",
      "\n",
      " Expected table :\n",
      "\n",
      "[[3.62329411e+04 3.59465186e+04 1.53290909e+03 1.30736388e+03\n",
      "  1.02393537e+03 1.45706203e+02 1.64667969e+02 1.89617661e+01\n",
      "  1.99597538e+00]\n",
      " [7.30588927e+01 7.24813600e+01 3.09090672e+00 2.63612487e+00\n",
      "  2.06462909e+00 2.93797123e-01 3.32030995e-01 3.82338721e-02\n",
      "  4.02461812e-03]]\n",
      "The p value returned = 6.8587853565513275e-40 and degrees of freedom returned = 8\n",
      "significance(alpha) = 0.050\n",
      "Dependent (reject H0)\n",
      "---------------is_fraud Vs device_type Chi Square Test of Independence -------------------\n",
      "\n",
      " Contingency table :\n",
      "\n",
      "[[29657   876 45415   427]\n",
      " [    5     0   145     4]]\n",
      "\n",
      " Expected table :\n",
      "\n",
      "[[2.96023109e+04 8.74237217e+02 4.54683192e+04 4.30132695e+02]\n",
      " [5.96891113e+01 1.76278274e+00 9.16808007e+01 8.67305205e-01]]\n",
      "The p value returned = 2.5031183694642124e-20 and degrees of freedom returned = 3\n",
      "significance(alpha) = 0.050\n",
      "Dependent (reject H0)\n",
      "---------------is_fraud Vs partner_pricing_category Chi Square Test of Independence -------------------\n",
      "\n",
      " Contingency table :\n",
      "\n",
      "[[  271  1491 63789 10824]\n",
      " [   29     6   110     9]]\n",
      "\n",
      " Expected table :\n",
      "\n",
      "[[2.99396307e+02 1.49398757e+03 6.37704155e+04 1.08112007e+04]\n",
      " [6.03692718e-01 3.01242666e+00 1.28584537e+02 2.17993440e+01]]\n",
      "The p value returned = 9.456633670840907e-293 and degrees of freedom returned = 3\n",
      "significance(alpha) = 0.050\n",
      "Dependent (reject H0)\n",
      "---------------is_fraud Vs is_fraud Chi Square Test of Independence -------------------\n",
      "\n",
      " Contingency table :\n",
      "\n",
      "[[76375     0]\n",
      " [    0   154]]\n",
      "\n",
      " Expected table :\n",
      "\n",
      "[[7.62213099e+04 1.53690104e+02]\n",
      " [1.53690104e+02 3.09895595e-01]]\n",
      "The p value returned = 0.0 and degrees of freedom returned = 1\n",
      "significance(alpha) = 0.050\n",
      "Dependent (reject H0)\n",
      "---------------is_fraud Vs transaction_year Chi Square Test of Independence -------------------\n",
      "\n",
      " Contingency table :\n",
      "\n",
      "[[38502 37873]\n",
      " [   61    93]]\n",
      "\n",
      " Expected table :\n",
      "\n",
      "[[38485.39932575 37889.60067425]\n",
      " [   77.60067425    76.39932575]]\n",
      "The p value returned = 0.009389078690882107 and degrees of freedom returned = 1\n",
      "significance(alpha) = 0.050\n",
      "Dependent (reject H0)\n",
      "---------------is_fraud Vs transaction_month Chi Square Test of Independence -------------------\n",
      "\n",
      " Contingency table :\n",
      "\n",
      "[[25295 12578 10004 28498]\n",
      " [   50    43    11    50]]\n",
      "\n",
      " Expected table :\n",
      "\n",
      "[[2.52939980e+04 1.25956026e+04 9.99484672e+03 2.84905526e+04]\n",
      " [5.10019731e+01 2.53973526e+01 2.01532752e+01 5.74473990e+01]]\n",
      "The p value returned = 0.0005909621971541256 and degrees of freedom returned = 3\n",
      "significance(alpha) = 0.050\n",
      "Dependent (reject H0)\n",
      "---------------is_fraud Vs transaction_weekday Chi Square Test of Independence -------------------\n",
      "\n",
      " Contingency table :\n",
      "\n",
      "[[ 8186  8795 22149  8102  7752  9396 11995]\n",
      " [   19    28    22    23    13    24    25]]\n",
      "\n",
      " Expected table :\n",
      "\n",
      "[[8.18848900e+03 8.80524540e+03 2.21263851e+04 8.10864999e+03\n",
      "  7.74937442e+03 9.40104405e+03 1.19958120e+04]\n",
      " [1.65109958e+01 1.77546028e+01 4.46149042e+01 1.63500111e+01\n",
      "  1.56255798e+01 1.89559513e+01 2.41879549e+01]]\n",
      "The p value returned = 0.0010633733603864887 and degrees of freedom returned = 6\n",
      "significance(alpha) = 0.050\n",
      "Dependent (reject H0)\n",
      "---------------is_fraud Vs credit Chi Square Test of Independence -------------------\n",
      "\n",
      " Contingency table :\n",
      "\n",
      "[[45842 30533]\n",
      " [  149     5]]\n",
      "\n",
      " Expected table :\n",
      "\n",
      "[[45898.45189405 30476.54810595]\n",
      " [   92.54810595    61.45189405]]\n",
      "The p value returned = 3.0725200523142655e-20 and degrees of freedom returned = 1\n",
      "significance(alpha) = 0.050\n",
      "Dependent (reject H0)\n",
      "---------------is_fraud Vs date_binned Chi Square Test of Independence -------------------\n",
      "\n",
      " Contingency table :\n",
      "\n",
      "[[12289 10863  9150  9119 10199 10432 10147  4176]\n",
      " [   37     7    34    13    23    20    12     8]]\n",
      "\n",
      " Expected table :\n",
      "\n",
      "[[1.23011963e+04 1.08481262e+04 9.16551895e+03 9.11362359e+03\n",
      "  1.02014302e+04 1.04309673e+04 1.01385570e+04 4.17558050e+03]\n",
      " [2.48037215e+01 2.18737995e+01 1.84810464e+01 1.83764063e+01\n",
      "  2.05698232e+01 2.10326543e+01 2.04430477e+01 8.41950110e+00]]\n",
      "The p value returned = 1.311933870150276e-05 and degrees of freedom returned = 7\n",
      "significance(alpha) = 0.050\n",
      "Dependent (reject H0)\n",
      "---------------is_fraud Vs hour_binned Chi Square Test of Independence -------------------\n",
      "\n",
      " Contingency table :\n",
      "\n",
      "[[10562 27252 30105  8456]\n",
      " [   18    50    62    24]]\n",
      "\n",
      " Expected table :\n",
      "\n",
      "[[1.05587098e+04 2.72470599e+04 3.01062947e+04 8.46293562e+03]\n",
      " [2.12902298e+01 5.49400619e+01 6.07053274e+01 1.70643808e+01]]\n",
      "The p value returned = 0.28309048140049486 and degrees of freedom returned = 3\n",
      "significance(alpha) = 0.050\n",
      "Independent (fail to reject H0)\n"
     ]
    }
   ],
   "source": [
    "for col in cat_cols:\n",
    "    find_chi2_independence(col,'is_fraud',df)"
   ]
  },
  {
   "cell_type": "code",
   "execution_count": 64,
   "metadata": {},
   "outputs": [],
   "source": [
    "# From chi_square test, we can see that is_fraud is dependent on user_id, but due to lack of knowledge of how  to use it, I am removing it\n",
    "df.drop('user_id', axis = 1, inplace=True)"
   ]
  },
  {
   "cell_type": "code",
   "execution_count": 65,
   "metadata": {},
   "outputs": [
    {
     "data": {
      "text/plain": [
       "array([False])"
      ]
     },
     "execution_count": 65,
     "metadata": {},
     "output_type": "execute_result"
    }
   ],
   "source": [
    "from sklearn.feature_selection import f_classif\n",
    "x = f_classif(df[['money_transacted']], df['is_fraud'])\n",
    "x[1] > 0.05\n",
    "# The f_classification value is less than 0.05 so the money column is significant for model building"
   ]
  },
  {
   "cell_type": "code",
   "execution_count": 66,
   "metadata": {},
   "outputs": [
    {
     "data": {
      "text/html": [
       "<div>\n",
       "<style scoped>\n",
       "    .dataframe tbody tr th:only-of-type {\n",
       "        vertical-align: middle;\n",
       "    }\n",
       "\n",
       "    .dataframe tbody tr th {\n",
       "        vertical-align: top;\n",
       "    }\n",
       "\n",
       "    .dataframe thead th {\n",
       "        text-align: right;\n",
       "    }\n",
       "</style>\n",
       "<table border=\"1\" class=\"dataframe\">\n",
       "  <thead>\n",
       "    <tr style=\"text-align: right;\">\n",
       "      <th></th>\n",
       "      <th>0</th>\n",
       "      <th>1</th>\n",
       "      <th>2</th>\n",
       "      <th>3</th>\n",
       "      <th>4</th>\n",
       "    </tr>\n",
       "  </thead>\n",
       "  <tbody>\n",
       "    <tr>\n",
       "      <th>payment_method</th>\n",
       "      <td>sbi_atm_cum_debit_card</td>\n",
       "      <td>e_wallet_payments</td>\n",
       "      <td>e_wallet_payments</td>\n",
       "      <td>other_debit_cards</td>\n",
       "      <td>other_debit_cards</td>\n",
       "    </tr>\n",
       "    <tr>\n",
       "      <th>partner_id</th>\n",
       "      <td>47334</td>\n",
       "      <td>78890</td>\n",
       "      <td>78890</td>\n",
       "      <td>102557</td>\n",
       "      <td>118335</td>\n",
       "    </tr>\n",
       "    <tr>\n",
       "      <th>partner_category</th>\n",
       "      <td>cat_1</td>\n",
       "      <td>cat_2</td>\n",
       "      <td>cat_2</td>\n",
       "      <td>cat_3</td>\n",
       "      <td>cat_1</td>\n",
       "    </tr>\n",
       "    <tr>\n",
       "      <th>device_type</th>\n",
       "      <td>android_devices</td>\n",
       "      <td>other_pcs</td>\n",
       "      <td>other_pcs</td>\n",
       "      <td>other_pcs</td>\n",
       "      <td>other_pcs</td>\n",
       "    </tr>\n",
       "    <tr>\n",
       "      <th>money_transacted</th>\n",
       "      <td>5</td>\n",
       "      <td>100</td>\n",
       "      <td>50</td>\n",
       "      <td>1000</td>\n",
       "      <td>200</td>\n",
       "    </tr>\n",
       "    <tr>\n",
       "      <th>partner_pricing_category</th>\n",
       "      <td>2</td>\n",
       "      <td>2</td>\n",
       "      <td>2</td>\n",
       "      <td>2</td>\n",
       "      <td>2</td>\n",
       "    </tr>\n",
       "    <tr>\n",
       "      <th>is_fraud</th>\n",
       "      <td>0</td>\n",
       "      <td>0</td>\n",
       "      <td>0</td>\n",
       "      <td>0</td>\n",
       "      <td>0</td>\n",
       "    </tr>\n",
       "    <tr>\n",
       "      <th>transaction_year</th>\n",
       "      <td>2016</td>\n",
       "      <td>2017</td>\n",
       "      <td>2016</td>\n",
       "      <td>2017</td>\n",
       "      <td>2016</td>\n",
       "    </tr>\n",
       "    <tr>\n",
       "      <th>transaction_month</th>\n",
       "      <td>11</td>\n",
       "      <td>1</td>\n",
       "      <td>12</td>\n",
       "      <td>1</td>\n",
       "      <td>11</td>\n",
       "    </tr>\n",
       "    <tr>\n",
       "      <th>transaction_weekday</th>\n",
       "      <td>1</td>\n",
       "      <td>2</td>\n",
       "      <td>2</td>\n",
       "      <td>2</td>\n",
       "      <td>2</td>\n",
       "    </tr>\n",
       "    <tr>\n",
       "      <th>credit</th>\n",
       "      <td>1</td>\n",
       "      <td>0</td>\n",
       "      <td>0</td>\n",
       "      <td>0</td>\n",
       "      <td>0</td>\n",
       "    </tr>\n",
       "    <tr>\n",
       "      <th>date_binned</th>\n",
       "      <td>13</td>\n",
       "      <td>9</td>\n",
       "      <td>5</td>\n",
       "      <td>9</td>\n",
       "      <td>13</td>\n",
       "    </tr>\n",
       "    <tr>\n",
       "      <th>hour_binned</th>\n",
       "      <td>18</td>\n",
       "      <td>6</td>\n",
       "      <td>6</td>\n",
       "      <td>12</td>\n",
       "      <td>12</td>\n",
       "    </tr>\n",
       "  </tbody>\n",
       "</table>\n",
       "</div>"
      ],
      "text/plain": [
       "                                               0                  1  \\\n",
       "payment_method            sbi_atm_cum_debit_card  e_wallet_payments   \n",
       "partner_id                                 47334              78890   \n",
       "partner_category                           cat_1              cat_2   \n",
       "device_type                      android_devices          other_pcs   \n",
       "money_transacted                               5                100   \n",
       "partner_pricing_category                       2                  2   \n",
       "is_fraud                                       0                  0   \n",
       "transaction_year                            2016               2017   \n",
       "transaction_month                             11                  1   \n",
       "transaction_weekday                            1                  2   \n",
       "credit                                         1                  0   \n",
       "date_binned                                   13                  9   \n",
       "hour_binned                                   18                  6   \n",
       "\n",
       "                                          2                  3  \\\n",
       "payment_method            e_wallet_payments  other_debit_cards   \n",
       "partner_id                            78890             102557   \n",
       "partner_category                      cat_2              cat_3   \n",
       "device_type                       other_pcs          other_pcs   \n",
       "money_transacted                         50               1000   \n",
       "partner_pricing_category                  2                  2   \n",
       "is_fraud                                  0                  0   \n",
       "transaction_year                       2016               2017   \n",
       "transaction_month                        12                  1   \n",
       "transaction_weekday                       2                  2   \n",
       "credit                                    0                  0   \n",
       "date_binned                               5                  9   \n",
       "hour_binned                               6                 12   \n",
       "\n",
       "                                          4  \n",
       "payment_method            other_debit_cards  \n",
       "partner_id                           118335  \n",
       "partner_category                      cat_1  \n",
       "device_type                       other_pcs  \n",
       "money_transacted                        200  \n",
       "partner_pricing_category                  2  \n",
       "is_fraud                                  0  \n",
       "transaction_year                       2016  \n",
       "transaction_month                        11  \n",
       "transaction_weekday                       2  \n",
       "credit                                    0  \n",
       "date_binned                              13  \n",
       "hour_binned                              12  "
      ]
     },
     "execution_count": 66,
     "metadata": {},
     "output_type": "execute_result"
    }
   ],
   "source": [
    "df.head().T"
   ]
  },
  {
   "cell_type": "code",
   "execution_count": 67,
   "metadata": {},
   "outputs": [
    {
     "data": {
      "text/plain": [
       "(76529, 13)"
      ]
     },
     "execution_count": 67,
     "metadata": {},
     "output_type": "execute_result"
    }
   ],
   "source": [
    "df.shape"
   ]
  },
  {
   "cell_type": "code",
   "execution_count": null,
   "metadata": {},
   "outputs": [],
   "source": []
  },
  {
   "cell_type": "code",
   "execution_count": 68,
   "metadata": {},
   "outputs": [],
   "source": [
    "from sklearn.model_selection import train_test_split\n",
    "from sklearn.impute import SimpleImputer\n",
    "from sklearn.preprocessing import StandardScaler, OneHotEncoder\n",
    "from sklearn.linear_model import LogisticRegression\n",
    "\n",
    "from sklearn.metrics import accuracy_score,recall_score,precision_score,f1_score, roc_auc_score, roc_curve, auc\n",
    "from sklearn.metrics import classification_report, confusion_matrix\n",
    "from sklearn.ensemble import RandomForestClassifier,GradientBoostingClassifier\n",
    "from sklearn.feature_selection import SelectFromModel\n",
    "\n",
    "from sklearn.model_selection import GridSearchCV\n",
    "from sklearn.tree import DecisionTreeClassifier\n",
    "from sklearn import tree\n",
    "from sklearn.ensemble import AdaBoostClassifier\n",
    "from sklearn_pandas import DataFrameMapper\n",
    "from sklearn.model_selection import StratifiedShuffleSplit\n",
    "\n",
    "from xgboost import XGBClassifier"
   ]
  },
  {
   "cell_type": "markdown",
   "metadata": {},
   "source": [
    "# Splitting train and validation data"
   ]
  },
  {
   "cell_type": "code",
   "execution_count": 69,
   "metadata": {},
   "outputs": [],
   "source": [
    "y=df[\"is_fraud\"]\n",
    "X=df.drop('is_fraud', axis=1)\n",
    "X_train, X_val, y_train, y_val = train_test_split(X, y, test_size=0.20,random_state=340, stratify=y)"
   ]
  },
  {
   "cell_type": "code",
   "execution_count": 70,
   "metadata": {},
   "outputs": [
    {
     "name": "stdout",
     "output_type": "stream",
     "text": [
      "(61223, 12)\n",
      "(15306, 12)\n",
      "(61223,)\n",
      "(15306,)\n"
     ]
    }
   ],
   "source": [
    "print(X_train.shape)\n",
    "print(X_val.shape)\n",
    "print(y_train.shape)\n",
    "print(y_val.shape)"
   ]
  },
  {
   "cell_type": "markdown",
   "metadata": {},
   "source": [
    "## Imputation"
   ]
  },
  {
   "cell_type": "code",
   "execution_count": 71,
   "metadata": {},
   "outputs": [
    {
     "name": "stdout",
     "output_type": "stream",
     "text": [
      "['money_transacted']\n",
      "['payment_method', 'partner_id', 'partner_category', 'device_type', 'partner_pricing_category', 'transaction_year', 'transaction_month', 'transaction_weekday', 'credit', 'date_binned', 'hour_binned']\n"
     ]
    }
   ],
   "source": [
    "num_attr = list(df.select_dtypes('float64').columns)\n",
    "print(num_attr)\n",
    "cat_attr = ['payment_method', 'partner_id', 'partner_category', 'device_type', 'partner_pricing_category', 'transaction_year', 'transaction_month', 'transaction_weekday', 'credit', 'date_binned', 'hour_binned']\n",
    "print(cat_attr)"
   ]
  },
  {
   "cell_type": "code",
   "execution_count": 72,
   "metadata": {},
   "outputs": [],
   "source": [
    "imputer = SimpleImputer(strategy='median')\n",
    "\n",
    "imputer = imputer.fit(X_train[num_attr])\n",
    "\n",
    "X_train[num_attr] = imputer.transform(X_train[num_attr])\n",
    "X_val[num_attr] = imputer.transform(X_val[num_attr])\n",
    "\n",
    "# Imputing even though we don't have NAs, because in future this might help"
   ]
  },
  {
   "cell_type": "code",
   "execution_count": 73,
   "metadata": {},
   "outputs": [],
   "source": [
    "imputer = SimpleImputer(strategy='most_frequent')\n",
    "\n",
    "imputer = imputer.fit(X_train[cat_attr])\n",
    "\n",
    "X_train[cat_attr] = imputer.transform(X_train[cat_attr])\n",
    "X_val[cat_attr] = imputer.transform(X_val[cat_attr])"
   ]
  },
  {
   "cell_type": "code",
   "execution_count": 74,
   "metadata": {},
   "outputs": [],
   "source": [
    "mapper = DataFrameMapper(\n",
    "  [([continuous_col], StandardScaler()) for continuous_col in num_attr] +\n",
    "  [([categorical_col], OneHotEncoder(handle_unknown='error')) for categorical_col in cat_attr]\n",
    ", df_out=True)\n",
    "\n",
    "# Doing this so that all columns will have equal importance"
   ]
  },
  {
   "cell_type": "code",
   "execution_count": 75,
   "metadata": {},
   "outputs": [],
   "source": [
    "mapper.fit(X_train)\n",
    "\n",
    "X_train_final = mapper.transform(X_train)\n",
    "X_val_final = mapper.transform(X_val)"
   ]
  },
  {
   "cell_type": "code",
   "execution_count": 76,
   "metadata": {},
   "outputs": [
    {
     "data": {
      "text/html": [
       "<div>\n",
       "<style scoped>\n",
       "    .dataframe tbody tr th:only-of-type {\n",
       "        vertical-align: middle;\n",
       "    }\n",
       "\n",
       "    .dataframe tbody tr th {\n",
       "        vertical-align: top;\n",
       "    }\n",
       "\n",
       "    .dataframe thead th {\n",
       "        text-align: right;\n",
       "    }\n",
       "</style>\n",
       "<table border=\"1\" class=\"dataframe\">\n",
       "  <thead>\n",
       "    <tr style=\"text-align: right;\">\n",
       "      <th></th>\n",
       "      <th>money_transacted</th>\n",
       "      <th>payment_method_x0_e_wallet_payments</th>\n",
       "      <th>payment_method_x0_other_debit_cards</th>\n",
       "      <th>payment_method_x0_sbi_atm_cum_debit_card</th>\n",
       "      <th>payment_method_x0_unified_payments_interface</th>\n",
       "      <th>payment_method_x0_visa_master_credit_cards</th>\n",
       "      <th>payment_method_x0_visa_master_debit_cards</th>\n",
       "      <th>partner_id_x0_7889</th>\n",
       "      <th>partner_id_x0_15778</th>\n",
       "      <th>partner_id_x0_23667</th>\n",
       "      <th>...</th>\n",
       "      <th>date_binned_x0_9</th>\n",
       "      <th>date_binned_x0_13</th>\n",
       "      <th>date_binned_x0_17</th>\n",
       "      <th>date_binned_x0_21</th>\n",
       "      <th>date_binned_x0_25</th>\n",
       "      <th>date_binned_x0_29</th>\n",
       "      <th>hour_binned_x0_0</th>\n",
       "      <th>hour_binned_x0_6</th>\n",
       "      <th>hour_binned_x0_12</th>\n",
       "      <th>hour_binned_x0_18</th>\n",
       "    </tr>\n",
       "  </thead>\n",
       "  <tbody>\n",
       "    <tr>\n",
       "      <th>14525</th>\n",
       "      <td>0.000197</td>\n",
       "      <td>0.0</td>\n",
       "      <td>0.0</td>\n",
       "      <td>0.0</td>\n",
       "      <td>0.0</td>\n",
       "      <td>0.0</td>\n",
       "      <td>1.0</td>\n",
       "      <td>0.0</td>\n",
       "      <td>0.0</td>\n",
       "      <td>1.0</td>\n",
       "      <td>...</td>\n",
       "      <td>0.0</td>\n",
       "      <td>0.0</td>\n",
       "      <td>0.0</td>\n",
       "      <td>0.0</td>\n",
       "      <td>0.0</td>\n",
       "      <td>0.0</td>\n",
       "      <td>0.0</td>\n",
       "      <td>0.0</td>\n",
       "      <td>1.0</td>\n",
       "      <td>0.0</td>\n",
       "    </tr>\n",
       "    <tr>\n",
       "      <th>9243</th>\n",
       "      <td>-0.055684</td>\n",
       "      <td>1.0</td>\n",
       "      <td>0.0</td>\n",
       "      <td>0.0</td>\n",
       "      <td>0.0</td>\n",
       "      <td>0.0</td>\n",
       "      <td>0.0</td>\n",
       "      <td>0.0</td>\n",
       "      <td>0.0</td>\n",
       "      <td>1.0</td>\n",
       "      <td>...</td>\n",
       "      <td>1.0</td>\n",
       "      <td>0.0</td>\n",
       "      <td>0.0</td>\n",
       "      <td>0.0</td>\n",
       "      <td>0.0</td>\n",
       "      <td>0.0</td>\n",
       "      <td>0.0</td>\n",
       "      <td>1.0</td>\n",
       "      <td>0.0</td>\n",
       "      <td>0.0</td>\n",
       "    </tr>\n",
       "    <tr>\n",
       "      <th>69178</th>\n",
       "      <td>-0.039718</td>\n",
       "      <td>0.0</td>\n",
       "      <td>0.0</td>\n",
       "      <td>0.0</td>\n",
       "      <td>0.0</td>\n",
       "      <td>0.0</td>\n",
       "      <td>1.0</td>\n",
       "      <td>0.0</td>\n",
       "      <td>0.0</td>\n",
       "      <td>0.0</td>\n",
       "      <td>...</td>\n",
       "      <td>0.0</td>\n",
       "      <td>0.0</td>\n",
       "      <td>0.0</td>\n",
       "      <td>0.0</td>\n",
       "      <td>0.0</td>\n",
       "      <td>1.0</td>\n",
       "      <td>0.0</td>\n",
       "      <td>1.0</td>\n",
       "      <td>0.0</td>\n",
       "      <td>0.0</td>\n",
       "    </tr>\n",
       "    <tr>\n",
       "      <th>68162</th>\n",
       "      <td>0.005785</td>\n",
       "      <td>1.0</td>\n",
       "      <td>0.0</td>\n",
       "      <td>0.0</td>\n",
       "      <td>0.0</td>\n",
       "      <td>0.0</td>\n",
       "      <td>0.0</td>\n",
       "      <td>0.0</td>\n",
       "      <td>0.0</td>\n",
       "      <td>0.0</td>\n",
       "      <td>...</td>\n",
       "      <td>0.0</td>\n",
       "      <td>1.0</td>\n",
       "      <td>0.0</td>\n",
       "      <td>0.0</td>\n",
       "      <td>0.0</td>\n",
       "      <td>0.0</td>\n",
       "      <td>0.0</td>\n",
       "      <td>0.0</td>\n",
       "      <td>1.0</td>\n",
       "      <td>0.0</td>\n",
       "    </tr>\n",
       "    <tr>\n",
       "      <th>27512</th>\n",
       "      <td>-0.075641</td>\n",
       "      <td>0.0</td>\n",
       "      <td>0.0</td>\n",
       "      <td>1.0</td>\n",
       "      <td>0.0</td>\n",
       "      <td>0.0</td>\n",
       "      <td>0.0</td>\n",
       "      <td>0.0</td>\n",
       "      <td>0.0</td>\n",
       "      <td>0.0</td>\n",
       "      <td>...</td>\n",
       "      <td>0.0</td>\n",
       "      <td>0.0</td>\n",
       "      <td>0.0</td>\n",
       "      <td>0.0</td>\n",
       "      <td>0.0</td>\n",
       "      <td>0.0</td>\n",
       "      <td>0.0</td>\n",
       "      <td>0.0</td>\n",
       "      <td>1.0</td>\n",
       "      <td>0.0</td>\n",
       "    </tr>\n",
       "  </tbody>\n",
       "</table>\n",
       "<p>5 rows × 74 columns</p>\n",
       "</div>"
      ],
      "text/plain": [
       "       money_transacted  payment_method_x0_e_wallet_payments  \\\n",
       "14525          0.000197                                  0.0   \n",
       "9243          -0.055684                                  1.0   \n",
       "69178         -0.039718                                  0.0   \n",
       "68162          0.005785                                  1.0   \n",
       "27512         -0.075641                                  0.0   \n",
       "\n",
       "       payment_method_x0_other_debit_cards  \\\n",
       "14525                                  0.0   \n",
       "9243                                   0.0   \n",
       "69178                                  0.0   \n",
       "68162                                  0.0   \n",
       "27512                                  0.0   \n",
       "\n",
       "       payment_method_x0_sbi_atm_cum_debit_card  \\\n",
       "14525                                       0.0   \n",
       "9243                                        0.0   \n",
       "69178                                       0.0   \n",
       "68162                                       0.0   \n",
       "27512                                       1.0   \n",
       "\n",
       "       payment_method_x0_unified_payments_interface  \\\n",
       "14525                                           0.0   \n",
       "9243                                            0.0   \n",
       "69178                                           0.0   \n",
       "68162                                           0.0   \n",
       "27512                                           0.0   \n",
       "\n",
       "       payment_method_x0_visa_master_credit_cards  \\\n",
       "14525                                         0.0   \n",
       "9243                                          0.0   \n",
       "69178                                         0.0   \n",
       "68162                                         0.0   \n",
       "27512                                         0.0   \n",
       "\n",
       "       payment_method_x0_visa_master_debit_cards  partner_id_x0_7889  \\\n",
       "14525                                        1.0                 0.0   \n",
       "9243                                         0.0                 0.0   \n",
       "69178                                        1.0                 0.0   \n",
       "68162                                        0.0                 0.0   \n",
       "27512                                        0.0                 0.0   \n",
       "\n",
       "       partner_id_x0_15778  partner_id_x0_23667  ...  date_binned_x0_9  \\\n",
       "14525                  0.0                  1.0  ...               0.0   \n",
       "9243                   0.0                  1.0  ...               1.0   \n",
       "69178                  0.0                  0.0  ...               0.0   \n",
       "68162                  0.0                  0.0  ...               0.0   \n",
       "27512                  0.0                  0.0  ...               0.0   \n",
       "\n",
       "       date_binned_x0_13  date_binned_x0_17  date_binned_x0_21  \\\n",
       "14525                0.0                0.0                0.0   \n",
       "9243                 0.0                0.0                0.0   \n",
       "69178                0.0                0.0                0.0   \n",
       "68162                1.0                0.0                0.0   \n",
       "27512                0.0                0.0                0.0   \n",
       "\n",
       "       date_binned_x0_25  date_binned_x0_29  hour_binned_x0_0  \\\n",
       "14525                0.0                0.0               0.0   \n",
       "9243                 0.0                0.0               0.0   \n",
       "69178                0.0                1.0               0.0   \n",
       "68162                0.0                0.0               0.0   \n",
       "27512                0.0                0.0               0.0   \n",
       "\n",
       "       hour_binned_x0_6  hour_binned_x0_12  hour_binned_x0_18  \n",
       "14525               0.0                1.0                0.0  \n",
       "9243                1.0                0.0                0.0  \n",
       "69178               1.0                0.0                0.0  \n",
       "68162               0.0                1.0                0.0  \n",
       "27512               0.0                1.0                0.0  \n",
       "\n",
       "[5 rows x 74 columns]"
      ]
     },
     "execution_count": 76,
     "metadata": {},
     "output_type": "execute_result"
    }
   ],
   "source": [
    "X_train_final.head()"
   ]
  },
  {
   "cell_type": "code",
   "execution_count": 77,
   "metadata": {},
   "outputs": [
    {
     "data": {
      "text/plain": [
       "(61223, 74)"
      ]
     },
     "execution_count": 77,
     "metadata": {},
     "output_type": "execute_result"
    }
   ],
   "source": [
    "X_train_final.shape"
   ]
  },
  {
   "cell_type": "code",
   "execution_count": 78,
   "metadata": {},
   "outputs": [
    {
     "data": {
      "text/plain": [
       "Index(['money_transacted', 'payment_method_x0_e_wallet_payments',\n",
       "       'payment_method_x0_other_debit_cards',\n",
       "       'payment_method_x0_sbi_atm_cum_debit_card',\n",
       "       'payment_method_x0_unified_payments_interface',\n",
       "       'payment_method_x0_visa_master_credit_cards',\n",
       "       'payment_method_x0_visa_master_debit_cards', 'partner_id_x0_7889',\n",
       "       'partner_id_x0_15778', 'partner_id_x0_23667', 'partner_id_x0_31556',\n",
       "       'partner_id_x0_39445', 'partner_id_x0_47334', 'partner_id_x0_55223',\n",
       "       'partner_id_x0_63112', 'partner_id_x0_71001', 'partner_id_x0_78890',\n",
       "       'partner_id_x0_86779', 'partner_id_x0_94668', 'partner_id_x0_102557',\n",
       "       'partner_id_x0_110446', 'partner_id_x0_118335', 'partner_id_x0_126224',\n",
       "       'partner_id_x0_149891', 'partner_id_x0_157780', 'partner_id_x0_165669',\n",
       "       'partner_id_x0_173558', 'partner_id_x0_181447', 'partner_id_x0_189336',\n",
       "       'partner_id_x0_213003', 'partner_category_x0_cat_1',\n",
       "       'partner_category_x0_cat_2', 'partner_category_x0_cat_3',\n",
       "       'partner_category_x0_cat_4', 'partner_category_x0_cat_5',\n",
       "       'partner_category_x0_cat_6', 'partner_category_x0_cat_7',\n",
       "       'partner_category_x0_cat_8', 'partner_category_x0_cat_9',\n",
       "       'device_type_x0_android_devices', 'device_type_x0_ios_devices',\n",
       "       'device_type_x0_other_pcs', 'device_type_x0_windows_pcs',\n",
       "       'partner_pricing_category_x0_0', 'partner_pricing_category_x0_1',\n",
       "       'partner_pricing_category_x0_2', 'partner_pricing_category_x0_4',\n",
       "       'transaction_year_x0_2016', 'transaction_year_x0_2017',\n",
       "       'transaction_month_x0_1', 'transaction_month_x0_2',\n",
       "       'transaction_month_x0_11', 'transaction_month_x0_12',\n",
       "       'transaction_weekday_x0_0', 'transaction_weekday_x0_1',\n",
       "       'transaction_weekday_x0_2', 'transaction_weekday_x0_3',\n",
       "       'transaction_weekday_x0_4', 'transaction_weekday_x0_5',\n",
       "       'transaction_weekday_x0_6', 'credit_x0_0', 'credit_x0_1',\n",
       "       'date_binned_x0_1', 'date_binned_x0_5', 'date_binned_x0_9',\n",
       "       'date_binned_x0_13', 'date_binned_x0_17', 'date_binned_x0_21',\n",
       "       'date_binned_x0_25', 'date_binned_x0_29', 'hour_binned_x0_0',\n",
       "       'hour_binned_x0_6', 'hour_binned_x0_12', 'hour_binned_x0_18'],\n",
       "      dtype='object')"
      ]
     },
     "execution_count": 78,
     "metadata": {},
     "output_type": "execute_result"
    }
   ],
   "source": [
    "X_train_final.columns"
   ]
  },
  {
   "cell_type": "markdown",
   "metadata": {},
   "source": [
    "## Error metrics"
   ]
  },
  {
   "cell_type": "code",
   "execution_count": 79,
   "metadata": {},
   "outputs": [],
   "source": [
    "def classifcation_report_and_CM_train_test(train, train_pred, val, val_pred):\n",
    "\n",
    "    print('''\n",
    "            =========================================================\n",
    "            CLASSIFICATION REPORT AND CONFUSION MATRIX FOR TRAIN DATA\n",
    "            =========================================================\n",
    "            ''')\n",
    "    print(pd.crosstab(train, train_pred, rownames=['Actual'], colnames=['Predicted']))\n",
    "    print(classification_report(train, train_pred, digits=4))\n",
    "    \n",
    "\n",
    "    print('''\n",
    "            =========================================================\n",
    "            CLASSIFICATION REPORT AND CONFUSION MATRIX FOR Val DATA\n",
    "            =========================================================\n",
    "            ''')\n",
    "    print(pd.crosstab(val, val_pred, rownames=['Actual'], colnames=['Predicted']))\n",
    "    print(classification_report(val, val_pred, digits=4))\n",
    "\n",
    "\n",
    "\n",
    "\n",
    "# Code to printout entire table #\n",
    "scores = pd.DataFrame(columns=['Model','Train_F1_Score','Val_F1_Score','Train_Recall','Val_Recall','Train_Precision','Val_Precision','Train_Accuracy','Val_Accuracy',])\n",
    "\n",
    "def get_metrics(train_actual,train_predicted,val_actual,val_predicted,model_description,dataframe):\n",
    "    classifcation_report_and_CM_train_test(train_actual,train_predicted,val_actual,val_predicted)\n",
    "    train_accuracy = accuracy_score(train_actual,train_predicted)\n",
    "    \n",
    "    train_recall   = recall_score(train_actual,train_predicted)\n",
    "    \n",
    "    train_precision= precision_score(train_actual,train_predicted)\n",
    "    \n",
    "    train_f1score  = f1_score(train_actual,train_predicted)\n",
    "    \n",
    "    val_accuracy = accuracy_score(val_actual,val_predicted)\n",
    "    \n",
    "    val_recall   = recall_score(val_actual,val_predicted)\n",
    "    \n",
    "    val_precision= precision_score(val_actual,val_predicted)\n",
    "    \n",
    "    val_f1score  = f1_score(val_actual,val_predicted)\n",
    "    \n",
    "    dataframe = dataframe.append(pd.Series([model_description, train_f1score, val_f1score,train_recall,val_recall,train_precision,val_precision,\n",
    "                                            train_accuracy,val_accuracy],\n",
    "                                           index=scores.columns ), ignore_index=True)\n",
    "    \n",
    "    return(dataframe)\n"
   ]
  },
  {
   "cell_type": "markdown",
   "metadata": {},
   "source": [
    "## Model Building"
   ]
  },
  {
   "cell_type": "markdown",
   "metadata": {},
   "source": [
    "## Logistic Regression"
   ]
  },
  {
   "cell_type": "code",
   "execution_count": 80,
   "metadata": {},
   "outputs": [],
   "source": [
    "log_mod = LogisticRegression(random_state=340)\n",
    "log_mod.fit(X_train_final, y_train)\n",
    "\n",
    "y_pred_train = log_mod.predict(X_train_final)\n",
    "y_pred_val = log_mod.predict(X_val_final)"
   ]
  },
  {
   "cell_type": "code",
   "execution_count": 81,
   "metadata": {},
   "outputs": [
    {
     "name": "stdout",
     "output_type": "stream",
     "text": [
      "\n",
      "            =========================================================\n",
      "            CLASSIFICATION REPORT AND CONFUSION MATRIX FOR TRAIN DATA\n",
      "            =========================================================\n",
      "            \n",
      "Predicted      0   1\n",
      "Actual              \n",
      "0          61077  23\n",
      "1             78  45\n",
      "              precision    recall  f1-score   support\n",
      "\n",
      "           0     0.9987    0.9996    0.9992     61100\n",
      "           1     0.6618    0.3659    0.4712       123\n",
      "\n",
      "    accuracy                         0.9984     61223\n",
      "   macro avg     0.8302    0.6827    0.7352     61223\n",
      "weighted avg     0.9980    0.9984    0.9981     61223\n",
      "\n",
      "\n",
      "            =========================================================\n",
      "            CLASSIFICATION REPORT AND CONFUSION MATRIX FOR Val DATA\n",
      "            =========================================================\n",
      "            \n",
      "Predicted      0  1\n",
      "Actual             \n",
      "0          15268  7\n",
      "1             24  7\n",
      "              precision    recall  f1-score   support\n",
      "\n",
      "           0     0.9984    0.9995    0.9990     15275\n",
      "           1     0.5000    0.2258    0.3111        31\n",
      "\n",
      "    accuracy                         0.9980     15306\n",
      "   macro avg     0.7492    0.6127    0.6550     15306\n",
      "weighted avg     0.9974    0.9980    0.9976     15306\n",
      "\n"
     ]
    },
    {
     "data": {
      "text/html": [
       "<div>\n",
       "<style scoped>\n",
       "    .dataframe tbody tr th:only-of-type {\n",
       "        vertical-align: middle;\n",
       "    }\n",
       "\n",
       "    .dataframe tbody tr th {\n",
       "        vertical-align: top;\n",
       "    }\n",
       "\n",
       "    .dataframe thead th {\n",
       "        text-align: right;\n",
       "    }\n",
       "</style>\n",
       "<table border=\"1\" class=\"dataframe\">\n",
       "  <thead>\n",
       "    <tr style=\"text-align: right;\">\n",
       "      <th></th>\n",
       "      <th>Model</th>\n",
       "      <th>Train_F1_Score</th>\n",
       "      <th>Val_F1_Score</th>\n",
       "      <th>Train_Recall</th>\n",
       "      <th>Val_Recall</th>\n",
       "      <th>Train_Precision</th>\n",
       "      <th>Val_Precision</th>\n",
       "      <th>Train_Accuracy</th>\n",
       "      <th>Val_Accuracy</th>\n",
       "    </tr>\n",
       "  </thead>\n",
       "  <tbody>\n",
       "    <tr>\n",
       "      <th>0</th>\n",
       "      <td>LogisticRegression</td>\n",
       "      <td>0.471204</td>\n",
       "      <td>0.311111</td>\n",
       "      <td>0.365854</td>\n",
       "      <td>0.225806</td>\n",
       "      <td>0.661765</td>\n",
       "      <td>0.5</td>\n",
       "      <td>0.99835</td>\n",
       "      <td>0.997975</td>\n",
       "    </tr>\n",
       "  </tbody>\n",
       "</table>\n",
       "</div>"
      ],
      "text/plain": [
       "                Model  Train_F1_Score  Val_F1_Score  Train_Recall  Val_Recall  \\\n",
       "0  LogisticRegression        0.471204      0.311111      0.365854    0.225806   \n",
       "\n",
       "   Train_Precision  Val_Precision  Train_Accuracy  Val_Accuracy  \n",
       "0         0.661765            0.5         0.99835      0.997975  "
      ]
     },
     "execution_count": 81,
     "metadata": {},
     "output_type": "execute_result"
    }
   ],
   "source": [
    "scores = get_metrics(y_train,y_pred_train,y_val,y_pred_val,\"LogisticRegression\",scores)\n",
    "scores"
   ]
  },
  {
   "cell_type": "markdown",
   "metadata": {},
   "source": [
    "## Logistic Regression with class_weight='balanced'"
   ]
  },
  {
   "cell_type": "code",
   "execution_count": 82,
   "metadata": {},
   "outputs": [],
   "source": [
    "# Because this is class imbalance data\n",
    "log_mod = LogisticRegression(class_weight='balanced', random_state=340)\n",
    "\n",
    "log_mod.fit(X_train_final, y_train)\n",
    "\n",
    "y_pred_train = log_mod.predict(X_train_final)\n",
    "y_pred_val = log_mod.predict(X_val_final)"
   ]
  },
  {
   "cell_type": "code",
   "execution_count": 83,
   "metadata": {},
   "outputs": [
    {
     "name": "stdout",
     "output_type": "stream",
     "text": [
      "\n",
      "            =========================================================\n",
      "            CLASSIFICATION REPORT AND CONFUSION MATRIX FOR TRAIN DATA\n",
      "            =========================================================\n",
      "            \n",
      "Predicted      0    1\n",
      "Actual               \n",
      "0          60875  225\n",
      "1              0  123\n",
      "              precision    recall  f1-score   support\n",
      "\n",
      "           0     1.0000    0.9963    0.9982     61100\n",
      "           1     0.3534    1.0000    0.5223       123\n",
      "\n",
      "    accuracy                         0.9963     61223\n",
      "   macro avg     0.6767    0.9982    0.7602     61223\n",
      "weighted avg     0.9987    0.9963    0.9972     61223\n",
      "\n",
      "\n",
      "            =========================================================\n",
      "            CLASSIFICATION REPORT AND CONFUSION MATRIX FOR Val DATA\n",
      "            =========================================================\n",
      "            \n",
      "Predicted      0   1\n",
      "Actual              \n",
      "0          15203  72\n",
      "1              0  31\n",
      "              precision    recall  f1-score   support\n",
      "\n",
      "           0     1.0000    0.9953    0.9976     15275\n",
      "           1     0.3010    1.0000    0.4627        31\n",
      "\n",
      "    accuracy                         0.9953     15306\n",
      "   macro avg     0.6505    0.9976    0.7302     15306\n",
      "weighted avg     0.9986    0.9953    0.9966     15306\n",
      "\n"
     ]
    },
    {
     "data": {
      "text/html": [
       "<div>\n",
       "<style scoped>\n",
       "    .dataframe tbody tr th:only-of-type {\n",
       "        vertical-align: middle;\n",
       "    }\n",
       "\n",
       "    .dataframe tbody tr th {\n",
       "        vertical-align: top;\n",
       "    }\n",
       "\n",
       "    .dataframe thead th {\n",
       "        text-align: right;\n",
       "    }\n",
       "</style>\n",
       "<table border=\"1\" class=\"dataframe\">\n",
       "  <thead>\n",
       "    <tr style=\"text-align: right;\">\n",
       "      <th></th>\n",
       "      <th>Model</th>\n",
       "      <th>Train_F1_Score</th>\n",
       "      <th>Val_F1_Score</th>\n",
       "      <th>Train_Recall</th>\n",
       "      <th>Val_Recall</th>\n",
       "      <th>Train_Precision</th>\n",
       "      <th>Val_Precision</th>\n",
       "      <th>Train_Accuracy</th>\n",
       "      <th>Val_Accuracy</th>\n",
       "    </tr>\n",
       "  </thead>\n",
       "  <tbody>\n",
       "    <tr>\n",
       "      <th>0</th>\n",
       "      <td>LogisticRegression</td>\n",
       "      <td>0.471204</td>\n",
       "      <td>0.311111</td>\n",
       "      <td>0.365854</td>\n",
       "      <td>0.225806</td>\n",
       "      <td>0.661765</td>\n",
       "      <td>0.500000</td>\n",
       "      <td>0.998350</td>\n",
       "      <td>0.997975</td>\n",
       "    </tr>\n",
       "    <tr>\n",
       "      <th>1</th>\n",
       "      <td>LogisticRegression Balanced</td>\n",
       "      <td>0.522293</td>\n",
       "      <td>0.462687</td>\n",
       "      <td>1.000000</td>\n",
       "      <td>1.000000</td>\n",
       "      <td>0.353448</td>\n",
       "      <td>0.300971</td>\n",
       "      <td>0.996325</td>\n",
       "      <td>0.995296</td>\n",
       "    </tr>\n",
       "  </tbody>\n",
       "</table>\n",
       "</div>"
      ],
      "text/plain": [
       "                         Model  Train_F1_Score  Val_F1_Score  Train_Recall  \\\n",
       "0           LogisticRegression        0.471204      0.311111      0.365854   \n",
       "1  LogisticRegression Balanced        0.522293      0.462687      1.000000   \n",
       "\n",
       "   Val_Recall  Train_Precision  Val_Precision  Train_Accuracy  Val_Accuracy  \n",
       "0    0.225806         0.661765       0.500000        0.998350      0.997975  \n",
       "1    1.000000         0.353448       0.300971        0.996325      0.995296  "
      ]
     },
     "execution_count": 83,
     "metadata": {},
     "output_type": "execute_result"
    }
   ],
   "source": [
    "scores = get_metrics(y_train,y_pred_train,y_val,y_pred_val,\"LogisticRegression Balanced\",scores)\n",
    "scores"
   ]
  },
  {
   "cell_type": "markdown",
   "metadata": {},
   "source": [
    "## Decision Tree Basic"
   ]
  },
  {
   "cell_type": "code",
   "execution_count": 84,
   "metadata": {},
   "outputs": [],
   "source": [
    "clf_dt = DecisionTreeClassifier(random_state=340)\n",
    "\n",
    "clf_dt.fit(X_train_final,y_train)\n",
    "\n",
    "y_pred_train = clf_dt.predict(X_train_final)\n",
    "y_pred_val = clf_dt.predict(X_val_final)"
   ]
  },
  {
   "cell_type": "code",
   "execution_count": 85,
   "metadata": {},
   "outputs": [
    {
     "name": "stdout",
     "output_type": "stream",
     "text": [
      "\n",
      "            =========================================================\n",
      "            CLASSIFICATION REPORT AND CONFUSION MATRIX FOR TRAIN DATA\n",
      "            =========================================================\n",
      "            \n",
      "Predicted      0    1\n",
      "Actual               \n",
      "0          61099    1\n",
      "1              3  120\n",
      "              precision    recall  f1-score   support\n",
      "\n",
      "           0     1.0000    1.0000    1.0000     61100\n",
      "           1     0.9917    0.9756    0.9836       123\n",
      "\n",
      "    accuracy                         0.9999     61223\n",
      "   macro avg     0.9958    0.9878    0.9918     61223\n",
      "weighted avg     0.9999    0.9999    0.9999     61223\n",
      "\n",
      "\n",
      "            =========================================================\n",
      "            CLASSIFICATION REPORT AND CONFUSION MATRIX FOR Val DATA\n",
      "            =========================================================\n",
      "            \n",
      "Predicted      0   1\n",
      "Actual              \n",
      "0          15274   1\n",
      "1              5  26\n",
      "              precision    recall  f1-score   support\n",
      "\n",
      "           0     0.9997    0.9999    0.9998     15275\n",
      "           1     0.9630    0.8387    0.8966        31\n",
      "\n",
      "    accuracy                         0.9996     15306\n",
      "   macro avg     0.9813    0.9193    0.9482     15306\n",
      "weighted avg     0.9996    0.9996    0.9996     15306\n",
      "\n"
     ]
    },
    {
     "data": {
      "text/html": [
       "<div>\n",
       "<style scoped>\n",
       "    .dataframe tbody tr th:only-of-type {\n",
       "        vertical-align: middle;\n",
       "    }\n",
       "\n",
       "    .dataframe tbody tr th {\n",
       "        vertical-align: top;\n",
       "    }\n",
       "\n",
       "    .dataframe thead th {\n",
       "        text-align: right;\n",
       "    }\n",
       "</style>\n",
       "<table border=\"1\" class=\"dataframe\">\n",
       "  <thead>\n",
       "    <tr style=\"text-align: right;\">\n",
       "      <th></th>\n",
       "      <th>Model</th>\n",
       "      <th>Train_F1_Score</th>\n",
       "      <th>Val_F1_Score</th>\n",
       "      <th>Train_Recall</th>\n",
       "      <th>Val_Recall</th>\n",
       "      <th>Train_Precision</th>\n",
       "      <th>Val_Precision</th>\n",
       "      <th>Train_Accuracy</th>\n",
       "      <th>Val_Accuracy</th>\n",
       "    </tr>\n",
       "  </thead>\n",
       "  <tbody>\n",
       "    <tr>\n",
       "      <th>0</th>\n",
       "      <td>LogisticRegression</td>\n",
       "      <td>0.471204</td>\n",
       "      <td>0.311111</td>\n",
       "      <td>0.365854</td>\n",
       "      <td>0.225806</td>\n",
       "      <td>0.661765</td>\n",
       "      <td>0.500000</td>\n",
       "      <td>0.998350</td>\n",
       "      <td>0.997975</td>\n",
       "    </tr>\n",
       "    <tr>\n",
       "      <th>1</th>\n",
       "      <td>LogisticRegression Balanced</td>\n",
       "      <td>0.522293</td>\n",
       "      <td>0.462687</td>\n",
       "      <td>1.000000</td>\n",
       "      <td>1.000000</td>\n",
       "      <td>0.353448</td>\n",
       "      <td>0.300971</td>\n",
       "      <td>0.996325</td>\n",
       "      <td>0.995296</td>\n",
       "    </tr>\n",
       "    <tr>\n",
       "      <th>2</th>\n",
       "      <td>DecisionTree Normal</td>\n",
       "      <td>0.983607</td>\n",
       "      <td>0.896552</td>\n",
       "      <td>0.975610</td>\n",
       "      <td>0.838710</td>\n",
       "      <td>0.991736</td>\n",
       "      <td>0.962963</td>\n",
       "      <td>0.999935</td>\n",
       "      <td>0.999608</td>\n",
       "    </tr>\n",
       "  </tbody>\n",
       "</table>\n",
       "</div>"
      ],
      "text/plain": [
       "                         Model  Train_F1_Score  Val_F1_Score  Train_Recall  \\\n",
       "0           LogisticRegression        0.471204      0.311111      0.365854   \n",
       "1  LogisticRegression Balanced        0.522293      0.462687      1.000000   \n",
       "2          DecisionTree Normal        0.983607      0.896552      0.975610   \n",
       "\n",
       "   Val_Recall  Train_Precision  Val_Precision  Train_Accuracy  Val_Accuracy  \n",
       "0    0.225806         0.661765       0.500000        0.998350      0.997975  \n",
       "1    1.000000         0.353448       0.300971        0.996325      0.995296  \n",
       "2    0.838710         0.991736       0.962963        0.999935      0.999608  "
      ]
     },
     "execution_count": 85,
     "metadata": {},
     "output_type": "execute_result"
    }
   ],
   "source": [
    "scores = get_metrics(y_train,y_pred_train,y_val,y_pred_val,\"DecisionTree Normal\",scores)\n",
    "scores"
   ]
  },
  {
   "cell_type": "markdown",
   "metadata": {},
   "source": [
    "## Decision Tree Balanced"
   ]
  },
  {
   "cell_type": "code",
   "execution_count": 86,
   "metadata": {},
   "outputs": [],
   "source": [
    "clf_dt_bal = DecisionTreeClassifier(random_state=340, class_weight = 'balanced')\n",
    "\n",
    "clf_dt_bal.fit(X_train_final,y_train)\n",
    "\n",
    "y_pred_train = clf_dt_bal.predict(X_train_final)\n",
    "y_pred_val = clf_dt_bal.predict(X_val_final)"
   ]
  },
  {
   "cell_type": "code",
   "execution_count": 87,
   "metadata": {},
   "outputs": [
    {
     "name": "stdout",
     "output_type": "stream",
     "text": [
      "\n",
      "            =========================================================\n",
      "            CLASSIFICATION REPORT AND CONFUSION MATRIX FOR TRAIN DATA\n",
      "            =========================================================\n",
      "            \n",
      "Predicted      0    1\n",
      "Actual               \n",
      "0          61096    4\n",
      "1              0  123\n",
      "              precision    recall  f1-score   support\n",
      "\n",
      "           0     1.0000    0.9999    1.0000     61100\n",
      "           1     0.9685    1.0000    0.9840       123\n",
      "\n",
      "    accuracy                         0.9999     61223\n",
      "   macro avg     0.9843    1.0000    0.9920     61223\n",
      "weighted avg     0.9999    0.9999    0.9999     61223\n",
      "\n",
      "\n",
      "            =========================================================\n",
      "            CLASSIFICATION REPORT AND CONFUSION MATRIX FOR Val DATA\n",
      "            =========================================================\n",
      "            \n",
      "Predicted      0   1\n",
      "Actual              \n",
      "0          15272   3\n",
      "1              4  27\n",
      "              precision    recall  f1-score   support\n",
      "\n",
      "           0     0.9997    0.9998    0.9998     15275\n",
      "           1     0.9000    0.8710    0.8852        31\n",
      "\n",
      "    accuracy                         0.9995     15306\n",
      "   macro avg     0.9499    0.9354    0.9425     15306\n",
      "weighted avg     0.9995    0.9995    0.9995     15306\n",
      "\n"
     ]
    },
    {
     "data": {
      "text/html": [
       "<div>\n",
       "<style scoped>\n",
       "    .dataframe tbody tr th:only-of-type {\n",
       "        vertical-align: middle;\n",
       "    }\n",
       "\n",
       "    .dataframe tbody tr th {\n",
       "        vertical-align: top;\n",
       "    }\n",
       "\n",
       "    .dataframe thead th {\n",
       "        text-align: right;\n",
       "    }\n",
       "</style>\n",
       "<table border=\"1\" class=\"dataframe\">\n",
       "  <thead>\n",
       "    <tr style=\"text-align: right;\">\n",
       "      <th></th>\n",
       "      <th>Model</th>\n",
       "      <th>Train_F1_Score</th>\n",
       "      <th>Val_F1_Score</th>\n",
       "      <th>Train_Recall</th>\n",
       "      <th>Val_Recall</th>\n",
       "      <th>Train_Precision</th>\n",
       "      <th>Val_Precision</th>\n",
       "      <th>Train_Accuracy</th>\n",
       "      <th>Val_Accuracy</th>\n",
       "    </tr>\n",
       "  </thead>\n",
       "  <tbody>\n",
       "    <tr>\n",
       "      <th>0</th>\n",
       "      <td>LogisticRegression</td>\n",
       "      <td>0.471204</td>\n",
       "      <td>0.311111</td>\n",
       "      <td>0.365854</td>\n",
       "      <td>0.225806</td>\n",
       "      <td>0.661765</td>\n",
       "      <td>0.500000</td>\n",
       "      <td>0.998350</td>\n",
       "      <td>0.997975</td>\n",
       "    </tr>\n",
       "    <tr>\n",
       "      <th>1</th>\n",
       "      <td>LogisticRegression Balanced</td>\n",
       "      <td>0.522293</td>\n",
       "      <td>0.462687</td>\n",
       "      <td>1.000000</td>\n",
       "      <td>1.000000</td>\n",
       "      <td>0.353448</td>\n",
       "      <td>0.300971</td>\n",
       "      <td>0.996325</td>\n",
       "      <td>0.995296</td>\n",
       "    </tr>\n",
       "    <tr>\n",
       "      <th>2</th>\n",
       "      <td>DecisionTree Normal</td>\n",
       "      <td>0.983607</td>\n",
       "      <td>0.896552</td>\n",
       "      <td>0.975610</td>\n",
       "      <td>0.838710</td>\n",
       "      <td>0.991736</td>\n",
       "      <td>0.962963</td>\n",
       "      <td>0.999935</td>\n",
       "      <td>0.999608</td>\n",
       "    </tr>\n",
       "    <tr>\n",
       "      <th>3</th>\n",
       "      <td>DecisionTree Balanced</td>\n",
       "      <td>0.984000</td>\n",
       "      <td>0.885246</td>\n",
       "      <td>1.000000</td>\n",
       "      <td>0.870968</td>\n",
       "      <td>0.968504</td>\n",
       "      <td>0.900000</td>\n",
       "      <td>0.999935</td>\n",
       "      <td>0.999543</td>\n",
       "    </tr>\n",
       "  </tbody>\n",
       "</table>\n",
       "</div>"
      ],
      "text/plain": [
       "                         Model  Train_F1_Score  Val_F1_Score  Train_Recall  \\\n",
       "0           LogisticRegression        0.471204      0.311111      0.365854   \n",
       "1  LogisticRegression Balanced        0.522293      0.462687      1.000000   \n",
       "2          DecisionTree Normal        0.983607      0.896552      0.975610   \n",
       "3        DecisionTree Balanced        0.984000      0.885246      1.000000   \n",
       "\n",
       "   Val_Recall  Train_Precision  Val_Precision  Train_Accuracy  Val_Accuracy  \n",
       "0    0.225806         0.661765       0.500000        0.998350      0.997975  \n",
       "1    1.000000         0.353448       0.300971        0.996325      0.995296  \n",
       "2    0.838710         0.991736       0.962963        0.999935      0.999608  \n",
       "3    0.870968         0.968504       0.900000        0.999935      0.999543  "
      ]
     },
     "execution_count": 87,
     "metadata": {},
     "output_type": "execute_result"
    }
   ],
   "source": [
    "scores = get_metrics(y_train,y_pred_train,y_val,y_pred_val,\"DecisionTree Balanced\",scores)\n",
    "scores"
   ]
  },
  {
   "cell_type": "code",
   "execution_count": 88,
   "metadata": {},
   "outputs": [
    {
     "data": {
      "text/plain": [
       "{'ccp_alpha': 0.0,\n",
       " 'class_weight': 'balanced',\n",
       " 'criterion': 'gini',\n",
       " 'max_depth': None,\n",
       " 'max_features': None,\n",
       " 'max_leaf_nodes': None,\n",
       " 'min_impurity_decrease': 0.0,\n",
       " 'min_impurity_split': None,\n",
       " 'min_samples_leaf': 1,\n",
       " 'min_samples_split': 2,\n",
       " 'min_weight_fraction_leaf': 0.0,\n",
       " 'presort': 'deprecated',\n",
       " 'random_state': 340,\n",
       " 'splitter': 'best'}"
      ]
     },
     "execution_count": 88,
     "metadata": {},
     "output_type": "execute_result"
    }
   ],
   "source": [
    "clf_dt_bal.get_params()"
   ]
  },
  {
   "cell_type": "code",
   "execution_count": 89,
   "metadata": {},
   "outputs": [
    {
     "data": {
      "text/plain": [
       "16"
      ]
     },
     "execution_count": 89,
     "metadata": {},
     "output_type": "execute_result"
    }
   ],
   "source": [
    "clf_dt_bal.tree_.max_depth"
   ]
  },
  {
   "cell_type": "code",
   "execution_count": 90,
   "metadata": {},
   "outputs": [
    {
     "data": {
      "text/html": [
       "<div>\n",
       "<style scoped>\n",
       "    .dataframe tbody tr th:only-of-type {\n",
       "        vertical-align: middle;\n",
       "    }\n",
       "\n",
       "    .dataframe tbody tr th {\n",
       "        vertical-align: top;\n",
       "    }\n",
       "\n",
       "    .dataframe thead th {\n",
       "        text-align: right;\n",
       "    }\n",
       "</style>\n",
       "<table border=\"1\" class=\"dataframe\">\n",
       "  <thead>\n",
       "    <tr style=\"text-align: right;\">\n",
       "      <th></th>\n",
       "      <th>0</th>\n",
       "      <th>1</th>\n",
       "      <th>2</th>\n",
       "      <th>3</th>\n",
       "      <th>4</th>\n",
       "      <th>5</th>\n",
       "      <th>6</th>\n",
       "      <th>7</th>\n",
       "      <th>8</th>\n",
       "      <th>9</th>\n",
       "      <th>...</th>\n",
       "      <th>64</th>\n",
       "      <th>65</th>\n",
       "      <th>66</th>\n",
       "      <th>67</th>\n",
       "      <th>68</th>\n",
       "      <th>69</th>\n",
       "      <th>70</th>\n",
       "      <th>71</th>\n",
       "      <th>72</th>\n",
       "      <th>73</th>\n",
       "    </tr>\n",
       "  </thead>\n",
       "  <tbody>\n",
       "    <tr>\n",
       "      <th>0</th>\n",
       "      <td>money_transacted</td>\n",
       "      <td>hour_binned_x0_18</td>\n",
       "      <td>payment_method_x0_visa_master_credit_cards</td>\n",
       "      <td>date_binned_x0_21</td>\n",
       "      <td>partner_id_x0_55223</td>\n",
       "      <td>transaction_weekday_x0_0</td>\n",
       "      <td>transaction_weekday_x0_1</td>\n",
       "      <td>transaction_month_x0_1</td>\n",
       "      <td>payment_method_x0_e_wallet_payments</td>\n",
       "      <td>partner_category_x0_cat_7</td>\n",
       "      <td>...</td>\n",
       "      <td>partner_id_x0_149891</td>\n",
       "      <td>partner_category_x0_cat_2</td>\n",
       "      <td>transaction_month_x0_11</td>\n",
       "      <td>partner_id_x0_213003</td>\n",
       "      <td>partner_id_x0_189336</td>\n",
       "      <td>partner_id_x0_181447</td>\n",
       "      <td>partner_id_x0_173558</td>\n",
       "      <td>partner_id_x0_165669</td>\n",
       "      <td>partner_id_x0_157780</td>\n",
       "      <td>partner_category_x0_cat_6</td>\n",
       "    </tr>\n",
       "    <tr>\n",
       "      <th>1</th>\n",
       "      <td>0.969777</td>\n",
       "      <td>0.00808261</td>\n",
       "      <td>0.00772457</td>\n",
       "      <td>0.00627514</td>\n",
       "      <td>0.00132295</td>\n",
       "      <td>0.00119464</td>\n",
       "      <td>0.00113793</td>\n",
       "      <td>0.00105814</td>\n",
       "      <td>0.000904511</td>\n",
       "      <td>0.000840653</td>\n",
       "      <td>...</td>\n",
       "      <td>0</td>\n",
       "      <td>0</td>\n",
       "      <td>0</td>\n",
       "      <td>0</td>\n",
       "      <td>0</td>\n",
       "      <td>0</td>\n",
       "      <td>0</td>\n",
       "      <td>0</td>\n",
       "      <td>0</td>\n",
       "      <td>0</td>\n",
       "    </tr>\n",
       "  </tbody>\n",
       "</table>\n",
       "<p>2 rows × 74 columns</p>\n",
       "</div>"
      ],
      "text/plain": [
       "                 0                  1   \\\n",
       "0  money_transacted  hour_binned_x0_18   \n",
       "1          0.969777         0.00808261   \n",
       "\n",
       "                                           2                  3   \\\n",
       "0  payment_method_x0_visa_master_credit_cards  date_binned_x0_21   \n",
       "1                                  0.00772457         0.00627514   \n",
       "\n",
       "                    4                         5                         6   \\\n",
       "0  partner_id_x0_55223  transaction_weekday_x0_0  transaction_weekday_x0_1   \n",
       "1           0.00132295                0.00119464                0.00113793   \n",
       "\n",
       "                       7                                    8   \\\n",
       "0  transaction_month_x0_1  payment_method_x0_e_wallet_payments   \n",
       "1              0.00105814                          0.000904511   \n",
       "\n",
       "                          9   ...                    64  \\\n",
       "0  partner_category_x0_cat_7  ...  partner_id_x0_149891   \n",
       "1                0.000840653  ...                     0   \n",
       "\n",
       "                          65                       66                    67  \\\n",
       "0  partner_category_x0_cat_2  transaction_month_x0_11  partner_id_x0_213003   \n",
       "1                          0                        0                     0   \n",
       "\n",
       "                     68                    69                    70  \\\n",
       "0  partner_id_x0_189336  partner_id_x0_181447  partner_id_x0_173558   \n",
       "1                     0                     0                     0   \n",
       "\n",
       "                     71                    72                         73  \n",
       "0  partner_id_x0_165669  partner_id_x0_157780  partner_category_x0_cat_6  \n",
       "1                     0                     0                          0  \n",
       "\n",
       "[2 rows x 74 columns]"
      ]
     },
     "execution_count": 90,
     "metadata": {},
     "output_type": "execute_result"
    }
   ],
   "source": [
    "features = X_train_final.columns\n",
    "importances = clf_dt_bal.feature_importances_\n",
    "\n",
    "indices = np.argsort(importances)[::-1]\n",
    "\n",
    "pd.DataFrame([X_train_final.columns[indices],np.sort(importances)[::-1]])"
   ]
  },
  {
   "cell_type": "code",
   "execution_count": 91,
   "metadata": {},
   "outputs": [
    {
     "data": {
      "image/png": "[encoded data removed]",
      "text/plain": [
       "<Figure size 864x720 with 1 Axes>"
      ]
     },
     "metadata": {},
     "output_type": "display_data"
    }
   ],
   "source": [
    "plt.figure(figsize = (12,10))\n",
    "plt.title('Feature Importances')\n",
    "plt.barh(range(len(indices)), importances[indices], color='blue')\n",
    "plt.yticks(range(len(indices)), [features[i] for i in indices])\n",
    "plt.xlabel('Relative Importance')\n",
    "plt.show()"
   ]
  },
  {
   "cell_type": "code",
   "execution_count": 92,
   "metadata": {},
   "outputs": [
    {
     "name": "stdout",
     "output_type": "stream",
     "text": [
      "[0, 73, 5, 67, 13, 53, 54, 49, 1, 36, 55, 58, 64, 66, 6, 70, 16, 65, 43, 68, 57, 30, 69, 32, 72, 63, 45, 17, 71, 56, 39]\n",
      "31\n"
     ]
    }
   ],
   "source": [
    "imp_indices = []\n",
    "for x in indices:\n",
    "    if importances[x] > 0:\n",
    "        imp_indices.append(x)\n",
    "        \n",
    "print(imp_indices)\n",
    "print(len(imp_indices))"
   ]
  },
  {
   "cell_type": "code",
   "execution_count": 93,
   "metadata": {},
   "outputs": [
    {
     "name": "stdout",
     "output_type": "stream",
     "text": [
      "['money_transacted', 'hour_binned_x0_18', 'payment_method_x0_visa_master_credit_cards', 'date_binned_x0_21', 'partner_id_x0_55223', 'transaction_weekday_x0_0', 'transaction_weekday_x0_1', 'transaction_month_x0_1', 'payment_method_x0_e_wallet_payments', 'partner_category_x0_cat_7', 'transaction_weekday_x0_2', 'transaction_weekday_x0_5', 'date_binned_x0_9', 'date_binned_x0_17', 'payment_method_x0_visa_master_debit_cards', 'hour_binned_x0_0', 'partner_id_x0_78890', 'date_binned_x0_13', 'partner_pricing_category_x0_0', 'date_binned_x0_25', 'transaction_weekday_x0_4', 'partner_category_x0_cat_1', 'date_binned_x0_29', 'partner_category_x0_cat_3', 'hour_binned_x0_12', 'date_binned_x0_5', 'partner_pricing_category_x0_2', 'partner_id_x0_86779', 'hour_binned_x0_6', 'transaction_weekday_x0_3', 'device_type_x0_android_devices']\n"
     ]
    }
   ],
   "source": [
    "imp_cols = list(X_train_final.columns[imp_indices])\n",
    "print(imp_cols)"
   ]
  },
  {
   "cell_type": "code",
   "execution_count": 94,
   "metadata": {},
   "outputs": [
    {
     "name": "stdout",
     "output_type": "stream",
     "text": [
      "Wall time: 231 ms\n"
     ]
    },
    {
     "data": {
      "text/plain": [
       "DecisionTreeClassifier(class_weight='balanced', random_state=340)"
      ]
     },
     "execution_count": 94,
     "metadata": {},
     "output_type": "execute_result"
    }
   ],
   "source": [
    "%time clf_dt_bal.fit(X_train_final[imp_cols], y_train)"
   ]
  },
  {
   "cell_type": "code",
   "execution_count": 95,
   "metadata": {},
   "outputs": [],
   "source": [
    "y_pred_train = clf_dt_bal.predict(X_train_final[imp_cols])\n",
    "y_pred_val = clf_dt_bal.predict(X_val_final[imp_cols])"
   ]
  },
  {
   "cell_type": "code",
   "execution_count": 96,
   "metadata": {},
   "outputs": [
    {
     "name": "stdout",
     "output_type": "stream",
     "text": [
      "\n",
      "            =========================================================\n",
      "            CLASSIFICATION REPORT AND CONFUSION MATRIX FOR TRAIN DATA\n",
      "            =========================================================\n",
      "            \n",
      "Predicted      0    1\n",
      "Actual               \n",
      "0          61096    4\n",
      "1              0  123\n",
      "              precision    recall  f1-score   support\n",
      "\n",
      "           0     1.0000    0.9999    1.0000     61100\n",
      "           1     0.9685    1.0000    0.9840       123\n",
      "\n",
      "    accuracy                         0.9999     61223\n",
      "   macro avg     0.9843    1.0000    0.9920     61223\n",
      "weighted avg     0.9999    0.9999    0.9999     61223\n",
      "\n",
      "\n",
      "            =========================================================\n",
      "            CLASSIFICATION REPORT AND CONFUSION MATRIX FOR Val DATA\n",
      "            =========================================================\n",
      "            \n",
      "Predicted      0   1\n",
      "Actual              \n",
      "0          15272   3\n",
      "1              4  27\n",
      "              precision    recall  f1-score   support\n",
      "\n",
      "           0     0.9997    0.9998    0.9998     15275\n",
      "           1     0.9000    0.8710    0.8852        31\n",
      "\n",
      "    accuracy                         0.9995     15306\n",
      "   macro avg     0.9499    0.9354    0.9425     15306\n",
      "weighted avg     0.9995    0.9995    0.9995     15306\n",
      "\n"
     ]
    },
    {
     "data": {
      "text/html": [
       "<div>\n",
       "<style scoped>\n",
       "    .dataframe tbody tr th:only-of-type {\n",
       "        vertical-align: middle;\n",
       "    }\n",
       "\n",
       "    .dataframe tbody tr th {\n",
       "        vertical-align: top;\n",
       "    }\n",
       "\n",
       "    .dataframe thead th {\n",
       "        text-align: right;\n",
       "    }\n",
       "</style>\n",
       "<table border=\"1\" class=\"dataframe\">\n",
       "  <thead>\n",
       "    <tr style=\"text-align: right;\">\n",
       "      <th></th>\n",
       "      <th>Model</th>\n",
       "      <th>Train_F1_Score</th>\n",
       "      <th>Val_F1_Score</th>\n",
       "      <th>Train_Recall</th>\n",
       "      <th>Val_Recall</th>\n",
       "      <th>Train_Precision</th>\n",
       "      <th>Val_Precision</th>\n",
       "      <th>Train_Accuracy</th>\n",
       "      <th>Val_Accuracy</th>\n",
       "    </tr>\n",
       "  </thead>\n",
       "  <tbody>\n",
       "    <tr>\n",
       "      <th>0</th>\n",
       "      <td>LogisticRegression</td>\n",
       "      <td>0.471204</td>\n",
       "      <td>0.311111</td>\n",
       "      <td>0.365854</td>\n",
       "      <td>0.225806</td>\n",
       "      <td>0.661765</td>\n",
       "      <td>0.500000</td>\n",
       "      <td>0.998350</td>\n",
       "      <td>0.997975</td>\n",
       "    </tr>\n",
       "    <tr>\n",
       "      <th>1</th>\n",
       "      <td>LogisticRegression Balanced</td>\n",
       "      <td>0.522293</td>\n",
       "      <td>0.462687</td>\n",
       "      <td>1.000000</td>\n",
       "      <td>1.000000</td>\n",
       "      <td>0.353448</td>\n",
       "      <td>0.300971</td>\n",
       "      <td>0.996325</td>\n",
       "      <td>0.995296</td>\n",
       "    </tr>\n",
       "    <tr>\n",
       "      <th>2</th>\n",
       "      <td>DecisionTree Normal</td>\n",
       "      <td>0.983607</td>\n",
       "      <td>0.896552</td>\n",
       "      <td>0.975610</td>\n",
       "      <td>0.838710</td>\n",
       "      <td>0.991736</td>\n",
       "      <td>0.962963</td>\n",
       "      <td>0.999935</td>\n",
       "      <td>0.999608</td>\n",
       "    </tr>\n",
       "    <tr>\n",
       "      <th>3</th>\n",
       "      <td>DecisionTree Balanced</td>\n",
       "      <td>0.984000</td>\n",
       "      <td>0.885246</td>\n",
       "      <td>1.000000</td>\n",
       "      <td>0.870968</td>\n",
       "      <td>0.968504</td>\n",
       "      <td>0.900000</td>\n",
       "      <td>0.999935</td>\n",
       "      <td>0.999543</td>\n",
       "    </tr>\n",
       "    <tr>\n",
       "      <th>4</th>\n",
       "      <td>DecisionTree Imp Params</td>\n",
       "      <td>0.984000</td>\n",
       "      <td>0.885246</td>\n",
       "      <td>1.000000</td>\n",
       "      <td>0.870968</td>\n",
       "      <td>0.968504</td>\n",
       "      <td>0.900000</td>\n",
       "      <td>0.999935</td>\n",
       "      <td>0.999543</td>\n",
       "    </tr>\n",
       "  </tbody>\n",
       "</table>\n",
       "</div>"
      ],
      "text/plain": [
       "                         Model  Train_F1_Score  Val_F1_Score  Train_Recall  \\\n",
       "0           LogisticRegression        0.471204      0.311111      0.365854   \n",
       "1  LogisticRegression Balanced        0.522293      0.462687      1.000000   \n",
       "2          DecisionTree Normal        0.983607      0.896552      0.975610   \n",
       "3        DecisionTree Balanced        0.984000      0.885246      1.000000   \n",
       "4      DecisionTree Imp Params        0.984000      0.885246      1.000000   \n",
       "\n",
       "   Val_Recall  Train_Precision  Val_Precision  Train_Accuracy  Val_Accuracy  \n",
       "0    0.225806         0.661765       0.500000        0.998350      0.997975  \n",
       "1    1.000000         0.353448       0.300971        0.996325      0.995296  \n",
       "2    0.838710         0.991736       0.962963        0.999935      0.999608  \n",
       "3    0.870968         0.968504       0.900000        0.999935      0.999543  \n",
       "4    0.870968         0.968504       0.900000        0.999935      0.999543  "
      ]
     },
     "execution_count": 96,
     "metadata": {},
     "output_type": "execute_result"
    }
   ],
   "source": [
    "scores = get_metrics(y_train,y_pred_train,y_val,y_pred_val,\"DecisionTree Imp Params\",scores)\n",
    "scores"
   ]
  },
  {
   "cell_type": "markdown",
   "metadata": {},
   "source": [
    "## Random Forests"
   ]
  },
  {
   "cell_type": "raw",
   "metadata": {},
   "source": [
    "clf = RandomizedSearchCV(estimator=clf, param_distributions=model_params, n_iter=500, cv=5, scoring='f1', n_jobs=-1)\n",
    "clf.fit(X_train_final, y_train)\n",
    "************************************\n",
    "\n",
    "RandomizedSearchCV(cv=5, estimator=RandomForestClassifier(n_jobs=-1),\n",
    "                   n_iter=500, n_jobs=-1,\n",
    "                   param_distributions={'max_depth': array([23, 13, 18, 10,  7, 10,  3,  2, 17,  3]),\n",
    "                                        'max_features': [0.24, 0.3, 0.26, 0.1,\n",
    "                                                         0.26, 0.46, 0.12, 0.03,\n",
    "                                                         0.07, 0.24, 0.04, 0.29,\n",
    "                                                         0.42, 0.23, 0.21],\n",
    "                                        'min_samples_split': array([0.13, 0.09, 0.12, 0.13, 0.11, 0.05, 0.04, 0.12, 0.19, 0.19]),\n",
    "                                        'n_estimators': array([21, 12, 40, 26, 63, 57, 75, 66, 71, 71])},\n",
    "                   scoring='f1')\n"
   ]
  },
  {
   "cell_type": "code",
   "execution_count": 97,
   "metadata": {},
   "outputs": [],
   "source": [
    "rfc = RandomForestClassifier(random_state=340, class_weight = 'balanced', n_estimators = 71, min_samples_split = 0.05, \n",
    "                             max_features = 0.46, max_depth = 10)\n",
    "\n",
    "rfc.fit(X_train_final,y_train)\n",
    "\n",
    "y_pred_train = rfc.predict(X_train_final)\n",
    "y_pred_val = rfc.predict(X_val_final)"
   ]
  },
  {
   "cell_type": "code",
   "execution_count": 98,
   "metadata": {},
   "outputs": [
    {
     "name": "stdout",
     "output_type": "stream",
     "text": [
      "\n",
      "            =========================================================\n",
      "            CLASSIFICATION REPORT AND CONFUSION MATRIX FOR TRAIN DATA\n",
      "            =========================================================\n",
      "            \n",
      "Predicted      0    1\n",
      "Actual               \n",
      "0          60556  544\n",
      "1              1  122\n",
      "              precision    recall  f1-score   support\n",
      "\n",
      "           0     1.0000    0.9911    0.9955     61100\n",
      "           1     0.1832    0.9919    0.3093       123\n",
      "\n",
      "    accuracy                         0.9911     61223\n",
      "   macro avg     0.5916    0.9915    0.6524     61223\n",
      "weighted avg     0.9983    0.9911    0.9941     61223\n",
      "\n",
      "\n",
      "            =========================================================\n",
      "            CLASSIFICATION REPORT AND CONFUSION MATRIX FOR Val DATA\n",
      "            =========================================================\n",
      "            \n",
      "Predicted      0    1\n",
      "Actual               \n",
      "0          15143  132\n",
      "1              0   31\n",
      "              precision    recall  f1-score   support\n",
      "\n",
      "           0     1.0000    0.9914    0.9957     15275\n",
      "           1     0.1902    1.0000    0.3196        31\n",
      "\n",
      "    accuracy                         0.9914     15306\n",
      "   macro avg     0.5951    0.9957    0.6576     15306\n",
      "weighted avg     0.9984    0.9914    0.9943     15306\n",
      "\n"
     ]
    },
    {
     "data": {
      "text/html": [
       "<div>\n",
       "<style scoped>\n",
       "    .dataframe tbody tr th:only-of-type {\n",
       "        vertical-align: middle;\n",
       "    }\n",
       "\n",
       "    .dataframe tbody tr th {\n",
       "        vertical-align: top;\n",
       "    }\n",
       "\n",
       "    .dataframe thead th {\n",
       "        text-align: right;\n",
       "    }\n",
       "</style>\n",
       "<table border=\"1\" class=\"dataframe\">\n",
       "  <thead>\n",
       "    <tr style=\"text-align: right;\">\n",
       "      <th></th>\n",
       "      <th>Model</th>\n",
       "      <th>Train_F1_Score</th>\n",
       "      <th>Val_F1_Score</th>\n",
       "      <th>Train_Recall</th>\n",
       "      <th>Val_Recall</th>\n",
       "      <th>Train_Precision</th>\n",
       "      <th>Val_Precision</th>\n",
       "      <th>Train_Accuracy</th>\n",
       "      <th>Val_Accuracy</th>\n",
       "    </tr>\n",
       "  </thead>\n",
       "  <tbody>\n",
       "    <tr>\n",
       "      <th>0</th>\n",
       "      <td>LogisticRegression</td>\n",
       "      <td>0.471204</td>\n",
       "      <td>0.311111</td>\n",
       "      <td>0.365854</td>\n",
       "      <td>0.225806</td>\n",
       "      <td>0.661765</td>\n",
       "      <td>0.500000</td>\n",
       "      <td>0.998350</td>\n",
       "      <td>0.997975</td>\n",
       "    </tr>\n",
       "    <tr>\n",
       "      <th>1</th>\n",
       "      <td>LogisticRegression Balanced</td>\n",
       "      <td>0.522293</td>\n",
       "      <td>0.462687</td>\n",
       "      <td>1.000000</td>\n",
       "      <td>1.000000</td>\n",
       "      <td>0.353448</td>\n",
       "      <td>0.300971</td>\n",
       "      <td>0.996325</td>\n",
       "      <td>0.995296</td>\n",
       "    </tr>\n",
       "    <tr>\n",
       "      <th>2</th>\n",
       "      <td>DecisionTree Normal</td>\n",
       "      <td>0.983607</td>\n",
       "      <td>0.896552</td>\n",
       "      <td>0.975610</td>\n",
       "      <td>0.838710</td>\n",
       "      <td>0.991736</td>\n",
       "      <td>0.962963</td>\n",
       "      <td>0.999935</td>\n",
       "      <td>0.999608</td>\n",
       "    </tr>\n",
       "    <tr>\n",
       "      <th>3</th>\n",
       "      <td>DecisionTree Balanced</td>\n",
       "      <td>0.984000</td>\n",
       "      <td>0.885246</td>\n",
       "      <td>1.000000</td>\n",
       "      <td>0.870968</td>\n",
       "      <td>0.968504</td>\n",
       "      <td>0.900000</td>\n",
       "      <td>0.999935</td>\n",
       "      <td>0.999543</td>\n",
       "    </tr>\n",
       "    <tr>\n",
       "      <th>4</th>\n",
       "      <td>DecisionTree Imp Params</td>\n",
       "      <td>0.984000</td>\n",
       "      <td>0.885246</td>\n",
       "      <td>1.000000</td>\n",
       "      <td>0.870968</td>\n",
       "      <td>0.968504</td>\n",
       "      <td>0.900000</td>\n",
       "      <td>0.999935</td>\n",
       "      <td>0.999543</td>\n",
       "    </tr>\n",
       "    <tr>\n",
       "      <th>5</th>\n",
       "      <td>Random Forest Classifier</td>\n",
       "      <td>0.309252</td>\n",
       "      <td>0.319588</td>\n",
       "      <td>0.991870</td>\n",
       "      <td>1.000000</td>\n",
       "      <td>0.183183</td>\n",
       "      <td>0.190184</td>\n",
       "      <td>0.991098</td>\n",
       "      <td>0.991376</td>\n",
       "    </tr>\n",
       "  </tbody>\n",
       "</table>\n",
       "</div>"
      ],
      "text/plain": [
       "                         Model  Train_F1_Score  Val_F1_Score  Train_Recall  \\\n",
       "0           LogisticRegression        0.471204      0.311111      0.365854   \n",
       "1  LogisticRegression Balanced        0.522293      0.462687      1.000000   \n",
       "2          DecisionTree Normal        0.983607      0.896552      0.975610   \n",
       "3        DecisionTree Balanced        0.984000      0.885246      1.000000   \n",
       "4      DecisionTree Imp Params        0.984000      0.885246      1.000000   \n",
       "5     Random Forest Classifier        0.309252      0.319588      0.991870   \n",
       "\n",
       "   Val_Recall  Train_Precision  Val_Precision  Train_Accuracy  Val_Accuracy  \n",
       "0    0.225806         0.661765       0.500000        0.998350      0.997975  \n",
       "1    1.000000         0.353448       0.300971        0.996325      0.995296  \n",
       "2    0.838710         0.991736       0.962963        0.999935      0.999608  \n",
       "3    0.870968         0.968504       0.900000        0.999935      0.999543  \n",
       "4    0.870968         0.968504       0.900000        0.999935      0.999543  \n",
       "5    1.000000         0.183183       0.190184        0.991098      0.991376  "
      ]
     },
     "execution_count": 98,
     "metadata": {},
     "output_type": "execute_result"
    }
   ],
   "source": [
    "scores = get_metrics(y_train,y_pred_train,y_val,y_pred_val,\"Random Forest Classifier\",scores)\n",
    "scores"
   ]
  },
  {
   "cell_type": "markdown",
   "metadata": {},
   "source": [
    "## XGBoost"
   ]
  },
  {
   "cell_type": "code",
   "execution_count": 99,
   "metadata": {},
   "outputs": [
    {
     "data": {
      "text/plain": [
       "0    61100\n",
       "1      123\n",
       "Name: is_fraud, dtype: int64"
      ]
     },
     "execution_count": 99,
     "metadata": {},
     "output_type": "execute_result"
    }
   ],
   "source": [
    "y_train.value_counts()"
   ]
  },
  {
   "cell_type": "code",
   "execution_count": 100,
   "metadata": {},
   "outputs": [
    {
     "data": {
      "text/plain": [
       "0.8012063991607657"
      ]
     },
     "execution_count": 100,
     "metadata": {},
     "output_type": "execute_result"
    }
   ],
   "source": [
    "weight = y_train[y_train ==0].count()/(y_train[y_train ==1].count()*620)\n",
    "weight"
   ]
  },
  {
   "cell_type": "code",
   "execution_count": 101,
   "metadata": {},
   "outputs": [
    {
     "name": "stdout",
     "output_type": "stream",
     "text": [
      "Wall time: 35.3 s\n"
     ]
    },
    {
     "data": {
      "text/plain": [
       "XGBClassifier(base_score=0.5, booster='gbtree', colsample_bylevel=1,\n",
       "              colsample_bynode=1, colsample_bytree=1, gamma=0.6, gpu_id=-1,\n",
       "              importance_type='gain', interaction_constraints='',\n",
       "              learning_rate=0.1, max_delta_step=0, max_depth=6,\n",
       "              min_child_weight=1, missing=nan, monotone_constraints='()',\n",
       "              n_estimators=300, n_jobs=-1, num_parallel_tree=1, random_state=0,\n",
       "              reg_alpha=0, reg_lambda=1, scale_pos_weight=0.8012063991607657,\n",
       "              subsample=1, tree_method='exact', validate_parameters=1,\n",
       "              verbosity=None)"
      ]
     },
     "execution_count": 101,
     "metadata": {},
     "output_type": "execute_result"
    }
   ],
   "source": [
    "XGB_model = XGBClassifier(n_estimators=300, gamma=0.6,learning_rate=0.1,n_jobs = -1, scale_pos_weight=weight,min_child_weight=1)\n",
    "%time XGB_model.fit(X_train_final,y_train)"
   ]
  },
  {
   "cell_type": "code",
   "execution_count": 102,
   "metadata": {},
   "outputs": [],
   "source": [
    "y_pred_train = XGB_model.predict(X_train_final)\n",
    "y_pred_val = XGB_model.predict(X_val_final)"
   ]
  },
  {
   "cell_type": "code",
   "execution_count": 103,
   "metadata": {},
   "outputs": [
    {
     "name": "stdout",
     "output_type": "stream",
     "text": [
      "\n",
      "            =========================================================\n",
      "            CLASSIFICATION REPORT AND CONFUSION MATRIX FOR TRAIN DATA\n",
      "            =========================================================\n",
      "            \n",
      "Predicted      0    1\n",
      "Actual               \n",
      "0          61096    4\n",
      "1              7  116\n",
      "              precision    recall  f1-score   support\n",
      "\n",
      "           0     0.9999    0.9999    0.9999     61100\n",
      "           1     0.9667    0.9431    0.9547       123\n",
      "\n",
      "    accuracy                         0.9998     61223\n",
      "   macro avg     0.9833    0.9715    0.9773     61223\n",
      "weighted avg     0.9998    0.9998    0.9998     61223\n",
      "\n",
      "\n",
      "            =========================================================\n",
      "            CLASSIFICATION REPORT AND CONFUSION MATRIX FOR Val DATA\n",
      "            =========================================================\n",
      "            \n",
      "Predicted      0   1\n",
      "Actual              \n",
      "0          15272   3\n",
      "1              3  28\n",
      "              precision    recall  f1-score   support\n",
      "\n",
      "           0     0.9998    0.9998    0.9998     15275\n",
      "           1     0.9032    0.9032    0.9032        31\n",
      "\n",
      "    accuracy                         0.9996     15306\n",
      "   macro avg     0.9515    0.9515    0.9515     15306\n",
      "weighted avg     0.9996    0.9996    0.9996     15306\n",
      "\n"
     ]
    },
    {
     "data": {
      "text/html": [
       "<div>\n",
       "<style scoped>\n",
       "    .dataframe tbody tr th:only-of-type {\n",
       "        vertical-align: middle;\n",
       "    }\n",
       "\n",
       "    .dataframe tbody tr th {\n",
       "        vertical-align: top;\n",
       "    }\n",
       "\n",
       "    .dataframe thead th {\n",
       "        text-align: right;\n",
       "    }\n",
       "</style>\n",
       "<table border=\"1\" class=\"dataframe\">\n",
       "  <thead>\n",
       "    <tr style=\"text-align: right;\">\n",
       "      <th></th>\n",
       "      <th>Model</th>\n",
       "      <th>Train_F1_Score</th>\n",
       "      <th>Val_F1_Score</th>\n",
       "      <th>Train_Recall</th>\n",
       "      <th>Val_Recall</th>\n",
       "      <th>Train_Precision</th>\n",
       "      <th>Val_Precision</th>\n",
       "      <th>Train_Accuracy</th>\n",
       "      <th>Val_Accuracy</th>\n",
       "    </tr>\n",
       "  </thead>\n",
       "  <tbody>\n",
       "    <tr>\n",
       "      <th>0</th>\n",
       "      <td>LogisticRegression</td>\n",
       "      <td>0.471204</td>\n",
       "      <td>0.311111</td>\n",
       "      <td>0.365854</td>\n",
       "      <td>0.225806</td>\n",
       "      <td>0.661765</td>\n",
       "      <td>0.500000</td>\n",
       "      <td>0.998350</td>\n",
       "      <td>0.997975</td>\n",
       "    </tr>\n",
       "    <tr>\n",
       "      <th>1</th>\n",
       "      <td>LogisticRegression Balanced</td>\n",
       "      <td>0.522293</td>\n",
       "      <td>0.462687</td>\n",
       "      <td>1.000000</td>\n",
       "      <td>1.000000</td>\n",
       "      <td>0.353448</td>\n",
       "      <td>0.300971</td>\n",
       "      <td>0.996325</td>\n",
       "      <td>0.995296</td>\n",
       "    </tr>\n",
       "    <tr>\n",
       "      <th>2</th>\n",
       "      <td>DecisionTree Normal</td>\n",
       "      <td>0.983607</td>\n",
       "      <td>0.896552</td>\n",
       "      <td>0.975610</td>\n",
       "      <td>0.838710</td>\n",
       "      <td>0.991736</td>\n",
       "      <td>0.962963</td>\n",
       "      <td>0.999935</td>\n",
       "      <td>0.999608</td>\n",
       "    </tr>\n",
       "    <tr>\n",
       "      <th>3</th>\n",
       "      <td>DecisionTree Balanced</td>\n",
       "      <td>0.984000</td>\n",
       "      <td>0.885246</td>\n",
       "      <td>1.000000</td>\n",
       "      <td>0.870968</td>\n",
       "      <td>0.968504</td>\n",
       "      <td>0.900000</td>\n",
       "      <td>0.999935</td>\n",
       "      <td>0.999543</td>\n",
       "    </tr>\n",
       "    <tr>\n",
       "      <th>4</th>\n",
       "      <td>DecisionTree Imp Params</td>\n",
       "      <td>0.984000</td>\n",
       "      <td>0.885246</td>\n",
       "      <td>1.000000</td>\n",
       "      <td>0.870968</td>\n",
       "      <td>0.968504</td>\n",
       "      <td>0.900000</td>\n",
       "      <td>0.999935</td>\n",
       "      <td>0.999543</td>\n",
       "    </tr>\n",
       "    <tr>\n",
       "      <th>5</th>\n",
       "      <td>Random Forest Classifier</td>\n",
       "      <td>0.309252</td>\n",
       "      <td>0.319588</td>\n",
       "      <td>0.991870</td>\n",
       "      <td>1.000000</td>\n",
       "      <td>0.183183</td>\n",
       "      <td>0.190184</td>\n",
       "      <td>0.991098</td>\n",
       "      <td>0.991376</td>\n",
       "    </tr>\n",
       "    <tr>\n",
       "      <th>6</th>\n",
       "      <td>XGB Classifier</td>\n",
       "      <td>0.954733</td>\n",
       "      <td>0.903226</td>\n",
       "      <td>0.943089</td>\n",
       "      <td>0.903226</td>\n",
       "      <td>0.966667</td>\n",
       "      <td>0.903226</td>\n",
       "      <td>0.999820</td>\n",
       "      <td>0.999608</td>\n",
       "    </tr>\n",
       "  </tbody>\n",
       "</table>\n",
       "</div>"
      ],
      "text/plain": [
       "                         Model  Train_F1_Score  Val_F1_Score  Train_Recall  \\\n",
       "0           LogisticRegression        0.471204      0.311111      0.365854   \n",
       "1  LogisticRegression Balanced        0.522293      0.462687      1.000000   \n",
       "2          DecisionTree Normal        0.983607      0.896552      0.975610   \n",
       "3        DecisionTree Balanced        0.984000      0.885246      1.000000   \n",
       "4      DecisionTree Imp Params        0.984000      0.885246      1.000000   \n",
       "5     Random Forest Classifier        0.309252      0.319588      0.991870   \n",
       "6               XGB Classifier        0.954733      0.903226      0.943089   \n",
       "\n",
       "   Val_Recall  Train_Precision  Val_Precision  Train_Accuracy  Val_Accuracy  \n",
       "0    0.225806         0.661765       0.500000        0.998350      0.997975  \n",
       "1    1.000000         0.353448       0.300971        0.996325      0.995296  \n",
       "2    0.838710         0.991736       0.962963        0.999935      0.999608  \n",
       "3    0.870968         0.968504       0.900000        0.999935      0.999543  \n",
       "4    0.870968         0.968504       0.900000        0.999935      0.999543  \n",
       "5    1.000000         0.183183       0.190184        0.991098      0.991376  \n",
       "6    0.903226         0.966667       0.903226        0.999820      0.999608  "
      ]
     },
     "execution_count": 103,
     "metadata": {},
     "output_type": "execute_result"
    }
   ],
   "source": [
    "scores = get_metrics(y_train,y_pred_train,y_val,y_pred_val,\"XGB Classifier\",scores)\n",
    "scores"
   ]
  },
  {
   "cell_type": "code",
   "execution_count": 104,
   "metadata": {},
   "outputs": [
    {
     "data": {
      "text/plain": [
       "array([0.25844547, 0.        , 0.02339576, 0.        , 0.        ,\n",
       "       0.069633  , 0.        , 0.        , 0.        , 0.        ,\n",
       "       0.        , 0.        , 0.        , 0.        , 0.        ,\n",
       "       0.        , 0.04158416, 0.        , 0.        , 0.        ,\n",
       "       0.        , 0.        , 0.        , 0.        , 0.        ,\n",
       "       0.        , 0.        , 0.        , 0.        , 0.        ,\n",
       "       0.        , 0.02438896, 0.        , 0.        , 0.        ,\n",
       "       0.        , 0.        , 0.        , 0.        , 0.        ,\n",
       "       0.        , 0.        , 0.        , 0.02848642, 0.02892354,\n",
       "       0.        , 0.        , 0.02038532, 0.        , 0.05293485,\n",
       "       0.04313023, 0.        , 0.02235596, 0.02433014, 0.01713974,\n",
       "       0.07730389, 0.01591808, 0.        , 0.02846121, 0.01698433,\n",
       "       0.        , 0.        , 0.02735906, 0.00576412, 0.        ,\n",
       "       0.02725582, 0.        , 0.0448911 , 0.0269742 , 0.02054522,\n",
       "       0.        , 0.0223827 , 0.02159996, 0.0094268 ], dtype=float32)"
      ]
     },
     "execution_count": 104,
     "metadata": {},
     "output_type": "execute_result"
    }
   ],
   "source": [
    "XGB_model.feature_importances_"
   ]
  },
  {
   "cell_type": "code",
   "execution_count": 105,
   "metadata": {},
   "outputs": [
    {
     "data": {
      "text/html": [
       "<div>\n",
       "<style scoped>\n",
       "    .dataframe tbody tr th:only-of-type {\n",
       "        vertical-align: middle;\n",
       "    }\n",
       "\n",
       "    .dataframe tbody tr th {\n",
       "        vertical-align: top;\n",
       "    }\n",
       "\n",
       "    .dataframe thead th {\n",
       "        text-align: right;\n",
       "    }\n",
       "</style>\n",
       "<table border=\"1\" class=\"dataframe\">\n",
       "  <thead>\n",
       "    <tr style=\"text-align: right;\">\n",
       "      <th></th>\n",
       "      <th>0</th>\n",
       "      <th>1</th>\n",
       "      <th>2</th>\n",
       "      <th>3</th>\n",
       "      <th>4</th>\n",
       "      <th>5</th>\n",
       "      <th>6</th>\n",
       "      <th>7</th>\n",
       "      <th>8</th>\n",
       "      <th>9</th>\n",
       "      <th>10</th>\n",
       "      <th>11</th>\n",
       "      <th>12</th>\n",
       "      <th>13</th>\n",
       "      <th>14</th>\n",
       "      <th>15</th>\n",
       "      <th>16</th>\n",
       "      <th>17</th>\n",
       "      <th>18</th>\n",
       "      <th>19</th>\n",
       "      <th>20</th>\n",
       "      <th>21</th>\n",
       "      <th>22</th>\n",
       "      <th>23</th>\n",
       "      <th>24</th>\n",
       "      <th>25</th>\n",
       "      <th>26</th>\n",
       "      <th>27</th>\n",
       "      <th>28</th>\n",
       "      <th>29</th>\n",
       "      <th>30</th>\n",
       "      <th>31</th>\n",
       "      <th>32</th>\n",
       "      <th>33</th>\n",
       "      <th>34</th>\n",
       "      <th>35</th>\n",
       "      <th>36</th>\n",
       "      <th>37</th>\n",
       "      <th>38</th>\n",
       "      <th>39</th>\n",
       "      <th>40</th>\n",
       "      <th>41</th>\n",
       "      <th>42</th>\n",
       "      <th>43</th>\n",
       "      <th>44</th>\n",
       "      <th>45</th>\n",
       "      <th>46</th>\n",
       "      <th>47</th>\n",
       "      <th>48</th>\n",
       "      <th>49</th>\n",
       "      <th>50</th>\n",
       "      <th>51</th>\n",
       "      <th>52</th>\n",
       "      <th>53</th>\n",
       "      <th>54</th>\n",
       "      <th>55</th>\n",
       "      <th>56</th>\n",
       "      <th>57</th>\n",
       "      <th>58</th>\n",
       "      <th>59</th>\n",
       "      <th>60</th>\n",
       "      <th>61</th>\n",
       "      <th>62</th>\n",
       "      <th>63</th>\n",
       "      <th>64</th>\n",
       "      <th>65</th>\n",
       "      <th>66</th>\n",
       "      <th>67</th>\n",
       "      <th>68</th>\n",
       "      <th>69</th>\n",
       "      <th>70</th>\n",
       "      <th>71</th>\n",
       "      <th>72</th>\n",
       "      <th>73</th>\n",
       "    </tr>\n",
       "  </thead>\n",
       "  <tbody>\n",
       "    <tr>\n",
       "      <th>0</th>\n",
       "      <td>money_transacted</td>\n",
       "      <td>transaction_weekday_x0_2</td>\n",
       "      <td>payment_method_x0_visa_master_credit_cards</td>\n",
       "      <td>transaction_month_x0_1</td>\n",
       "      <td>date_binned_x0_21</td>\n",
       "      <td>transaction_month_x0_2</td>\n",
       "      <td>partner_id_x0_78890</td>\n",
       "      <td>partner_pricing_category_x0_1</td>\n",
       "      <td>partner_pricing_category_x0_0</td>\n",
       "      <td>transaction_weekday_x0_5</td>\n",
       "      <td>date_binned_x0_1</td>\n",
       "      <td>date_binned_x0_13</td>\n",
       "      <td>date_binned_x0_25</td>\n",
       "      <td>partner_category_x0_cat_2</td>\n",
       "      <td>transaction_weekday_x0_0</td>\n",
       "      <td>payment_method_x0_other_debit_cards</td>\n",
       "      <td>hour_binned_x0_6</td>\n",
       "      <td>transaction_month_x0_12</td>\n",
       "      <td>hour_binned_x0_12</td>\n",
       "      <td>date_binned_x0_29</td>\n",
       "      <td>transaction_year_x0_2016</td>\n",
       "      <td>transaction_weekday_x0_1</td>\n",
       "      <td>transaction_weekday_x0_6</td>\n",
       "      <td>transaction_weekday_x0_3</td>\n",
       "      <td>hour_binned_x0_18</td>\n",
       "      <td>date_binned_x0_5</td>\n",
       "      <td>transaction_year_x0_2017</td>\n",
       "      <td>partner_id_x0_47334</td>\n",
       "      <td>partner_id_x0_118335</td>\n",
       "      <td>partner_id_x0_110446</td>\n",
       "      <td>partner_id_x0_102557</td>\n",
       "      <td>partner_id_x0_94668</td>\n",
       "      <td>partner_id_x0_86779</td>\n",
       "      <td>date_binned_x0_9</td>\n",
       "      <td>partner_id_x0_71001</td>\n",
       "      <td>partner_id_x0_63112</td>\n",
       "      <td>partner_id_x0_55223</td>\n",
       "      <td>partner_id_x0_39445</td>\n",
       "      <td>partner_id_x0_149891</td>\n",
       "      <td>partner_id_x0_31556</td>\n",
       "      <td>partner_id_x0_23667</td>\n",
       "      <td>partner_id_x0_15778</td>\n",
       "      <td>partner_id_x0_7889</td>\n",
       "      <td>payment_method_x0_visa_master_debit_cards</td>\n",
       "      <td>date_binned_x0_17</td>\n",
       "      <td>payment_method_x0_unified_payments_interface</td>\n",
       "      <td>payment_method_x0_sbi_atm_cum_debit_card</td>\n",
       "      <td>hour_binned_x0_0</td>\n",
       "      <td>payment_method_x0_e_wallet_payments</td>\n",
       "      <td>partner_id_x0_126224</td>\n",
       "      <td>partner_id_x0_157780</td>\n",
       "      <td>transaction_month_x0_11</td>\n",
       "      <td>partner_category_x0_cat_8</td>\n",
       "      <td>partner_pricing_category_x0_4</td>\n",
       "      <td>partner_pricing_category_x0_2</td>\n",
       "      <td>transaction_weekday_x0_4</td>\n",
       "      <td>credit_x0_0</td>\n",
       "      <td>device_type_x0_windows_pcs</td>\n",
       "      <td>device_type_x0_other_pcs</td>\n",
       "      <td>device_type_x0_ios_devices</td>\n",
       "      <td>device_type_x0_android_devices</td>\n",
       "      <td>partner_category_x0_cat_9</td>\n",
       "      <td>credit_x0_1</td>\n",
       "      <td>partner_id_x0_165669</td>\n",
       "      <td>partner_category_x0_cat_6</td>\n",
       "      <td>partner_category_x0_cat_5</td>\n",
       "      <td>partner_category_x0_cat_4</td>\n",
       "      <td>partner_category_x0_cat_3</td>\n",
       "      <td>partner_category_x0_cat_1</td>\n",
       "      <td>partner_id_x0_213003</td>\n",
       "      <td>partner_id_x0_189336</td>\n",
       "      <td>partner_id_x0_181447</td>\n",
       "      <td>partner_id_x0_173558</td>\n",
       "      <td>partner_category_x0_cat_7</td>\n",
       "    </tr>\n",
       "    <tr>\n",
       "      <th>1</th>\n",
       "      <td>0.258445</td>\n",
       "      <td>0.0773039</td>\n",
       "      <td>0.069633</td>\n",
       "      <td>0.0529348</td>\n",
       "      <td>0.0448911</td>\n",
       "      <td>0.0431302</td>\n",
       "      <td>0.0415842</td>\n",
       "      <td>0.0289235</td>\n",
       "      <td>0.0284864</td>\n",
       "      <td>0.0284612</td>\n",
       "      <td>0.0273591</td>\n",
       "      <td>0.0272558</td>\n",
       "      <td>0.0269742</td>\n",
       "      <td>0.024389</td>\n",
       "      <td>0.0243301</td>\n",
       "      <td>0.0233958</td>\n",
       "      <td>0.0223827</td>\n",
       "      <td>0.022356</td>\n",
       "      <td>0.0216</td>\n",
       "      <td>0.0205452</td>\n",
       "      <td>0.0203853</td>\n",
       "      <td>0.0171397</td>\n",
       "      <td>0.0169843</td>\n",
       "      <td>0.0159181</td>\n",
       "      <td>0.0094268</td>\n",
       "      <td>0.00576412</td>\n",
       "      <td>0</td>\n",
       "      <td>0</td>\n",
       "      <td>0</td>\n",
       "      <td>0</td>\n",
       "      <td>0</td>\n",
       "      <td>0</td>\n",
       "      <td>0</td>\n",
       "      <td>0</td>\n",
       "      <td>0</td>\n",
       "      <td>0</td>\n",
       "      <td>0</td>\n",
       "      <td>0</td>\n",
       "      <td>0</td>\n",
       "      <td>0</td>\n",
       "      <td>0</td>\n",
       "      <td>0</td>\n",
       "      <td>0</td>\n",
       "      <td>0</td>\n",
       "      <td>0</td>\n",
       "      <td>0</td>\n",
       "      <td>0</td>\n",
       "      <td>0</td>\n",
       "      <td>0</td>\n",
       "      <td>0</td>\n",
       "      <td>0</td>\n",
       "      <td>0</td>\n",
       "      <td>0</td>\n",
       "      <td>0</td>\n",
       "      <td>0</td>\n",
       "      <td>0</td>\n",
       "      <td>0</td>\n",
       "      <td>0</td>\n",
       "      <td>0</td>\n",
       "      <td>0</td>\n",
       "      <td>0</td>\n",
       "      <td>0</td>\n",
       "      <td>0</td>\n",
       "      <td>0</td>\n",
       "      <td>0</td>\n",
       "      <td>0</td>\n",
       "      <td>0</td>\n",
       "      <td>0</td>\n",
       "      <td>0</td>\n",
       "      <td>0</td>\n",
       "      <td>0</td>\n",
       "      <td>0</td>\n",
       "      <td>0</td>\n",
       "      <td>0</td>\n",
       "    </tr>\n",
       "  </tbody>\n",
       "</table>\n",
       "</div>"
      ],
      "text/plain": [
       "                  0                         1  \\\n",
       "0  money_transacted  transaction_weekday_x0_2   \n",
       "1          0.258445                 0.0773039   \n",
       "\n",
       "                                            2                       3  \\\n",
       "0  payment_method_x0_visa_master_credit_cards  transaction_month_x0_1   \n",
       "1                                    0.069633               0.0529348   \n",
       "\n",
       "                   4                       5                    6  \\\n",
       "0  date_binned_x0_21  transaction_month_x0_2  partner_id_x0_78890   \n",
       "1          0.0448911               0.0431302            0.0415842   \n",
       "\n",
       "                               7                              8  \\\n",
       "0  partner_pricing_category_x0_1  partner_pricing_category_x0_0   \n",
       "1                      0.0289235                      0.0284864   \n",
       "\n",
       "                          9                10                 11  \\\n",
       "0  transaction_weekday_x0_5  date_binned_x0_1  date_binned_x0_13   \n",
       "1                 0.0284612         0.0273591          0.0272558   \n",
       "\n",
       "                  12                         13                        14  \\\n",
       "0  date_binned_x0_25  partner_category_x0_cat_2  transaction_weekday_x0_0   \n",
       "1          0.0269742                   0.024389                 0.0243301   \n",
       "\n",
       "                                    15                16  \\\n",
       "0  payment_method_x0_other_debit_cards  hour_binned_x0_6   \n",
       "1                            0.0233958         0.0223827   \n",
       "\n",
       "                        17                 18                 19  \\\n",
       "0  transaction_month_x0_12  hour_binned_x0_12  date_binned_x0_29   \n",
       "1                 0.022356             0.0216          0.0205452   \n",
       "\n",
       "                         20                        21  \\\n",
       "0  transaction_year_x0_2016  transaction_weekday_x0_1   \n",
       "1                 0.0203853                 0.0171397   \n",
       "\n",
       "                         22                        23                 24  \\\n",
       "0  transaction_weekday_x0_6  transaction_weekday_x0_3  hour_binned_x0_18   \n",
       "1                 0.0169843                 0.0159181          0.0094268   \n",
       "\n",
       "                 25                        26                   27  \\\n",
       "0  date_binned_x0_5  transaction_year_x0_2017  partner_id_x0_47334   \n",
       "1        0.00576412                         0                    0   \n",
       "\n",
       "                     28                    29                    30  \\\n",
       "0  partner_id_x0_118335  partner_id_x0_110446  partner_id_x0_102557   \n",
       "1                     0                     0                     0   \n",
       "\n",
       "                    31                   32                33  \\\n",
       "0  partner_id_x0_94668  partner_id_x0_86779  date_binned_x0_9   \n",
       "1                    0                    0                 0   \n",
       "\n",
       "                    34                   35                   36  \\\n",
       "0  partner_id_x0_71001  partner_id_x0_63112  partner_id_x0_55223   \n",
       "1                    0                    0                    0   \n",
       "\n",
       "                    37                    38                   39  \\\n",
       "0  partner_id_x0_39445  partner_id_x0_149891  partner_id_x0_31556   \n",
       "1                    0                     0                    0   \n",
       "\n",
       "                    40                   41                  42  \\\n",
       "0  partner_id_x0_23667  partner_id_x0_15778  partner_id_x0_7889   \n",
       "1                    0                    0                   0   \n",
       "\n",
       "                                          43                 44  \\\n",
       "0  payment_method_x0_visa_master_debit_cards  date_binned_x0_17   \n",
       "1                                          0                  0   \n",
       "\n",
       "                                             45  \\\n",
       "0  payment_method_x0_unified_payments_interface   \n",
       "1                                             0   \n",
       "\n",
       "                                         46                47  \\\n",
       "0  payment_method_x0_sbi_atm_cum_debit_card  hour_binned_x0_0   \n",
       "1                                         0                 0   \n",
       "\n",
       "                                    48                    49  \\\n",
       "0  payment_method_x0_e_wallet_payments  partner_id_x0_126224   \n",
       "1                                    0                     0   \n",
       "\n",
       "                     50                       51                         52  \\\n",
       "0  partner_id_x0_157780  transaction_month_x0_11  partner_category_x0_cat_8   \n",
       "1                     0                        0                          0   \n",
       "\n",
       "                              53                             54  \\\n",
       "0  partner_pricing_category_x0_4  partner_pricing_category_x0_2   \n",
       "1                              0                              0   \n",
       "\n",
       "                         55           56                          57  \\\n",
       "0  transaction_weekday_x0_4  credit_x0_0  device_type_x0_windows_pcs   \n",
       "1                         0            0                           0   \n",
       "\n",
       "                         58                          59  \\\n",
       "0  device_type_x0_other_pcs  device_type_x0_ios_devices   \n",
       "1                         0                           0   \n",
       "\n",
       "                               60                         61           62  \\\n",
       "0  device_type_x0_android_devices  partner_category_x0_cat_9  credit_x0_1   \n",
       "1                               0                          0            0   \n",
       "\n",
       "                     63                         64                         65  \\\n",
       "0  partner_id_x0_165669  partner_category_x0_cat_6  partner_category_x0_cat_5   \n",
       "1                     0                          0                          0   \n",
       "\n",
       "                          66                         67  \\\n",
       "0  partner_category_x0_cat_4  partner_category_x0_cat_3   \n",
       "1                          0                          0   \n",
       "\n",
       "                          68                    69                    70  \\\n",
       "0  partner_category_x0_cat_1  partner_id_x0_213003  partner_id_x0_189336   \n",
       "1                          0                     0                     0   \n",
       "\n",
       "                     71                    72                         73  \n",
       "0  partner_id_x0_181447  partner_id_x0_173558  partner_category_x0_cat_7  \n",
       "1                     0                     0                          0  "
      ]
     },
     "execution_count": 105,
     "metadata": {},
     "output_type": "execute_result"
    }
   ],
   "source": [
    "features = X_train_final.columns\n",
    "importances = XGB_model.feature_importances_\n",
    "\n",
    "indices = np.argsort(importances)[::-1]\n",
    "\n",
    "pd.set_option('max_columns',None)\n",
    "pd.DataFrame([X_train_final.columns[indices],np.sort(importances)[::-1]])"
   ]
  },
  {
   "cell_type": "code",
   "execution_count": 106,
   "metadata": {},
   "outputs": [
    {
     "data": {
      "image/png": "[encoded data removed]",
      "text/plain": [
       "<Figure size 864x720 with 1 Axes>"
      ]
     },
     "metadata": {},
     "output_type": "display_data"
    }
   ],
   "source": [
    "plt.figure(figsize = (12,10))\n",
    "plt.title('Feature Importances')\n",
    "plt.barh(range(len(indices)), importances[indices], color='blue')\n",
    "plt.yticks(range(len(indices)), [features[i] for i in indices])\n",
    "plt.xlabel('Relative Importance')\n",
    "plt.savefig('imp_feat.png')"
   ]
  },
  {
   "cell_type": "code",
   "execution_count": 107,
   "metadata": {},
   "outputs": [
    {
     "name": "stdout",
     "output_type": "stream",
     "text": [
      "[0, 55, 5, 49, 67, 50, 16, 44, 43, 58, 62, 65, 68, 31, 53, 2, 71, 52, 72, 69, 47, 54, 59, 56, 73, 63]\n",
      "26\n"
     ]
    }
   ],
   "source": [
    "imp_indices = []\n",
    "for x in indices:\n",
    "    if importances[x] > 0:\n",
    "        imp_indices.append(x)\n",
    "        \n",
    "print(imp_indices)\n",
    "print(len(imp_indices))"
   ]
  },
  {
   "cell_type": "code",
   "execution_count": 108,
   "metadata": {},
   "outputs": [
    {
     "name": "stdout",
     "output_type": "stream",
     "text": [
      "['money_transacted', 'transaction_weekday_x0_2', 'payment_method_x0_visa_master_credit_cards', 'transaction_month_x0_1', 'date_binned_x0_21', 'transaction_month_x0_2', 'partner_id_x0_78890', 'partner_pricing_category_x0_1', 'partner_pricing_category_x0_0', 'transaction_weekday_x0_5', 'date_binned_x0_1', 'date_binned_x0_13', 'date_binned_x0_25', 'partner_category_x0_cat_2', 'transaction_weekday_x0_0', 'payment_method_x0_other_debit_cards', 'hour_binned_x0_6', 'transaction_month_x0_12', 'hour_binned_x0_12', 'date_binned_x0_29', 'transaction_year_x0_2016', 'transaction_weekday_x0_1', 'transaction_weekday_x0_6', 'transaction_weekday_x0_3', 'hour_binned_x0_18', 'date_binned_x0_5']\n"
     ]
    }
   ],
   "source": [
    "imp_cols = list(X_train_final.columns[imp_indices])\n",
    "print(imp_cols)"
   ]
  },
  {
   "cell_type": "code",
   "execution_count": 109,
   "metadata": {},
   "outputs": [],
   "source": [
    "XGB_model.fit(X_train_final[imp_cols],y_train)\n",
    "\n",
    "y_pred_train = XGB_model.predict(X_train_final[imp_cols])\n",
    "y_pred_val = XGB_model.predict(X_val_final[imp_cols])"
   ]
  },
  {
   "cell_type": "code",
   "execution_count": 110,
   "metadata": {},
   "outputs": [
    {
     "name": "stdout",
     "output_type": "stream",
     "text": [
      "\n",
      "            =========================================================\n",
      "            CLASSIFICATION REPORT AND CONFUSION MATRIX FOR TRAIN DATA\n",
      "            =========================================================\n",
      "            \n",
      "Predicted      0    1\n",
      "Actual               \n",
      "0          61096    4\n",
      "1              7  116\n",
      "              precision    recall  f1-score   support\n",
      "\n",
      "           0     0.9999    0.9999    0.9999     61100\n",
      "           1     0.9667    0.9431    0.9547       123\n",
      "\n",
      "    accuracy                         0.9998     61223\n",
      "   macro avg     0.9833    0.9715    0.9773     61223\n",
      "weighted avg     0.9998    0.9998    0.9998     61223\n",
      "\n",
      "\n",
      "            =========================================================\n",
      "            CLASSIFICATION REPORT AND CONFUSION MATRIX FOR Val DATA\n",
      "            =========================================================\n",
      "            \n",
      "Predicted      0   1\n",
      "Actual              \n",
      "0          15272   3\n",
      "1              3  28\n",
      "              precision    recall  f1-score   support\n",
      "\n",
      "           0     0.9998    0.9998    0.9998     15275\n",
      "           1     0.9032    0.9032    0.9032        31\n",
      "\n",
      "    accuracy                         0.9996     15306\n",
      "   macro avg     0.9515    0.9515    0.9515     15306\n",
      "weighted avg     0.9996    0.9996    0.9996     15306\n",
      "\n"
     ]
    },
    {
     "data": {
      "text/html": [
       "<div>\n",
       "<style scoped>\n",
       "    .dataframe tbody tr th:only-of-type {\n",
       "        vertical-align: middle;\n",
       "    }\n",
       "\n",
       "    .dataframe tbody tr th {\n",
       "        vertical-align: top;\n",
       "    }\n",
       "\n",
       "    .dataframe thead th {\n",
       "        text-align: right;\n",
       "    }\n",
       "</style>\n",
       "<table border=\"1\" class=\"dataframe\">\n",
       "  <thead>\n",
       "    <tr style=\"text-align: right;\">\n",
       "      <th></th>\n",
       "      <th>Model</th>\n",
       "      <th>Train_F1_Score</th>\n",
       "      <th>Val_F1_Score</th>\n",
       "      <th>Train_Recall</th>\n",
       "      <th>Val_Recall</th>\n",
       "      <th>Train_Precision</th>\n",
       "      <th>Val_Precision</th>\n",
       "      <th>Train_Accuracy</th>\n",
       "      <th>Val_Accuracy</th>\n",
       "    </tr>\n",
       "  </thead>\n",
       "  <tbody>\n",
       "    <tr>\n",
       "      <th>0</th>\n",
       "      <td>LogisticRegression</td>\n",
       "      <td>0.471204</td>\n",
       "      <td>0.311111</td>\n",
       "      <td>0.365854</td>\n",
       "      <td>0.225806</td>\n",
       "      <td>0.661765</td>\n",
       "      <td>0.500000</td>\n",
       "      <td>0.998350</td>\n",
       "      <td>0.997975</td>\n",
       "    </tr>\n",
       "    <tr>\n",
       "      <th>1</th>\n",
       "      <td>LogisticRegression Balanced</td>\n",
       "      <td>0.522293</td>\n",
       "      <td>0.462687</td>\n",
       "      <td>1.000000</td>\n",
       "      <td>1.000000</td>\n",
       "      <td>0.353448</td>\n",
       "      <td>0.300971</td>\n",
       "      <td>0.996325</td>\n",
       "      <td>0.995296</td>\n",
       "    </tr>\n",
       "    <tr>\n",
       "      <th>2</th>\n",
       "      <td>DecisionTree Normal</td>\n",
       "      <td>0.983607</td>\n",
       "      <td>0.896552</td>\n",
       "      <td>0.975610</td>\n",
       "      <td>0.838710</td>\n",
       "      <td>0.991736</td>\n",
       "      <td>0.962963</td>\n",
       "      <td>0.999935</td>\n",
       "      <td>0.999608</td>\n",
       "    </tr>\n",
       "    <tr>\n",
       "      <th>3</th>\n",
       "      <td>DecisionTree Balanced</td>\n",
       "      <td>0.984000</td>\n",
       "      <td>0.885246</td>\n",
       "      <td>1.000000</td>\n",
       "      <td>0.870968</td>\n",
       "      <td>0.968504</td>\n",
       "      <td>0.900000</td>\n",
       "      <td>0.999935</td>\n",
       "      <td>0.999543</td>\n",
       "    </tr>\n",
       "    <tr>\n",
       "      <th>4</th>\n",
       "      <td>DecisionTree Imp Params</td>\n",
       "      <td>0.984000</td>\n",
       "      <td>0.885246</td>\n",
       "      <td>1.000000</td>\n",
       "      <td>0.870968</td>\n",
       "      <td>0.968504</td>\n",
       "      <td>0.900000</td>\n",
       "      <td>0.999935</td>\n",
       "      <td>0.999543</td>\n",
       "    </tr>\n",
       "    <tr>\n",
       "      <th>5</th>\n",
       "      <td>Random Forest Classifier</td>\n",
       "      <td>0.309252</td>\n",
       "      <td>0.319588</td>\n",
       "      <td>0.991870</td>\n",
       "      <td>1.000000</td>\n",
       "      <td>0.183183</td>\n",
       "      <td>0.190184</td>\n",
       "      <td>0.991098</td>\n",
       "      <td>0.991376</td>\n",
       "    </tr>\n",
       "    <tr>\n",
       "      <th>6</th>\n",
       "      <td>XGB Classifier</td>\n",
       "      <td>0.954733</td>\n",
       "      <td>0.903226</td>\n",
       "      <td>0.943089</td>\n",
       "      <td>0.903226</td>\n",
       "      <td>0.966667</td>\n",
       "      <td>0.903226</td>\n",
       "      <td>0.999820</td>\n",
       "      <td>0.999608</td>\n",
       "    </tr>\n",
       "    <tr>\n",
       "      <th>7</th>\n",
       "      <td>XGB Classifier Imp features</td>\n",
       "      <td>0.954733</td>\n",
       "      <td>0.903226</td>\n",
       "      <td>0.943089</td>\n",
       "      <td>0.903226</td>\n",
       "      <td>0.966667</td>\n",
       "      <td>0.903226</td>\n",
       "      <td>0.999820</td>\n",
       "      <td>0.999608</td>\n",
       "    </tr>\n",
       "  </tbody>\n",
       "</table>\n",
       "</div>"
      ],
      "text/plain": [
       "                         Model  Train_F1_Score  Val_F1_Score  Train_Recall  \\\n",
       "0           LogisticRegression        0.471204      0.311111      0.365854   \n",
       "1  LogisticRegression Balanced        0.522293      0.462687      1.000000   \n",
       "2          DecisionTree Normal        0.983607      0.896552      0.975610   \n",
       "3        DecisionTree Balanced        0.984000      0.885246      1.000000   \n",
       "4      DecisionTree Imp Params        0.984000      0.885246      1.000000   \n",
       "5     Random Forest Classifier        0.309252      0.319588      0.991870   \n",
       "6               XGB Classifier        0.954733      0.903226      0.943089   \n",
       "7  XGB Classifier Imp features        0.954733      0.903226      0.943089   \n",
       "\n",
       "   Val_Recall  Train_Precision  Val_Precision  Train_Accuracy  Val_Accuracy  \n",
       "0    0.225806         0.661765       0.500000        0.998350      0.997975  \n",
       "1    1.000000         0.353448       0.300971        0.996325      0.995296  \n",
       "2    0.838710         0.991736       0.962963        0.999935      0.999608  \n",
       "3    0.870968         0.968504       0.900000        0.999935      0.999543  \n",
       "4    0.870968         0.968504       0.900000        0.999935      0.999543  \n",
       "5    1.000000         0.183183       0.190184        0.991098      0.991376  \n",
       "6    0.903226         0.966667       0.903226        0.999820      0.999608  \n",
       "7    0.903226         0.966667       0.903226        0.999820      0.999608  "
      ]
     },
     "execution_count": 110,
     "metadata": {},
     "output_type": "execute_result"
    }
   ],
   "source": [
    "scores = get_metrics(y_train,y_pred_train,y_val,y_pred_val,\"XGB Classifier Imp features\",scores)\n",
    "scores"
   ]
  },
  {
   "cell_type": "markdown",
   "metadata": {},
   "source": [
    "## XGBoost Classifier gave the best results among all the above models with relatively less overfitting"
   ]
  },
  {
   "cell_type": "markdown",
   "metadata": {},
   "source": [
    "### From the above we can see that Money_transacted, payment methods and partner columns are more important features to detect a fraudulent transaction.\n",
    "\n",
    "#### Measures to be taken to reduce the fraudulent transactions in future:\n",
    "* Specifing a transaction limit like 2000 or 3000, because most of the transactions above that value are fraudulent can help.\n",
    "* Most of the fraud payments are done through cards, using two or three step verifications for card payments can help reduce the fraud transactons.\n",
    "* Flagging the partner whos is making fraudulent transactions or blocking their membership can help."
   ]
  },
  {
   "cell_type": "code",
   "execution_count": null,
   "metadata": {},
   "outputs": [],
   "source": []
  }
 ],
 "metadata": {
  "kernelspec": {
   "display_name": "Python 3",
   "language": "python",
   "name": "python3"
  },
  "language_info": {
   "codemirror_mode": {
    "name": "ipython",
    "version": 3
   },
   "file_extension": ".py",
   "mimetype": "text/x-python",
   "name": "python",
   "nbconvert_exporter": "python",
   "pygments_lexer": "ipython3",
   "version": "3.8.3"
  }
 },
 "nbformat": 4,
 "nbformat_minor": 4
}
